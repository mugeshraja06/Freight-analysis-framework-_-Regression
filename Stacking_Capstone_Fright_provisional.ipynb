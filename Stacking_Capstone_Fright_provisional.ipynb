{
  "nbformat": 4,
  "nbformat_minor": 0,
  "metadata": {
    "colab": {
      "name": "Stacking: Capstone_Fright_provisional",
      "provenance": [],
      "collapsed_sections": []
    },
    "kernelspec": {
      "name": "python3",
      "display_name": "Python 3"
    },
    "accelerator": "GPU"
  },
  "cells": [
    {
      "cell_type": "code",
      "metadata": {
        "id": "YMbgEUtwCNqE",
        "colab_type": "code",
        "colab": {}
      },
      "source": [
        "import numpy as np\n",
        "import pandas as pd\n",
        "import seaborn as sns\n",
        "import matplotlib.pyplot as plt"
      ],
      "execution_count": 0,
      "outputs": []
    },
    {
      "cell_type": "code",
      "metadata": {
        "id": "eUv_KOpjxztU",
        "colab_type": "code",
        "outputId": "91e199d2-18b6-48bb-9959-b2dbf68a1f18",
        "colab": {
          "base_uri": "https://localhost:8080/",
          "height": 204
        }
      },
      "source": [
        "df = pd.read_csv('/content/faf35_provi_2012_final.csv')\n",
        "\n",
        "df.head()"
      ],
      "execution_count": 0,
      "outputs": [
        {
          "output_type": "execute_result",
          "data": {
            "text/html": [
              "<div>\n",
              "<style scoped>\n",
              "    .dataframe tbody tr th:only-of-type {\n",
              "        vertical-align: middle;\n",
              "    }\n",
              "\n",
              "    .dataframe tbody tr th {\n",
              "        vertical-align: top;\n",
              "    }\n",
              "\n",
              "    .dataframe thead th {\n",
              "        text-align: right;\n",
              "    }\n",
              "</style>\n",
              "<table border=\"1\" class=\"dataframe\">\n",
              "  <thead>\n",
              "    <tr style=\"text-align: right;\">\n",
              "      <th></th>\n",
              "      <th>Unnamed: 0</th>\n",
              "      <th>fr_orig</th>\n",
              "      <th>dms_origst</th>\n",
              "      <th>dms_destst</th>\n",
              "      <th>fr_dest</th>\n",
              "      <th>fr_inmode</th>\n",
              "      <th>dms_mode</th>\n",
              "      <th>fr_outmode</th>\n",
              "      <th>sctg2</th>\n",
              "      <th>trade_type</th>\n",
              "      <th>tons_2012</th>\n",
              "      <th>tmiles_2012</th>\n",
              "      <th>value_log</th>\n",
              "    </tr>\n",
              "  </thead>\n",
              "  <tbody>\n",
              "    <tr>\n",
              "      <th>0</th>\n",
              "      <td>0</td>\n",
              "      <td>801</td>\n",
              "      <td>22</td>\n",
              "      <td>1</td>\n",
              "      <td>0</td>\n",
              "      <td>4</td>\n",
              "      <td>4</td>\n",
              "      <td>0</td>\n",
              "      <td>33</td>\n",
              "      <td>2</td>\n",
              "      <td>-7.013116</td>\n",
              "      <td>-8.086548</td>\n",
              "      <td>-1.760261</td>\n",
              "    </tr>\n",
              "    <tr>\n",
              "      <th>1</th>\n",
              "      <td>1</td>\n",
              "      <td>0</td>\n",
              "      <td>4</td>\n",
              "      <td>34</td>\n",
              "      <td>806</td>\n",
              "      <td>0</td>\n",
              "      <td>1</td>\n",
              "      <td>3</td>\n",
              "      <td>24</td>\n",
              "      <td>3</td>\n",
              "      <td>-3.661264</td>\n",
              "      <td>-2.766927</td>\n",
              "      <td>-2.189256</td>\n",
              "    </tr>\n",
              "    <tr>\n",
              "      <th>2</th>\n",
              "      <td>2</td>\n",
              "      <td>801</td>\n",
              "      <td>50</td>\n",
              "      <td>40</td>\n",
              "      <td>0</td>\n",
              "      <td>2</td>\n",
              "      <td>2</td>\n",
              "      <td>0</td>\n",
              "      <td>4</td>\n",
              "      <td>2</td>\n",
              "      <td>-4.518992</td>\n",
              "      <td>-4.028987</td>\n",
              "      <td>-6.812445</td>\n",
              "    </tr>\n",
              "    <tr>\n",
              "      <th>3</th>\n",
              "      <td>3</td>\n",
              "      <td>0</td>\n",
              "      <td>2</td>\n",
              "      <td>9</td>\n",
              "      <td>0</td>\n",
              "      <td>0</td>\n",
              "      <td>1</td>\n",
              "      <td>0</td>\n",
              "      <td>30</td>\n",
              "      <td>1</td>\n",
              "      <td>-9.210340</td>\n",
              "      <td>-7.853217</td>\n",
              "      <td>-7.130899</td>\n",
              "    </tr>\n",
              "    <tr>\n",
              "      <th>4</th>\n",
              "      <td>4</td>\n",
              "      <td>0</td>\n",
              "      <td>54</td>\n",
              "      <td>6</td>\n",
              "      <td>802</td>\n",
              "      <td>0</td>\n",
              "      <td>1</td>\n",
              "      <td>1</td>\n",
              "      <td>36</td>\n",
              "      <td>3</td>\n",
              "      <td>-4.193061</td>\n",
              "      <td>-3.262460</td>\n",
              "      <td>-2.670754</td>\n",
              "    </tr>\n",
              "  </tbody>\n",
              "</table>\n",
              "</div>"
            ],
            "text/plain": [
              "   Unnamed: 0  fr_orig  dms_origst  ...  tons_2012  tmiles_2012  value_log\n",
              "0           0      801          22  ...  -7.013116    -8.086548  -1.760261\n",
              "1           1        0           4  ...  -3.661264    -2.766927  -2.189256\n",
              "2           2      801          50  ...  -4.518992    -4.028987  -6.812445\n",
              "3           3        0           2  ...  -9.210340    -7.853217  -7.130899\n",
              "4           4        0          54  ...  -4.193061    -3.262460  -2.670754\n",
              "\n",
              "[5 rows x 13 columns]"
            ]
          },
          "metadata": {
            "tags": []
          },
          "execution_count": 24
        }
      ]
    },
    {
      "cell_type": "code",
      "metadata": {
        "id": "ijcbtn3dU3hk",
        "colab_type": "code",
        "outputId": "052ce8ba-3182-4857-e2a1-b9af05e44d01",
        "colab": {
          "base_uri": "https://localhost:8080/",
          "height": 85
        }
      },
      "source": [
        "df.columns"
      ],
      "execution_count": 0,
      "outputs": [
        {
          "output_type": "execute_result",
          "data": {
            "text/plain": [
              "Index(['Unnamed: 0', 'fr_orig', 'dms_origst', 'dms_destst', 'fr_dest',\n",
              "       'fr_inmode', 'dms_mode', 'fr_outmode', 'sctg2', 'trade_type',\n",
              "       'tons_2012', 'tmiles_2012', 'value_log'],\n",
              "      dtype='object')"
            ]
          },
          "metadata": {
            "tags": []
          },
          "execution_count": 25
        }
      ]
    },
    {
      "cell_type": "code",
      "metadata": {
        "id": "Il39LYF40l7l",
        "colab_type": "code",
        "colab": {}
      },
      "source": [
        "df =df.drop('Unnamed: 0', axis=1)"
      ],
      "execution_count": 0,
      "outputs": []
    },
    {
      "cell_type": "code",
      "metadata": {
        "id": "ySgIHrUwSyCL",
        "colab_type": "code",
        "outputId": "46c8f135-d824-4e3e-c166-005b4e2d228a",
        "colab": {
          "base_uri": "https://localhost:8080/",
          "height": 238
        }
      },
      "source": [
        "df.isnull().sum()"
      ],
      "execution_count": 0,
      "outputs": [
        {
          "output_type": "execute_result",
          "data": {
            "text/plain": [
              "fr_orig        0\n",
              "dms_origst     0\n",
              "dms_destst     0\n",
              "fr_dest        0\n",
              "fr_inmode      0\n",
              "dms_mode       0\n",
              "fr_outmode     0\n",
              "sctg2          0\n",
              "trade_type     0\n",
              "tons_2012      0\n",
              "tmiles_2012    0\n",
              "value_log      0\n",
              "dtype: int64"
            ]
          },
          "metadata": {
            "tags": []
          },
          "execution_count": 27
        }
      ]
    },
    {
      "cell_type": "code",
      "metadata": {
        "id": "kQtLOmQ71IQf",
        "colab_type": "code",
        "outputId": "6bde808e-e654-43f0-bf24-33cb2ea8af13",
        "colab": {
          "base_uri": "https://localhost:8080/",
          "height": 306
        }
      },
      "source": [
        "df.info()"
      ],
      "execution_count": 0,
      "outputs": [
        {
          "output_type": "stream",
          "text": [
            "<class 'pandas.core.frame.DataFrame'>\n",
            "RangeIndex: 373990 entries, 0 to 373989\n",
            "Data columns (total 12 columns):\n",
            "fr_orig        373990 non-null int64\n",
            "dms_origst     373990 non-null int64\n",
            "dms_destst     373990 non-null int64\n",
            "fr_dest        373990 non-null int64\n",
            "fr_inmode      373990 non-null int64\n",
            "dms_mode       373990 non-null int64\n",
            "fr_outmode     373990 non-null int64\n",
            "sctg2          373990 non-null int64\n",
            "trade_type     373990 non-null int64\n",
            "tons_2012      373990 non-null float64\n",
            "tmiles_2012    373990 non-null float64\n",
            "value_log      373990 non-null float64\n",
            "dtypes: float64(3), int64(9)\n",
            "memory usage: 34.2 MB\n"
          ],
          "name": "stdout"
        }
      ]
    },
    {
      "cell_type": "markdown",
      "metadata": {
        "id": "vNEsldt6RM3Q",
        "colab_type": "text"
      },
      "source": [
        "X and Y Variables"
      ]
    },
    {
      "cell_type": "code",
      "metadata": {
        "id": "Lu052qvhQ20U",
        "colab_type": "code",
        "colab": {}
      },
      "source": [
        ""
      ],
      "execution_count": 0,
      "outputs": []
    },
    {
      "cell_type": "code",
      "metadata": {
        "id": "ggYOhBm1tN4S",
        "colab_type": "code",
        "colab": {}
      },
      "source": [
        "X= df.drop('value_log', axis=1)\n",
        "y= df['value_log']"
      ],
      "execution_count": 0,
      "outputs": []
    },
    {
      "cell_type": "code",
      "metadata": {
        "id": "kSMbcvtDmf37",
        "colab_type": "code",
        "colab": {}
      },
      "source": [
        ""
      ],
      "execution_count": 0,
      "outputs": []
    },
    {
      "cell_type": "code",
      "metadata": {
        "id": "8FYdohpot9xy",
        "colab_type": "code",
        "colab": {}
      },
      "source": [
        "from sklearn.model_selection import train_test_split, cross_val_score, GridSearchCV, KFold"
      ],
      "execution_count": 0,
      "outputs": []
    },
    {
      "cell_type": "code",
      "metadata": {
        "id": "Y6_e_pGuuBEM",
        "colab_type": "code",
        "colab": {}
      },
      "source": [
        "X_train,X_test,y_train,y_test= train_test_split(X, y, test_size=0.3, random_state=42)"
      ],
      "execution_count": 0,
      "outputs": []
    },
    {
      "cell_type": "code",
      "metadata": {
        "id": "2WRUVYgXtN1I",
        "colab_type": "code",
        "outputId": "a6300d5d-2242-41cd-bcc6-4fc7cb601eed",
        "colab": {
          "base_uri": "https://localhost:8080/",
          "height": 683
        }
      },
      "source": [
        "import statsmodels.api as sm\n",
        "\n",
        "Xc=sm.add_constant(X)\n",
        "lin_reg=sm.OLS(y_train,X_train)\n",
        "result=lin_reg.fit()\n",
        "print(result.summary())"
      ],
      "execution_count": 0,
      "outputs": [
        {
          "output_type": "stream",
          "text": [
            "/usr/local/lib/python3.6/dist-packages/numpy/core/fromnumeric.py:2495: FutureWarning: Method .ptp is deprecated and will be removed in a future version. Use numpy.ptp instead.\n",
            "  return ptp(axis=axis, out=out, **kwargs)\n"
          ],
          "name": "stderr"
        },
        {
          "output_type": "stream",
          "text": [
            "                                 OLS Regression Results                                \n",
            "=======================================================================================\n",
            "Dep. Variable:              value_log   R-squared (uncentered):                   0.776\n",
            "Model:                            OLS   Adj. R-squared (uncentered):              0.776\n",
            "Method:                 Least Squares   F-statistic:                          8.238e+04\n",
            "Date:                Sun, 12 Jan 2020   Prob (F-statistic):                        0.00\n",
            "Time:                        16:21:30   Log-Likelihood:                     -5.3117e+05\n",
            "No. Observations:              261793   AIC:                                  1.062e+06\n",
            "Df Residuals:                  261782   BIC:                                  1.062e+06\n",
            "Df Model:                          11                                                  \n",
            "Covariance Type:            nonrobust                                                  \n",
            "===============================================================================\n",
            "                  coef    std err          t      P>|t|      [0.025      0.975]\n",
            "-------------------------------------------------------------------------------\n",
            "fr_orig        -0.0010    3.3e-05    -30.765      0.000      -0.001      -0.001\n",
            "dms_origst     -0.0004      0.000     -1.724      0.085      -0.001    5.52e-05\n",
            "dms_destst     -0.0008      0.000     -3.471      0.001      -0.001      -0.000\n",
            "fr_dest        -0.0003   5.12e-05     -5.927      0.000      -0.000      -0.000\n",
            "fr_inmode       0.2314      0.005     47.556      0.000       0.222       0.241\n",
            "dms_mode        0.1107      0.002     60.683      0.000       0.107       0.114\n",
            "fr_outmode      0.1944      0.006     34.114      0.000       0.183       0.206\n",
            "sctg2           0.0273      0.000    115.779      0.000       0.027       0.028\n",
            "trade_type     -0.5572      0.015    -36.466      0.000      -0.587      -0.527\n",
            "tons_2012       0.7750      0.004    218.286      0.000       0.768       0.782\n",
            "tmiles_2012    -0.0809      0.003    -23.416      0.000      -0.088      -0.074\n",
            "==============================================================================\n",
            "Omnibus:                     4370.209   Durbin-Watson:                   2.000\n",
            "Prob(Omnibus):                  0.000   Jarque-Bera (JB):             6007.517\n",
            "Skew:                          -0.215   Prob(JB):                         0.00\n",
            "Kurtosis:                       3.605   Cond. No.                     2.17e+03\n",
            "==============================================================================\n",
            "\n",
            "Warnings:\n",
            "[1] Standard Errors assume that the covariance matrix of the errors is correctly specified.\n",
            "[2] The condition number is large, 2.17e+03. This might indicate that there are\n",
            "strong multicollinearity or other numerical problems.\n"
          ],
          "name": "stdout"
        }
      ]
    },
    {
      "cell_type": "code",
      "metadata": {
        "id": "rHwbfrWFtNyT",
        "colab_type": "code",
        "colab": {}
      },
      "source": [
        ""
      ],
      "execution_count": 0,
      "outputs": []
    },
    {
      "cell_type": "code",
      "metadata": {
        "id": "li6zTBZStNwc",
        "colab_type": "code",
        "outputId": "0992e31b-4d72-4edc-ddb6-80c3853f8c2b",
        "colab": {
          "base_uri": "https://localhost:8080/",
          "height": 390
        }
      },
      "source": [
        "  from statsmodels.stats.outliers_influence import variance_inflation_factor\n",
        "\n",
        "vif = [variance_inflation_factor(X_train.values, i) for i in range(X_train.shape[1])]\n",
        "VIF_Housing=pd.DataFrame({'vif': vif}, index=X_train.columns)\n",
        "VIF_Housing.sort_values(by='vif')"
      ],
      "execution_count": 0,
      "outputs": [
        {
          "output_type": "execute_result",
          "data": {
            "text/html": [
              "<div>\n",
              "<style scoped>\n",
              "    .dataframe tbody tr th:only-of-type {\n",
              "        vertical-align: middle;\n",
              "    }\n",
              "\n",
              "    .dataframe tbody tr th {\n",
              "        vertical-align: top;\n",
              "    }\n",
              "\n",
              "    .dataframe thead th {\n",
              "        text-align: right;\n",
              "    }\n",
              "</style>\n",
              "<table border=\"1\" class=\"dataframe\">\n",
              "  <thead>\n",
              "    <tr style=\"text-align: right;\">\n",
              "      <th></th>\n",
              "      <th>vif</th>\n",
              "    </tr>\n",
              "  </thead>\n",
              "  <tbody>\n",
              "    <tr>\n",
              "      <th>dms_mode</th>\n",
              "      <td>2.972327</td>\n",
              "    </tr>\n",
              "    <tr>\n",
              "      <th>sctg2</th>\n",
              "      <td>4.043235</td>\n",
              "    </tr>\n",
              "    <tr>\n",
              "      <th>dms_destst</th>\n",
              "      <td>4.590273</td>\n",
              "    </tr>\n",
              "    <tr>\n",
              "      <th>dms_origst</th>\n",
              "      <td>4.775533</td>\n",
              "    </tr>\n",
              "    <tr>\n",
              "      <th>fr_inmode</th>\n",
              "      <td>7.796544</td>\n",
              "    </tr>\n",
              "    <tr>\n",
              "      <th>fr_outmode</th>\n",
              "      <td>9.511565</td>\n",
              "    </tr>\n",
              "    <tr>\n",
              "      <th>fr_orig</th>\n",
              "      <td>21.720889</td>\n",
              "    </tr>\n",
              "    <tr>\n",
              "      <th>tons_2012</th>\n",
              "      <td>21.993992</td>\n",
              "    </tr>\n",
              "    <tr>\n",
              "      <th>tmiles_2012</th>\n",
              "      <td>22.507941</td>\n",
              "    </tr>\n",
              "    <tr>\n",
              "      <th>fr_dest</th>\n",
              "      <td>49.496051</td>\n",
              "    </tr>\n",
              "    <tr>\n",
              "      <th>trade_type</th>\n",
              "      <td>94.141836</td>\n",
              "    </tr>\n",
              "  </tbody>\n",
              "</table>\n",
              "</div>"
            ],
            "text/plain": [
              "                   vif\n",
              "dms_mode      2.972327\n",
              "sctg2         4.043235\n",
              "dms_destst    4.590273\n",
              "dms_origst    4.775533\n",
              "fr_inmode     7.796544\n",
              "fr_outmode    9.511565\n",
              "fr_orig      21.720889\n",
              "tons_2012    21.993992\n",
              "tmiles_2012  22.507941\n",
              "fr_dest      49.496051\n",
              "trade_type   94.141836"
            ]
          },
          "metadata": {
            "tags": []
          },
          "execution_count": 33
        }
      ]
    },
    {
      "cell_type": "code",
      "metadata": {
        "id": "myFg_0mwtNuA",
        "colab_type": "code",
        "colab": {}
      },
      "source": [
        "X_vif=X_train.drop('trade_type', axis=1)"
      ],
      "execution_count": 0,
      "outputs": []
    },
    {
      "cell_type": "code",
      "metadata": {
        "id": "64Qh0QHOu_Zn",
        "colab_type": "code",
        "colab": {}
      },
      "source": [
        ""
      ],
      "execution_count": 0,
      "outputs": []
    },
    {
      "cell_type": "code",
      "metadata": {
        "id": "7zno1evMtNri",
        "colab_type": "code",
        "outputId": "3b267863-fe2e-4b62-d178-687884f7e800",
        "colab": {
          "base_uri": "https://localhost:8080/",
          "height": 359
        }
      },
      "source": [
        "vif = [variance_inflation_factor(X_vif.values, i) for i in range(X_vif.shape[1])]\n",
        "VIF_Housing=pd.DataFrame({'vif': vif}, index=X_vif.columns)\n",
        "VIF_Housing.sort_values(by='vif')"
      ],
      "execution_count": 0,
      "outputs": [
        {
          "output_type": "execute_result",
          "data": {
            "text/html": [
              "<div>\n",
              "<style scoped>\n",
              "    .dataframe tbody tr th:only-of-type {\n",
              "        vertical-align: middle;\n",
              "    }\n",
              "\n",
              "    .dataframe tbody tr th {\n",
              "        vertical-align: top;\n",
              "    }\n",
              "\n",
              "    .dataframe thead th {\n",
              "        text-align: right;\n",
              "    }\n",
              "</style>\n",
              "<table border=\"1\" class=\"dataframe\">\n",
              "  <thead>\n",
              "    <tr style=\"text-align: right;\">\n",
              "      <th></th>\n",
              "      <th>vif</th>\n",
              "    </tr>\n",
              "  </thead>\n",
              "  <tbody>\n",
              "    <tr>\n",
              "      <th>dms_mode</th>\n",
              "      <td>2.532377</td>\n",
              "    </tr>\n",
              "    <tr>\n",
              "      <th>sctg2</th>\n",
              "      <td>3.488224</td>\n",
              "    </tr>\n",
              "    <tr>\n",
              "      <th>dms_destst</th>\n",
              "      <td>3.751995</td>\n",
              "    </tr>\n",
              "    <tr>\n",
              "      <th>dms_origst</th>\n",
              "      <td>3.838285</td>\n",
              "    </tr>\n",
              "    <tr>\n",
              "      <th>fr_inmode</th>\n",
              "      <td>7.746094</td>\n",
              "    </tr>\n",
              "    <tr>\n",
              "      <th>fr_orig</th>\n",
              "      <td>8.723407</td>\n",
              "    </tr>\n",
              "    <tr>\n",
              "      <th>fr_outmode</th>\n",
              "      <td>9.305292</td>\n",
              "    </tr>\n",
              "    <tr>\n",
              "      <th>fr_dest</th>\n",
              "      <td>9.974952</td>\n",
              "    </tr>\n",
              "    <tr>\n",
              "      <th>tons_2012</th>\n",
              "      <td>21.922312</td>\n",
              "    </tr>\n",
              "    <tr>\n",
              "      <th>tmiles_2012</th>\n",
              "      <td>22.485952</td>\n",
              "    </tr>\n",
              "  </tbody>\n",
              "</table>\n",
              "</div>"
            ],
            "text/plain": [
              "                   vif\n",
              "dms_mode      2.532377\n",
              "sctg2         3.488224\n",
              "dms_destst    3.751995\n",
              "dms_origst    3.838285\n",
              "fr_inmode     7.746094\n",
              "fr_orig       8.723407\n",
              "fr_outmode    9.305292\n",
              "fr_dest       9.974952\n",
              "tons_2012    21.922312\n",
              "tmiles_2012  22.485952"
            ]
          },
          "metadata": {
            "tags": []
          },
          "execution_count": 35
        }
      ]
    },
    {
      "cell_type": "code",
      "metadata": {
        "id": "bzqSO9a1tNob",
        "colab_type": "code",
        "colab": {}
      },
      "source": [
        "X_vif1=X_vif.drop(['tmiles_2012', 'tons_2012'], axis=1)"
      ],
      "execution_count": 0,
      "outputs": []
    },
    {
      "cell_type": "code",
      "metadata": {
        "id": "pTe4FDCFtNj9",
        "colab_type": "code",
        "outputId": "9b785008-be72-45cd-f05a-a184382e8d19",
        "colab": {
          "base_uri": "https://localhost:8080/",
          "height": 297
        }
      },
      "source": [
        "vif = [variance_inflation_factor(X_vif1.values, i) for i in range(X_vif1.shape[1])]\n",
        "VIF_Housing=pd.DataFrame({'vif': vif}, index=X_vif1.columns)\n",
        "VIF_Housing.sort_values(by='vif')"
      ],
      "execution_count": 0,
      "outputs": [
        {
          "output_type": "execute_result",
          "data": {
            "text/html": [
              "<div>\n",
              "<style scoped>\n",
              "    .dataframe tbody tr th:only-of-type {\n",
              "        vertical-align: middle;\n",
              "    }\n",
              "\n",
              "    .dataframe tbody tr th {\n",
              "        vertical-align: top;\n",
              "    }\n",
              "\n",
              "    .dataframe thead th {\n",
              "        text-align: right;\n",
              "    }\n",
              "</style>\n",
              "<table border=\"1\" class=\"dataframe\">\n",
              "  <thead>\n",
              "    <tr style=\"text-align: right;\">\n",
              "      <th></th>\n",
              "      <th>vif</th>\n",
              "    </tr>\n",
              "  </thead>\n",
              "  <tbody>\n",
              "    <tr>\n",
              "      <th>dms_mode</th>\n",
              "      <td>2.506669</td>\n",
              "    </tr>\n",
              "    <tr>\n",
              "      <th>sctg2</th>\n",
              "      <td>3.325327</td>\n",
              "    </tr>\n",
              "    <tr>\n",
              "      <th>dms_destst</th>\n",
              "      <td>3.697821</td>\n",
              "    </tr>\n",
              "    <tr>\n",
              "      <th>dms_origst</th>\n",
              "      <td>3.774906</td>\n",
              "    </tr>\n",
              "    <tr>\n",
              "      <th>fr_inmode</th>\n",
              "      <td>7.633266</td>\n",
              "    </tr>\n",
              "    <tr>\n",
              "      <th>fr_orig</th>\n",
              "      <td>8.716065</td>\n",
              "    </tr>\n",
              "    <tr>\n",
              "      <th>fr_outmode</th>\n",
              "      <td>9.126059</td>\n",
              "    </tr>\n",
              "    <tr>\n",
              "      <th>fr_dest</th>\n",
              "      <td>9.926010</td>\n",
              "    </tr>\n",
              "  </tbody>\n",
              "</table>\n",
              "</div>"
            ],
            "text/plain": [
              "                 vif\n",
              "dms_mode    2.506669\n",
              "sctg2       3.325327\n",
              "dms_destst  3.697821\n",
              "dms_origst  3.774906\n",
              "fr_inmode   7.633266\n",
              "fr_orig     8.716065\n",
              "fr_outmode  9.126059\n",
              "fr_dest     9.926010"
            ]
          },
          "metadata": {
            "tags": []
          },
          "execution_count": 37
        }
      ]
    },
    {
      "cell_type": "code",
      "metadata": {
        "id": "3DNLUPCbvMt3",
        "colab_type": "code",
        "outputId": "19ece6a0-84f0-4dcf-c421-c8db011e7da9",
        "colab": {
          "base_uri": "https://localhost:8080/",
          "height": 68
        }
      },
      "source": [
        "VIF_Housing.index"
      ],
      "execution_count": 0,
      "outputs": [
        {
          "output_type": "execute_result",
          "data": {
            "text/plain": [
              "Index(['fr_orig', 'dms_origst', 'dms_destst', 'fr_dest', 'fr_inmode',\n",
              "       'dms_mode', 'fr_outmode', 'sctg2'],\n",
              "      dtype='object')"
            ]
          },
          "metadata": {
            "tags": []
          },
          "execution_count": 38
        }
      ]
    },
    {
      "cell_type": "code",
      "metadata": {
        "id": "gppFiFagvdgN",
        "colab_type": "code",
        "colab": {}
      },
      "source": [
        "X1 = df[['fr_orig', 'dms_origst', 'dms_destst', 'fr_dest', 'fr_inmode',\n",
        "       'dms_mode', 'fr_outmode', 'sctg2']]\n"
      ],
      "execution_count": 0,
      "outputs": []
    },
    {
      "cell_type": "code",
      "metadata": {
        "id": "cxKrM9XQC9Z4",
        "colab_type": "code",
        "colab": {}
      },
      "source": [
        ""
      ],
      "execution_count": 0,
      "outputs": []
    },
    {
      "cell_type": "markdown",
      "metadata": {
        "id": "X-9pfH9aC98U",
        "colab_type": "text"
      },
      "source": [
        "ML _ Algorithm"
      ]
    },
    {
      "cell_type": "code",
      "metadata": {
        "id": "FqfVDKgP7MZN",
        "colab_type": "code",
        "colab": {}
      },
      "source": [
        "X= df.drop(['value_log', 'dms_origst'], axis=1)\n",
        "y= df['value_log']"
      ],
      "execution_count": 0,
      "outputs": []
    },
    {
      "cell_type": "code",
      "metadata": {
        "id": "NxCtYctWxbXf",
        "colab_type": "code",
        "colab": {}
      },
      "source": [
        "X_train,X_test,y_train,y_test= train_test_split(X, y, test_size=0.3, random_state=42)"
      ],
      "execution_count": 0,
      "outputs": []
    },
    {
      "cell_type": "code",
      "metadata": {
        "id": "scSb1fpFwJXK",
        "colab_type": "code",
        "colab": {}
      },
      "source": [
        "from sklearn.linear_model import LinearRegression\n",
        "\n",
        "# create instance\n",
        "model = LinearRegression() \n"
      ],
      "execution_count": 0,
      "outputs": []
    },
    {
      "cell_type": "code",
      "metadata": {
        "id": "BsWgtAMubZsK",
        "colab_type": "code",
        "outputId": "9be6102f-a7c7-4445-e738-97a0bde20798",
        "colab": {
          "base_uri": "https://localhost:8080/",
          "height": 51
        }
      },
      "source": [
        "from sklearn.metrics import r2_score,mean_squared_error\n",
        "from sklearn.linear_model import LinearRegression\n",
        "\n",
        "lr = LinearRegression(fit_intercept=True)\n",
        "\n",
        "lr.fit(X_train,y_train)\n",
        "y_pred_train=lr.predict(X_train)\n",
        "\n",
        "\n",
        "print(\"R2 of Train\",r2_score(y_train,y_pred_train))\n",
        "print(\"RMSE of Train\",np.sqrt(mean_squared_error(y_train,y_pred_train)))"
      ],
      "execution_count": 0,
      "outputs": [
        {
          "output_type": "stream",
          "text": [
            "R2 of Train 0.5663130776163057\n",
            "RMSE of Train 1.83583408574931\n"
          ],
          "name": "stdout"
        }
      ]
    },
    {
      "cell_type": "code",
      "metadata": {
        "id": "h07Lcg7zwBBx",
        "colab_type": "code",
        "outputId": "1d365c0b-b2e0-4ee3-b917-5c2631b8c955",
        "colab": {
          "base_uri": "https://localhost:8080/",
          "height": 134
        }
      },
      "source": [
        "model = []\n",
        "model.append(('LR', LinearRegression()))\n",
        "\n",
        "names = []\n",
        "scores = []\n",
        "\n",
        "for name, model in model:\n",
        "    \n",
        "    kfold = KFold(n_splits=10, random_state=42) \n",
        "    score = cross_val_score(model, X, y, cv=kfold).mean()\n",
        "    \n",
        "    names.append(name)\n",
        "    scores.append(score)\n",
        "kf_cross_val = pd.DataFrame({'Name': names, 'Score': scores})\n",
        "pd.DataFrame(kf_cross_val)"
      ],
      "execution_count": 0,
      "outputs": [
        {
          "output_type": "stream",
          "text": [
            "/usr/local/lib/python3.6/dist-packages/sklearn/model_selection/_split.py:296: FutureWarning: Setting a random_state has no effect since shuffle is False. This will raise an error in 0.24. You should leave random_state to its default (None), or set shuffle=True.\n",
            "  FutureWarning\n"
          ],
          "name": "stderr"
        },
        {
          "output_type": "execute_result",
          "data": {
            "text/html": [
              "<div>\n",
              "<style scoped>\n",
              "    .dataframe tbody tr th:only-of-type {\n",
              "        vertical-align: middle;\n",
              "    }\n",
              "\n",
              "    .dataframe tbody tr th {\n",
              "        vertical-align: top;\n",
              "    }\n",
              "\n",
              "    .dataframe thead th {\n",
              "        text-align: right;\n",
              "    }\n",
              "</style>\n",
              "<table border=\"1\" class=\"dataframe\">\n",
              "  <thead>\n",
              "    <tr style=\"text-align: right;\">\n",
              "      <th></th>\n",
              "      <th>Name</th>\n",
              "      <th>Score</th>\n",
              "    </tr>\n",
              "  </thead>\n",
              "  <tbody>\n",
              "    <tr>\n",
              "      <th>0</th>\n",
              "      <td>LR</td>\n",
              "      <td>0.566324</td>\n",
              "    </tr>\n",
              "  </tbody>\n",
              "</table>\n",
              "</div>"
            ],
            "text/plain": [
              "  Name     Score\n",
              "0   LR  0.566324"
            ]
          },
          "metadata": {
            "tags": []
          },
          "execution_count": 44
        }
      ]
    },
    {
      "cell_type": "code",
      "metadata": {
        "id": "ujcu_O8--6GJ",
        "colab_type": "code",
        "outputId": "74d1326d-6c3a-4896-9ba5-35cd35315390",
        "colab": {
          "base_uri": "https://localhost:8080/",
          "height": 306
        }
      },
      "source": [
        "df.info()"
      ],
      "execution_count": 0,
      "outputs": [
        {
          "output_type": "stream",
          "text": [
            "<class 'pandas.core.frame.DataFrame'>\n",
            "RangeIndex: 373990 entries, 0 to 373989\n",
            "Data columns (total 12 columns):\n",
            "fr_orig        373990 non-null int64\n",
            "dms_origst     373990 non-null int64\n",
            "dms_destst     373990 non-null int64\n",
            "fr_dest        373990 non-null int64\n",
            "fr_inmode      373990 non-null int64\n",
            "dms_mode       373990 non-null int64\n",
            "fr_outmode     373990 non-null int64\n",
            "sctg2          373990 non-null int64\n",
            "trade_type     373990 non-null int64\n",
            "tons_2012      373990 non-null float64\n",
            "tmiles_2012    373990 non-null float64\n",
            "value_log      373990 non-null float64\n",
            "dtypes: float64(3), int64(9)\n",
            "memory usage: 34.2 MB\n"
          ],
          "name": "stdout"
        }
      ]
    },
    {
      "cell_type": "code",
      "metadata": {
        "id": "kawt1-xL-6BN",
        "colab_type": "code",
        "colab": {}
      },
      "source": [
        ""
      ],
      "execution_count": 0,
      "outputs": []
    },
    {
      "cell_type": "code",
      "metadata": {
        "id": "fSArej1awA_Z",
        "colab_type": "code",
        "colab": {}
      },
      "source": [
        "\n",
        "from sklearn.tree import DecisionTreeRegressor\n",
        "from sklearn.tree import ExtraTreeRegressor\n",
        "from sklearn.ensemble import RandomForestRegressor\n",
        "from sklearn.linear_model import BayesianRidge\n",
        "from sklearn.neighbors import KNeighborsRegressor\n",
        "from sklearn.linear_model import SGDRegressor\n",
        "from sklearn.linear_model import Lasso\n",
        "from sklearn.linear_model import Ridge"
      ],
      "execution_count": 0,
      "outputs": []
    },
    {
      "cell_type": "code",
      "metadata": {
        "id": "2do3kMw8wA9R",
        "colab_type": "code",
        "colab": {}
      },
      "source": [
        "models = []\n",
        "models.append(('KNN', KNeighborsRegressor()))\n",
        "models.append(('DT', DecisionTreeRegressor(random_state=42)))\n",
        "models.append(('ET', ExtraTreeRegressor(random_state=42)))\n",
        "models.append(('BayRidge', BayesianRidge()))\n",
        "models.append(('RF', RandomForestRegressor(random_state=42)))\n",
        "models.append(('Lasso', Lasso(random_state=42)))\n",
        "models.append(('Ridge', Ridge(random_state=42)))"
      ],
      "execution_count": 0,
      "outputs": []
    },
    {
      "cell_type": "code",
      "metadata": {
        "id": "CbAUc4t6xlQg",
        "colab_type": "code",
        "colab": {}
      },
      "source": [
        "from sklearn.metrics import accuracy_score, f1_score, confusion_matrix, recall_score\n",
        "from sklearn.metrics import precision_score, classification_report, cohen_kappa_score"
      ],
      "execution_count": 0,
      "outputs": []
    },
    {
      "cell_type": "code",
      "metadata": {
        "id": "u0s_1TnE5FRs",
        "colab_type": "code",
        "colab": {}
      },
      "source": [
        "from sklearn.metrics import r2_score\n",
        "from sklearn.linear_model import LassoCV\n",
        "from sklearn.linear_model import RidgeCV"
      ],
      "execution_count": 0,
      "outputs": []
    },
    {
      "cell_type": "markdown",
      "metadata": {
        "id": "47CAtM_kW5El",
        "colab_type": "text"
      },
      "source": [
        "Regressor _ Algorithm"
      ]
    },
    {
      "cell_type": "code",
      "metadata": {
        "id": "ZupwU5VqW0Dg",
        "colab_type": "code",
        "colab": {}
      },
      "source": [
        ""
      ],
      "execution_count": 0,
      "outputs": []
    },
    {
      "cell_type": "code",
      "metadata": {
        "id": "0EFcBoAKwA5o",
        "colab_type": "code",
        "outputId": "4f2cd678-567b-4f8f-d365-abb0354db74e",
        "colab": {
          "base_uri": "https://localhost:8080/",
          "height": 266
        }
      },
      "source": [
        "names = []\n",
        "scores = []\n",
        "\n",
        "scores1 = []\n",
        "scores2 = []\n",
        "\n",
        "for name, model in models:\n",
        "    model.fit(X_train, y_train)\n",
        "    y_pred = model.predict(X_test)\n",
        "    scores.append(r2_score(y_test, y_pred))\n",
        "    \n",
        "    scores1.append(model.score(X_train,y_train))\n",
        "    scores2.append(model.score(X_test,y_test))\n",
        "    \n",
        "    names.append(name)\n",
        "tr_split = pd.DataFrame({'Name': names, 'Accuray Score': scores, 'Train score':scores1, 'Test score':scores2})\n",
        "pd.DataFrame(tr_split)"
      ],
      "execution_count": 0,
      "outputs": [
        {
          "output_type": "execute_result",
          "data": {
            "text/html": [
              "<div>\n",
              "<style scoped>\n",
              "    .dataframe tbody tr th:only-of-type {\n",
              "        vertical-align: middle;\n",
              "    }\n",
              "\n",
              "    .dataframe tbody tr th {\n",
              "        vertical-align: top;\n",
              "    }\n",
              "\n",
              "    .dataframe thead th {\n",
              "        text-align: right;\n",
              "    }\n",
              "</style>\n",
              "<table border=\"1\" class=\"dataframe\">\n",
              "  <thead>\n",
              "    <tr style=\"text-align: right;\">\n",
              "      <th></th>\n",
              "      <th>Name</th>\n",
              "      <th>Accuray Score</th>\n",
              "      <th>Train score</th>\n",
              "      <th>Test score</th>\n",
              "    </tr>\n",
              "  </thead>\n",
              "  <tbody>\n",
              "    <tr>\n",
              "      <th>0</th>\n",
              "      <td>KNN</td>\n",
              "      <td>0.806910</td>\n",
              "      <td>0.876445</td>\n",
              "      <td>0.806910</td>\n",
              "    </tr>\n",
              "    <tr>\n",
              "      <th>1</th>\n",
              "      <td>DT</td>\n",
              "      <td>0.635231</td>\n",
              "      <td>1.000000</td>\n",
              "      <td>0.635231</td>\n",
              "    </tr>\n",
              "    <tr>\n",
              "      <th>2</th>\n",
              "      <td>ET</td>\n",
              "      <td>0.595866</td>\n",
              "      <td>1.000000</td>\n",
              "      <td>0.595866</td>\n",
              "    </tr>\n",
              "    <tr>\n",
              "      <th>3</th>\n",
              "      <td>BayRidge</td>\n",
              "      <td>0.566480</td>\n",
              "      <td>0.566313</td>\n",
              "      <td>0.566480</td>\n",
              "    </tr>\n",
              "    <tr>\n",
              "      <th>4</th>\n",
              "      <td>RF</td>\n",
              "      <td>0.815342</td>\n",
              "      <td>0.974099</td>\n",
              "      <td>0.815342</td>\n",
              "    </tr>\n",
              "    <tr>\n",
              "      <th>5</th>\n",
              "      <td>Lasso</td>\n",
              "      <td>0.443786</td>\n",
              "      <td>0.445813</td>\n",
              "      <td>0.443786</td>\n",
              "    </tr>\n",
              "    <tr>\n",
              "      <th>6</th>\n",
              "      <td>Ridge</td>\n",
              "      <td>0.566378</td>\n",
              "      <td>0.566224</td>\n",
              "      <td>0.566378</td>\n",
              "    </tr>\n",
              "  </tbody>\n",
              "</table>\n",
              "</div>"
            ],
            "text/plain": [
              "       Name  Accuray Score  Train score  Test score\n",
              "0       KNN       0.806910     0.876445    0.806910\n",
              "1        DT       0.635231     1.000000    0.635231\n",
              "2        ET       0.595866     1.000000    0.595866\n",
              "3  BayRidge       0.566480     0.566313    0.566480\n",
              "4        RF       0.815342     0.974099    0.815342\n",
              "5     Lasso       0.443786     0.445813    0.443786\n",
              "6     Ridge       0.566378     0.566224    0.566378"
            ]
          },
          "metadata": {
            "tags": []
          },
          "execution_count": 91
        }
      ]
    },
    {
      "cell_type": "code",
      "metadata": {
        "id": "i93nJYrywA1g",
        "colab_type": "code",
        "outputId": "cb3a3e73-ed52-4d73-c039-5ae753a936de",
        "colab": {
          "base_uri": "https://localhost:8080/",
          "height": 279
        }
      },
      "source": [
        "plt.figure(figsize=(8,4))\n",
        "axis = sns.barplot(x = 'Name', y = 'Accuray Score', data = tr_split)\n",
        "axis.set(xlabel='Regressor', ylabel='Accuracy')\n",
        " \n",
        "for p in axis.patches:\n",
        "    height = p.get_height()\n",
        "    axis.text(p.get_x() + p.get_width()/2, height + 0.005, '{:1.4f}'.format(height), ha=\"center\") \n",
        "    \n",
        "plt.show()\n"
      ],
      "execution_count": 0,
      "outputs": [
        {
          "output_type": "display_data",
          "data": {
            "image/png": "[encoded data removed]",
            "text/plain": [
              "<Figure size 576x288 with 1 Axes>"
            ]
          },
          "metadata": {
            "tags": []
          }
        }
      ]
    },
    {
      "cell_type": "code",
      "metadata": {
        "id": "VUyMwA-KWkLc",
        "colab_type": "code",
        "colab": {}
      },
      "source": [
        ""
      ],
      "execution_count": 0,
      "outputs": []
    },
    {
      "cell_type": "markdown",
      "metadata": {
        "id": "sLdkKXduWoXM",
        "colab_type": "text"
      },
      "source": [
        "Cross_validation"
      ]
    },
    {
      "cell_type": "code",
      "metadata": {
        "id": "cHjKUq7g_cH6",
        "colab_type": "code",
        "outputId": "b5c34d8e-5334-44c5-b0ca-b1f33ce6c297",
        "colab": {
          "base_uri": "https://localhost:8080/",
          "height": 235
        }
      },
      "source": [
        "names = []\n",
        "scores = []\n",
        "\n",
        "for name, model in models:\n",
        "    \n",
        "    kfold = KFold(n_splits=10, random_state=42, shuffle=True  ) \n",
        "    score = cross_val_score(model, X, y, cv=kfold).mean()\n",
        "    \n",
        "    names.append(name)\n",
        "    scores.append(score)\n",
        "kf_cross_val = pd.DataFrame({'Name': names, 'Score': scores, 'Train score':scores1, 'Test score':scores2})\n",
        "pd.DataFrame(kf_cross_val)"
      ],
      "execution_count": 0,
      "outputs": [
        {
          "output_type": "execute_result",
          "data": {
            "text/html": [
              "<div>\n",
              "<style scoped>\n",
              "    .dataframe tbody tr th:only-of-type {\n",
              "        vertical-align: middle;\n",
              "    }\n",
              "\n",
              "    .dataframe tbody tr th {\n",
              "        vertical-align: top;\n",
              "    }\n",
              "\n",
              "    .dataframe thead th {\n",
              "        text-align: right;\n",
              "    }\n",
              "</style>\n",
              "<table border=\"1\" class=\"dataframe\">\n",
              "  <thead>\n",
              "    <tr style=\"text-align: right;\">\n",
              "      <th></th>\n",
              "      <th>Name</th>\n",
              "      <th>Score</th>\n",
              "      <th>Train score</th>\n",
              "      <th>Test score</th>\n",
              "    </tr>\n",
              "  </thead>\n",
              "  <tbody>\n",
              "    <tr>\n",
              "      <th>0</th>\n",
              "      <td>KNN</td>\n",
              "      <td>0.832327</td>\n",
              "      <td>0.885693</td>\n",
              "      <td>0.823173</td>\n",
              "    </tr>\n",
              "    <tr>\n",
              "      <th>1</th>\n",
              "      <td>DT</td>\n",
              "      <td>0.792933</td>\n",
              "      <td>1.000000</td>\n",
              "      <td>0.788419</td>\n",
              "    </tr>\n",
              "    <tr>\n",
              "      <th>2</th>\n",
              "      <td>BayRidge</td>\n",
              "      <td>0.566332</td>\n",
              "      <td>0.566313</td>\n",
              "      <td>0.566480</td>\n",
              "    </tr>\n",
              "    <tr>\n",
              "      <th>3</th>\n",
              "      <td>RF</td>\n",
              "      <td>0.888621</td>\n",
              "      <td>0.984087</td>\n",
              "      <td>0.886440</td>\n",
              "    </tr>\n",
              "    <tr>\n",
              "      <th>4</th>\n",
              "      <td>Lasso</td>\n",
              "      <td>0.531999</td>\n",
              "      <td>0.532055</td>\n",
              "      <td>0.530880</td>\n",
              "    </tr>\n",
              "    <tr>\n",
              "      <th>5</th>\n",
              "      <td>Ridge</td>\n",
              "      <td>0.566273</td>\n",
              "      <td>0.566224</td>\n",
              "      <td>0.566378</td>\n",
              "    </tr>\n",
              "  </tbody>\n",
              "</table>\n",
              "</div>"
            ],
            "text/plain": [
              "       Name     Score  Train score  Test score\n",
              "0       KNN  0.832327     0.885693    0.823173\n",
              "1        DT  0.792933     1.000000    0.788419\n",
              "2  BayRidge  0.566332     0.566313    0.566480\n",
              "3        RF  0.888621     0.984087    0.886440\n",
              "4     Lasso  0.531999     0.532055    0.530880\n",
              "5     Ridge  0.566273     0.566224    0.566378"
            ]
          },
          "metadata": {
            "tags": []
          },
          "execution_count": 52
        }
      ]
    },
    {
      "cell_type": "markdown",
      "metadata": {
        "id": "69wYD2ULamKG",
        "colab_type": "text"
      },
      "source": [
        "Grid_search"
      ]
    },
    {
      "cell_type": "code",
      "metadata": {
        "id": "WKajRHTuiIFM",
        "colab_type": "code",
        "colab": {}
      },
      "source": [
        ""
      ],
      "execution_count": 0,
      "outputs": []
    },
    {
      "cell_type": "code",
      "metadata": {
        "id": "5JL_wVo_arBt",
        "colab_type": "code",
        "colab": {}
      },
      "source": [
        "# params = { 'n_neighbors':  [5,10,15]   , 'weights': ['uniform','distance'], \n",
        "#           'metric': ['minkowski','euclidean','manhattan'], 'scoring' : ['r2_score']}\n",
        "# knn= KNeighborsRegressor()"
      ],
      "execution_count": 0,
      "outputs": []
    },
    {
      "cell_type": "code",
      "metadata": {
        "id": "sXlfwAK7aq_U",
        "colab_type": "code",
        "colab": {}
      },
      "source": [
        "# grid= GridSearchCV(knn,\n",
        "#     params,\n",
        "#     n_jobs=None,\n",
        "#     iid='warn',\n",
        "#     refit=True,\n",
        "#     cv=10,\n",
        "#     verbose=0,\n",
        "#     pre_dispatch='2*n_jobs',\n",
        "#     error_score='raise-deprecating',\n",
        "#     return_train_score=True,  )\n",
        "\n",
        "# grid.fit(X,y)"
      ],
      "execution_count": 0,
      "outputs": []
    },
    {
      "cell_type": "code",
      "metadata": {
        "id": "-L46RxkGhBip",
        "colab_type": "code",
        "colab": {}
      },
      "source": [
        ""
      ],
      "execution_count": 0,
      "outputs": []
    },
    {
      "cell_type": "code",
      "metadata": {
        "id": "CI9EkvZOaq8x",
        "colab_type": "code",
        "colab": {}
      },
      "source": [
        "# print('best_score:',grid.best_score_)\n",
        "# print('best_param:',grid.best_params_)\n",
        "# print('best_estimator:',grid.best_estimator_)"
      ],
      "execution_count": 0,
      "outputs": []
    },
    {
      "cell_type": "code",
      "metadata": {
        "id": "ST0Y-oM_aq6B",
        "colab_type": "code",
        "colab": {}
      },
      "source": [
        ""
      ],
      "execution_count": 0,
      "outputs": []
    },
    {
      "cell_type": "code",
      "metadata": {
        "id": "hlBSNDOLaq2j",
        "colab_type": "code",
        "colab": {}
      },
      "source": [
        ""
      ],
      "execution_count": 0,
      "outputs": []
    },
    {
      "cell_type": "markdown",
      "metadata": {
        "id": "W1yP3CjIaI-6",
        "colab_type": "text"
      },
      "source": [
        "Bagging"
      ]
    },
    {
      "cell_type": "code",
      "metadata": {
        "id": "QwBTT1b4BUrC",
        "colab_type": "code",
        "colab": {}
      },
      "source": [
        "from sklearn.ensemble import BaggingRegressor"
      ],
      "execution_count": 0,
      "outputs": []
    },
    {
      "cell_type": "code",
      "metadata": {
        "id": "HMJUdo1hVMHy",
        "colab_type": "code",
        "outputId": "8a2bed8f-6586-449f-f4a3-7de6480d5334",
        "colab": {
          "base_uri": "https://localhost:8080/",
          "height": 34
        }
      },
      "source": [
        "kfold = KFold(n_splits=10,  random_state=42, shuffle=True )\n",
        "knn = KNeighborsRegressor()\n",
        "model = BaggingRegressor(base_estimator=knn, n_estimators=5, random_state=42)\n",
        "results = cross_val_score(model, X, y, cv=kfold)\n",
        "print(results.mean())"
      ],
      "execution_count": 0,
      "outputs": [
        {
          "output_type": "stream",
          "text": [
            "0.8317027863366434\n"
          ],
          "name": "stdout"
        }
      ]
    },
    {
      "cell_type": "code",
      "metadata": {
        "id": "_R_turo5VMGK",
        "colab_type": "code",
        "outputId": "76b0580c-0b71-49ee-b336-c12154ee0295",
        "colab": {
          "base_uri": "https://localhost:8080/",
          "height": 102
        }
      },
      "source": [
        "model = BaggingRegressor(base_estimator=knn, n_estimators=5, random_state=42)\n",
        "model.fit(X_train, y_train)\n",
        "print(); print(model)"
      ],
      "execution_count": 0,
      "outputs": [
        {
          "output_type": "stream",
          "text": [
            "\n",
            "BaggingRegressor(base_estimator=None, bootstrap=True, bootstrap_features=False,\n",
            "                 max_features=1.0, max_samples=1.0, n_estimators=10,\n",
            "                 n_jobs=None, oob_score=False, random_state=None, verbose=0,\n",
            "                 warm_start=False)\n"
          ],
          "name": "stdout"
        }
      ]
    },
    {
      "cell_type": "code",
      "metadata": {
        "id": "k4mmuee1VMEO",
        "colab_type": "code",
        "colab": {}
      },
      "source": [
        "# make predictions\n",
        "expected_y  = y_test\n",
        "predicted_y = model.predict(X_test)"
      ],
      "execution_count": 0,
      "outputs": []
    },
    {
      "cell_type": "code",
      "metadata": {
        "id": "GPhn0ezHVMCg",
        "colab_type": "code",
        "outputId": "bd86c832-d5d1-453e-88d7-d91dfd1d0d44",
        "colab": {
          "base_uri": "https://localhost:8080/",
          "height": 187
        }
      },
      "source": [
        "\n",
        "print(); print('ensemble.BaggingRegressor(): ')\n",
        "print(); print(\"Accuracy:\",r2_score(expected_y, predicted_y))\n",
        "print(); print(\"RMSE:\",np.sqrt(mean_squared_error(expected_y, predicted_y)))\n",
        "print(); print(\"Train Score:\",model.score(X_train,y_train))\n",
        "print(); print(\"Test Score:\",model.score(X_test,y_test))"
      ],
      "execution_count": 0,
      "outputs": [
        {
          "output_type": "stream",
          "text": [
            "\n",
            "ensemble.BaggingRegressor(): \n",
            "\n",
            "Accuracy: 0.8769601640713739\n",
            "\n",
            "0.9819204280758373\n",
            "\n",
            "0.9781163577026717\n",
            "\n",
            "0.8769601640713739\n"
          ],
          "name": "stdout"
        }
      ]
    },
    {
      "cell_type": "markdown",
      "metadata": {
        "id": "MXoSz0QTL5_H",
        "colab_type": "text"
      },
      "source": [
        "Standard Scaler"
      ]
    },
    {
      "cell_type": "code",
      "metadata": {
        "id": "JCu63GinOWpy",
        "colab_type": "code",
        "outputId": "ffc22e68-f724-4999-efa4-b51a689596c1",
        "colab": {
          "base_uri": "https://localhost:8080/",
          "height": 34
        }
      },
      "source": [
        "cols=X.select_dtypes(include='float64').columns\n",
        "cols"
      ],
      "execution_count": 0,
      "outputs": [
        {
          "output_type": "execute_result",
          "data": {
            "text/plain": [
              "Index(['tons_2012', 'tmiles_2012'], dtype='object')"
            ]
          },
          "metadata": {
            "tags": []
          },
          "execution_count": 61
        }
      ]
    },
    {
      "cell_type": "code",
      "metadata": {
        "id": "nt4DtN8oTpJc",
        "colab_type": "code",
        "outputId": "03b6ffbe-0863-4e17-b92d-67ab0bc089df",
        "colab": {
          "base_uri": "https://localhost:8080/",
          "height": 204
        }
      },
      "source": [
        "X_scale =X\n",
        "X_scale.head()"
      ],
      "execution_count": 0,
      "outputs": [
        {
          "output_type": "execute_result",
          "data": {
            "text/html": [
              "<div>\n",
              "<style scoped>\n",
              "    .dataframe tbody tr th:only-of-type {\n",
              "        vertical-align: middle;\n",
              "    }\n",
              "\n",
              "    .dataframe tbody tr th {\n",
              "        vertical-align: top;\n",
              "    }\n",
              "\n",
              "    .dataframe thead th {\n",
              "        text-align: right;\n",
              "    }\n",
              "</style>\n",
              "<table border=\"1\" class=\"dataframe\">\n",
              "  <thead>\n",
              "    <tr style=\"text-align: right;\">\n",
              "      <th></th>\n",
              "      <th>fr_orig</th>\n",
              "      <th>dms_destst</th>\n",
              "      <th>fr_dest</th>\n",
              "      <th>fr_inmode</th>\n",
              "      <th>dms_mode</th>\n",
              "      <th>fr_outmode</th>\n",
              "      <th>sctg2</th>\n",
              "      <th>trade_type</th>\n",
              "      <th>tons_2012</th>\n",
              "      <th>tmiles_2012</th>\n",
              "    </tr>\n",
              "  </thead>\n",
              "  <tbody>\n",
              "    <tr>\n",
              "      <th>0</th>\n",
              "      <td>801</td>\n",
              "      <td>1</td>\n",
              "      <td>0</td>\n",
              "      <td>4</td>\n",
              "      <td>4</td>\n",
              "      <td>0</td>\n",
              "      <td>33</td>\n",
              "      <td>2</td>\n",
              "      <td>-7.013116</td>\n",
              "      <td>-8.086548</td>\n",
              "    </tr>\n",
              "    <tr>\n",
              "      <th>1</th>\n",
              "      <td>0</td>\n",
              "      <td>34</td>\n",
              "      <td>806</td>\n",
              "      <td>0</td>\n",
              "      <td>1</td>\n",
              "      <td>3</td>\n",
              "      <td>24</td>\n",
              "      <td>3</td>\n",
              "      <td>-3.661264</td>\n",
              "      <td>-2.766927</td>\n",
              "    </tr>\n",
              "    <tr>\n",
              "      <th>2</th>\n",
              "      <td>801</td>\n",
              "      <td>40</td>\n",
              "      <td>0</td>\n",
              "      <td>2</td>\n",
              "      <td>2</td>\n",
              "      <td>0</td>\n",
              "      <td>4</td>\n",
              "      <td>2</td>\n",
              "      <td>-4.518992</td>\n",
              "      <td>-4.028987</td>\n",
              "    </tr>\n",
              "    <tr>\n",
              "      <th>3</th>\n",
              "      <td>0</td>\n",
              "      <td>9</td>\n",
              "      <td>0</td>\n",
              "      <td>0</td>\n",
              "      <td>1</td>\n",
              "      <td>0</td>\n",
              "      <td>30</td>\n",
              "      <td>1</td>\n",
              "      <td>-9.210340</td>\n",
              "      <td>-7.853217</td>\n",
              "    </tr>\n",
              "    <tr>\n",
              "      <th>4</th>\n",
              "      <td>0</td>\n",
              "      <td>6</td>\n",
              "      <td>802</td>\n",
              "      <td>0</td>\n",
              "      <td>1</td>\n",
              "      <td>1</td>\n",
              "      <td>36</td>\n",
              "      <td>3</td>\n",
              "      <td>-4.193061</td>\n",
              "      <td>-3.262460</td>\n",
              "    </tr>\n",
              "  </tbody>\n",
              "</table>\n",
              "</div>"
            ],
            "text/plain": [
              "   fr_orig  dms_destst  fr_dest  ...  trade_type  tons_2012  tmiles_2012\n",
              "0      801           1        0  ...           2  -7.013116    -8.086548\n",
              "1        0          34      806  ...           3  -3.661264    -2.766927\n",
              "2      801          40        0  ...           2  -4.518992    -4.028987\n",
              "3        0           9        0  ...           1  -9.210340    -7.853217\n",
              "4        0           6      802  ...           3  -4.193061    -3.262460\n",
              "\n",
              "[5 rows x 10 columns]"
            ]
          },
          "metadata": {
            "tags": []
          },
          "execution_count": 62
        }
      ]
    },
    {
      "cell_type": "code",
      "metadata": {
        "id": "1Sho3Tf2PL8o",
        "colab_type": "code",
        "colab": {}
      },
      "source": [
        "from sklearn.preprocessing import StandardScaler\n",
        "scaler= StandardScaler()\n",
        "\n",
        "\n",
        "for i in cols:\n",
        "  X_array =np.array(X[i]).reshape(-1,1)\n",
        "  X_scale[i]= scaler.fit_transform(X_array)"
      ],
      "execution_count": 0,
      "outputs": []
    },
    {
      "cell_type": "code",
      "metadata": {
        "id": "U9s1yGAYVL5e",
        "colab_type": "code",
        "outputId": "0dc29242-2573-4754-956a-325f06e1bd72",
        "colab": {
          "base_uri": "https://localhost:8080/",
          "height": 204
        }
      },
      "source": [
        "X_scale.head()"
      ],
      "execution_count": 0,
      "outputs": [
        {
          "output_type": "execute_result",
          "data": {
            "text/html": [
              "<div>\n",
              "<style scoped>\n",
              "    .dataframe tbody tr th:only-of-type {\n",
              "        vertical-align: middle;\n",
              "    }\n",
              "\n",
              "    .dataframe tbody tr th {\n",
              "        vertical-align: top;\n",
              "    }\n",
              "\n",
              "    .dataframe thead th {\n",
              "        text-align: right;\n",
              "    }\n",
              "</style>\n",
              "<table border=\"1\" class=\"dataframe\">\n",
              "  <thead>\n",
              "    <tr style=\"text-align: right;\">\n",
              "      <th></th>\n",
              "      <th>fr_orig</th>\n",
              "      <th>dms_destst</th>\n",
              "      <th>fr_dest</th>\n",
              "      <th>fr_inmode</th>\n",
              "      <th>dms_mode</th>\n",
              "      <th>fr_outmode</th>\n",
              "      <th>sctg2</th>\n",
              "      <th>trade_type</th>\n",
              "      <th>tons_2012</th>\n",
              "      <th>tmiles_2012</th>\n",
              "    </tr>\n",
              "  </thead>\n",
              "  <tbody>\n",
              "    <tr>\n",
              "      <th>0</th>\n",
              "      <td>801</td>\n",
              "      <td>1</td>\n",
              "      <td>0</td>\n",
              "      <td>4</td>\n",
              "      <td>4</td>\n",
              "      <td>0</td>\n",
              "      <td>33</td>\n",
              "      <td>2</td>\n",
              "      <td>-1.117254</td>\n",
              "      <td>-1.379358</td>\n",
              "    </tr>\n",
              "    <tr>\n",
              "      <th>1</th>\n",
              "      <td>0</td>\n",
              "      <td>34</td>\n",
              "      <td>806</td>\n",
              "      <td>0</td>\n",
              "      <td>1</td>\n",
              "      <td>3</td>\n",
              "      <td>24</td>\n",
              "      <td>3</td>\n",
              "      <td>0.024453</td>\n",
              "      <td>0.371023</td>\n",
              "    </tr>\n",
              "    <tr>\n",
              "      <th>2</th>\n",
              "      <td>801</td>\n",
              "      <td>40</td>\n",
              "      <td>0</td>\n",
              "      <td>2</td>\n",
              "      <td>2</td>\n",
              "      <td>0</td>\n",
              "      <td>4</td>\n",
              "      <td>2</td>\n",
              "      <td>-0.267706</td>\n",
              "      <td>-0.044248</td>\n",
              "    </tr>\n",
              "    <tr>\n",
              "      <th>3</th>\n",
              "      <td>0</td>\n",
              "      <td>9</td>\n",
              "      <td>0</td>\n",
              "      <td>0</td>\n",
              "      <td>1</td>\n",
              "      <td>0</td>\n",
              "      <td>30</td>\n",
              "      <td>1</td>\n",
              "      <td>-1.865672</td>\n",
              "      <td>-1.302582</td>\n",
              "    </tr>\n",
              "    <tr>\n",
              "      <th>4</th>\n",
              "      <td>0</td>\n",
              "      <td>6</td>\n",
              "      <td>802</td>\n",
              "      <td>0</td>\n",
              "      <td>1</td>\n",
              "      <td>1</td>\n",
              "      <td>36</td>\n",
              "      <td>3</td>\n",
              "      <td>-0.156688</td>\n",
              "      <td>0.207972</td>\n",
              "    </tr>\n",
              "  </tbody>\n",
              "</table>\n",
              "</div>"
            ],
            "text/plain": [
              "   fr_orig  dms_destst  fr_dest  ...  trade_type  tons_2012  tmiles_2012\n",
              "0      801           1        0  ...           2  -1.117254    -1.379358\n",
              "1        0          34      806  ...           3   0.024453     0.371023\n",
              "2      801          40        0  ...           2  -0.267706    -0.044248\n",
              "3        0           9        0  ...           1  -1.865672    -1.302582\n",
              "4        0           6      802  ...           3  -0.156688     0.207972\n",
              "\n",
              "[5 rows x 10 columns]"
            ]
          },
          "metadata": {
            "tags": []
          },
          "execution_count": 64
        }
      ]
    },
    {
      "cell_type": "code",
      "metadata": {
        "id": "sZa-K9N6MmkW",
        "colab_type": "code",
        "colab": {}
      },
      "source": [
        ""
      ],
      "execution_count": 0,
      "outputs": []
    },
    {
      "cell_type": "markdown",
      "metadata": {
        "id": "Wi7cPTc9cBvj",
        "colab_type": "text"
      },
      "source": [
        "PCA"
      ]
    },
    {
      "cell_type": "code",
      "metadata": {
        "id": "_f1QLps-aqMT",
        "colab_type": "code",
        "colab": {}
      },
      "source": [
        ""
      ],
      "execution_count": 0,
      "outputs": []
    },
    {
      "cell_type": "code",
      "metadata": {
        "id": "eHTrHjuZaqJq",
        "colab_type": "code",
        "colab": {}
      },
      "source": [
        "X_train,X_test,y_train,y_test= train_test_split(X_scale, y, test_size=0.3, random_state=42)"
      ],
      "execution_count": 0,
      "outputs": []
    },
    {
      "cell_type": "code",
      "metadata": {
        "id": "gmJrJBJCaqF1",
        "colab_type": "code",
        "colab": {}
      },
      "source": [
        "from sklearn.decomposition import PCA\n",
        "\n",
        "pca=PCA()\n",
        "X_train =pca.fit_transform (X_train)\n",
        "X_test =pca.transform(X_test)"
      ],
      "execution_count": 0,
      "outputs": []
    },
    {
      "cell_type": "code",
      "metadata": {
        "id": "6JYHfG6gaqCA",
        "colab_type": "code",
        "colab": {}
      },
      "source": [
        ""
      ],
      "execution_count": 0,
      "outputs": []
    },
    {
      "cell_type": "code",
      "metadata": {
        "id": "u2mC5Ed-ap92",
        "colab_type": "code",
        "outputId": "daf66d3d-63a2-40d2-b840-fc549f72bcc2",
        "colab": {
          "base_uri": "https://localhost:8080/",
          "height": 235
        }
      },
      "source": [
        "names = []\n",
        "scores = []\n",
        "\n",
        "scores1 = []\n",
        "scores2 = []\n",
        "\n",
        "for name, model in models:\n",
        "    model.fit(X_train, y_train)\n",
        "    y_pred = model.predict(X_test)\n",
        "    scores.append(r2_score(y_test, y_pred))\n",
        "    \n",
        "    scores1.append(model.score(X_train,y_train))\n",
        "    scores2.append(model.score(X_test,y_test))\n",
        "    \n",
        "    names.append(name)\n",
        "tr_split = pd.DataFrame({'Name': names, 'Accuray Score': scores, 'Train score':scores1, 'Test score':scores2})\n",
        "pd.DataFrame(tr_split)"
      ],
      "execution_count": 0,
      "outputs": [
        {
          "output_type": "execute_result",
          "data": {
            "text/html": [
              "<div>\n",
              "<style scoped>\n",
              "    .dataframe tbody tr th:only-of-type {\n",
              "        vertical-align: middle;\n",
              "    }\n",
              "\n",
              "    .dataframe tbody tr th {\n",
              "        vertical-align: top;\n",
              "    }\n",
              "\n",
              "    .dataframe thead th {\n",
              "        text-align: right;\n",
              "    }\n",
              "</style>\n",
              "<table border=\"1\" class=\"dataframe\">\n",
              "  <thead>\n",
              "    <tr style=\"text-align: right;\">\n",
              "      <th></th>\n",
              "      <th>Name</th>\n",
              "      <th>Accuray Score</th>\n",
              "      <th>Train score</th>\n",
              "      <th>Test score</th>\n",
              "    </tr>\n",
              "  </thead>\n",
              "  <tbody>\n",
              "    <tr>\n",
              "      <th>0</th>\n",
              "      <td>KNN</td>\n",
              "      <td>0.806910</td>\n",
              "      <td>0.876445</td>\n",
              "      <td>0.806910</td>\n",
              "    </tr>\n",
              "    <tr>\n",
              "      <th>1</th>\n",
              "      <td>DT</td>\n",
              "      <td>0.634795</td>\n",
              "      <td>1.000000</td>\n",
              "      <td>0.634795</td>\n",
              "    </tr>\n",
              "    <tr>\n",
              "      <th>2</th>\n",
              "      <td>BayRidge</td>\n",
              "      <td>0.566480</td>\n",
              "      <td>0.566313</td>\n",
              "      <td>0.566480</td>\n",
              "    </tr>\n",
              "    <tr>\n",
              "      <th>3</th>\n",
              "      <td>RF</td>\n",
              "      <td>0.815392</td>\n",
              "      <td>0.974126</td>\n",
              "      <td>0.815392</td>\n",
              "    </tr>\n",
              "    <tr>\n",
              "      <th>4</th>\n",
              "      <td>Lasso</td>\n",
              "      <td>0.443786</td>\n",
              "      <td>0.445813</td>\n",
              "      <td>0.443786</td>\n",
              "    </tr>\n",
              "    <tr>\n",
              "      <th>5</th>\n",
              "      <td>Ridge</td>\n",
              "      <td>0.566378</td>\n",
              "      <td>0.566224</td>\n",
              "      <td>0.566378</td>\n",
              "    </tr>\n",
              "  </tbody>\n",
              "</table>\n",
              "</div>"
            ],
            "text/plain": [
              "       Name  Accuray Score  Train score  Test score\n",
              "0       KNN       0.806910     0.876445    0.806910\n",
              "1        DT       0.634795     1.000000    0.634795\n",
              "2  BayRidge       0.566480     0.566313    0.566480\n",
              "3        RF       0.815392     0.974126    0.815392\n",
              "4     Lasso       0.443786     0.445813    0.443786\n",
              "5     Ridge       0.566378     0.566224    0.566378"
            ]
          },
          "metadata": {
            "tags": []
          },
          "execution_count": 67
        }
      ]
    },
    {
      "cell_type": "code",
      "metadata": {
        "id": "bAdnGyf9dCqh",
        "colab_type": "code",
        "colab": {}
      },
      "source": [
        ""
      ],
      "execution_count": 0,
      "outputs": []
    },
    {
      "cell_type": "markdown",
      "metadata": {
        "id": "mcA8P-o2loTH",
        "colab_type": "text"
      },
      "source": [
        "Stacking"
      ]
    },
    {
      "cell_type": "code",
      "metadata": {
        "id": "FziywvThBcyJ",
        "colab_type": "code",
        "colab": {}
      },
      "source": [
        "# ! pip install vecstack"
      ],
      "execution_count": 0,
      "outputs": []
    },
    {
      "cell_type": "code",
      "metadata": {
        "id": "XlpLYwGklntk",
        "colab_type": "code",
        "colab": {}
      },
      "source": [
        "from vecstack import stacking\n",
        "from mlxtend.regressor import StackingRegressor\n",
        "from sklearn.ensemble import ExtraTreesRegressor"
      ],
      "execution_count": 0,
      "outputs": []
    },
    {
      "cell_type": "code",
      "metadata": {
        "id": "4CifpDDYlfnV",
        "colab_type": "code",
        "colab": {}
      },
      "source": [
        "models = [\n",
        "           KNeighborsRegressor(n_neighbors=5,n_jobs=-1 ),\n",
        "           DecisionTreeRegressor(random_state=42, max_depth=3  ),\n",
        "           ExtraTreesRegressor( n_jobs=-1,random_state=42 ),\n",
        "           BaggingRegressor(base_estimator=knn, n_estimators=5, random_state=42)\n",
        "   ]"
      ],
      "execution_count": 0,
      "outputs": []
    },
    {
      "cell_type": "code",
      "metadata": {
        "id": "IiF9l46ilgGC",
        "colab_type": "code",
        "colab": {}
      },
      "source": [
        ""
      ],
      "execution_count": 0,
      "outputs": []
    },
    {
      "cell_type": "code",
      "metadata": {
        "id": "uDr-9L0FlgA7",
        "colab_type": "code",
        "outputId": "574965d7-b47e-4833-da96-fc1cbf574350",
        "colab": {
          "base_uri": "https://localhost:8080/",
          "height": 714
        }
      },
      "source": [
        "S_train, S_test = stacking(models,\n",
        "                           X_train, y_train, X_test,\n",
        "                           regression=True,\n",
        "                           mode='oof_pred_bag',\n",
        "                           needs_proba=False,\n",
        "                           save_dir=None,\n",
        "                           metric= r2_score,\n",
        "                           n_folds=4,\n",
        "                           stratified=False,\n",
        "                           shuffle=True,\n",
        "                           random_state=42,\n",
        "                           verbose=2  )"
      ],
      "execution_count": 0,
      "outputs": [
        {
          "output_type": "stream",
          "text": [
            "task:         [regression]\n",
            "metric:       [r2_score]\n",
            "mode:         [oof_pred_bag]\n",
            "n_models:     [4]\n",
            "\n",
            "model  0:     [KNeighborsRegressor]\n",
            "    fold  0:  [0.78888225]\n",
            "    fold  1:  [0.79370214]\n",
            "    fold  2:  [0.79110755]\n",
            "    fold  3:  [0.79160422]\n",
            "    ----\n",
            "    MEAN:     [0.79132404] + [0.00171341]\n",
            "    FULL:     [0.79133059]\n",
            "\n",
            "model  1:     [DecisionTreeRegressor]\n",
            "    fold  0:  [0.51395153]\n",
            "    fold  1:  [0.51768087]\n",
            "    fold  2:  [0.51452011]\n",
            "    fold  3:  [0.51311591]\n",
            "    ----\n",
            "    MEAN:     [0.51481710] + [0.00172718]\n",
            "    FULL:     [0.51483020]\n",
            "\n",
            "model  2:     [ExtraTreesRegressor]\n",
            "    fold  0:  [0.80447806]\n",
            "    fold  1:  [0.80805705]\n",
            "    fold  2:  [0.80835795]\n",
            "    fold  3:  [0.80804652]\n",
            "    ----\n",
            "    MEAN:     [0.80723489] + [0.00159657]\n",
            "    FULL:     [0.80723887]\n",
            "\n",
            "model  3:     [BaggingRegressor]\n",
            "    fold  0:  [0.78762225]\n",
            "    fold  1:  [0.79247692]\n",
            "    fold  2:  [0.79073537]\n",
            "    fold  3:  [0.79018678]\n",
            "    ----\n",
            "    MEAN:     [0.79025533] + [0.00173952]\n",
            "    FULL:     [0.79026175]\n",
            "\n"
          ],
          "name": "stdout"
        }
      ]
    },
    {
      "cell_type": "code",
      "metadata": {
        "id": "BXimGSE8lf_N",
        "colab_type": "code",
        "colab": {}
      },
      "source": [
        ""
      ],
      "execution_count": 0,
      "outputs": []
    },
    {
      "cell_type": "code",
      "metadata": {
        "id": "awMgjlNilfkg",
        "colab_type": "code",
        "colab": {}
      },
      "source": [
        ""
      ],
      "execution_count": 0,
      "outputs": []
    },
    {
      "cell_type": "code",
      "metadata": {
        "id": "UvaM2DiGlfg5",
        "colab_type": "code",
        "colab": {}
      },
      "source": [
        ""
      ],
      "execution_count": 0,
      "outputs": []
    },
    {
      "cell_type": "code",
      "metadata": {
        "id": "p-wEG3q5lfdc",
        "colab_type": "code",
        "colab": {}
      },
      "source": [
        ""
      ],
      "execution_count": 0,
      "outputs": []
    }
  ]
}