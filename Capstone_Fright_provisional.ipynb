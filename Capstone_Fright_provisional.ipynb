{
  "nbformat": 4,
  "nbformat_minor": 0,
  "metadata": {
    "colab": {
      "name": " Capstone_Fright_provisional",
      "provenance": [],
      "collapsed_sections": []
    },
    "kernelspec": {
      "name": "python3",
      "display_name": "Python 3"
    },
    "accelerator": "GPU"
  },
  "cells": [
    {
      "cell_type": "code",
      "metadata": {
        "id": "YMbgEUtwCNqE",
        "colab_type": "code",
        "colab": {}
      },
      "source": [
        "import numpy as np\n",
        "import pandas as pd\n",
        "import seaborn as sns\n",
        "import matplotlib.pyplot as plt"
      ],
      "execution_count": 0,
      "outputs": []
    },
    {
      "cell_type": "code",
      "metadata": {
        "id": "TaqGdEFjEL0m",
        "colab_type": "code",
        "outputId": "314531f3-652c-487d-867c-31c5356018f2",
        "colab": {
          "base_uri": "https://localhost:8080/",
          "height": 204
        }
      },
      "source": [
        "df1 = pd.read_csv('/content/faf35_provisional_2012_state.csv')\n",
        "\n",
        "df1.head()"
      ],
      "execution_count": 0,
      "outputs": [
        {
          "output_type": "execute_result",
          "data": {
            "text/html": [
              "<div>\n",
              "<style scoped>\n",
              "    .dataframe tbody tr th:only-of-type {\n",
              "        vertical-align: middle;\n",
              "    }\n",
              "\n",
              "    .dataframe tbody tr th {\n",
              "        vertical-align: top;\n",
              "    }\n",
              "\n",
              "    .dataframe thead th {\n",
              "        text-align: right;\n",
              "    }\n",
              "</style>\n",
              "<table border=\"1\" class=\"dataframe\">\n",
              "  <thead>\n",
              "    <tr style=\"text-align: right;\">\n",
              "      <th></th>\n",
              "      <th>fr_orig</th>\n",
              "      <th>dms_origst</th>\n",
              "      <th>dms_destst</th>\n",
              "      <th>fr_dest</th>\n",
              "      <th>fr_inmode</th>\n",
              "      <th>dms_mode</th>\n",
              "      <th>fr_outmode</th>\n",
              "      <th>sctg2</th>\n",
              "      <th>trade_type</th>\n",
              "      <th>value_2012</th>\n",
              "      <th>curval_2012</th>\n",
              "      <th>tons_2012</th>\n",
              "      <th>tmiles_2012</th>\n",
              "    </tr>\n",
              "  </thead>\n",
              "  <tbody>\n",
              "    <tr>\n",
              "      <th>0</th>\n",
              "      <td>NaN</td>\n",
              "      <td>1</td>\n",
              "      <td>1</td>\n",
              "      <td>NaN</td>\n",
              "      <td>NaN</td>\n",
              "      <td>1</td>\n",
              "      <td>NaN</td>\n",
              "      <td>1</td>\n",
              "      <td>1</td>\n",
              "      <td>1298.4192</td>\n",
              "      <td>1301.1587</td>\n",
              "      <td>1206.1115</td>\n",
              "      <td>120.224158</td>\n",
              "    </tr>\n",
              "    <tr>\n",
              "      <th>1</th>\n",
              "      <td>NaN</td>\n",
              "      <td>1</td>\n",
              "      <td>1</td>\n",
              "      <td>NaN</td>\n",
              "      <td>NaN</td>\n",
              "      <td>1</td>\n",
              "      <td>NaN</td>\n",
              "      <td>2</td>\n",
              "      <td>1</td>\n",
              "      <td>485.9232</td>\n",
              "      <td>484.1869</td>\n",
              "      <td>2560.6566</td>\n",
              "      <td>239.806478</td>\n",
              "    </tr>\n",
              "    <tr>\n",
              "      <th>2</th>\n",
              "      <td>NaN</td>\n",
              "      <td>1</td>\n",
              "      <td>1</td>\n",
              "      <td>NaN</td>\n",
              "      <td>NaN</td>\n",
              "      <td>1</td>\n",
              "      <td>NaN</td>\n",
              "      <td>3</td>\n",
              "      <td>1</td>\n",
              "      <td>1031.4111</td>\n",
              "      <td>1028.2293</td>\n",
              "      <td>2799.1528</td>\n",
              "      <td>238.617660</td>\n",
              "    </tr>\n",
              "    <tr>\n",
              "      <th>3</th>\n",
              "      <td>NaN</td>\n",
              "      <td>1</td>\n",
              "      <td>1</td>\n",
              "      <td>NaN</td>\n",
              "      <td>NaN</td>\n",
              "      <td>1</td>\n",
              "      <td>NaN</td>\n",
              "      <td>4</td>\n",
              "      <td>1</td>\n",
              "      <td>753.1903</td>\n",
              "      <td>755.9042</td>\n",
              "      <td>3095.7776</td>\n",
              "      <td>276.934624</td>\n",
              "    </tr>\n",
              "    <tr>\n",
              "      <th>4</th>\n",
              "      <td>NaN</td>\n",
              "      <td>1</td>\n",
              "      <td>1</td>\n",
              "      <td>NaN</td>\n",
              "      <td>NaN</td>\n",
              "      <td>1</td>\n",
              "      <td>NaN</td>\n",
              "      <td>5</td>\n",
              "      <td>1</td>\n",
              "      <td>2130.6679</td>\n",
              "      <td>2133.1313</td>\n",
              "      <td>911.7455</td>\n",
              "      <td>67.068679</td>\n",
              "    </tr>\n",
              "  </tbody>\n",
              "</table>\n",
              "</div>"
            ],
            "text/plain": [
              "   fr_orig  dms_origst  dms_destst  ...  curval_2012  tons_2012  tmiles_2012\n",
              "0      NaN           1           1  ...    1301.1587  1206.1115   120.224158\n",
              "1      NaN           1           1  ...     484.1869  2560.6566   239.806478\n",
              "2      NaN           1           1  ...    1028.2293  2799.1528   238.617660\n",
              "3      NaN           1           1  ...     755.9042  3095.7776   276.934624\n",
              "4      NaN           1           1  ...    2133.1313   911.7455    67.068679\n",
              "\n",
              "[5 rows x 13 columns]"
            ]
          },
          "metadata": {
            "tags": []
          },
          "execution_count": 6
        }
      ]
    },
    {
      "cell_type": "code",
      "metadata": {
        "id": "wxKIJJU7pyqY",
        "colab_type": "code",
        "outputId": "9c70f330-a305-43be-d366-d94dc7ffb1c9",
        "colab": {
          "base_uri": "https://localhost:8080/",
          "height": 669
        }
      },
      "source": [
        "df1=df1.sample(frac=1)\n",
        "df1.head(20)"
      ],
      "execution_count": 0,
      "outputs": [
        {
          "output_type": "execute_result",
          "data": {
            "text/html": [
              "<div>\n",
              "<style scoped>\n",
              "    .dataframe tbody tr th:only-of-type {\n",
              "        vertical-align: middle;\n",
              "    }\n",
              "\n",
              "    .dataframe tbody tr th {\n",
              "        vertical-align: top;\n",
              "    }\n",
              "\n",
              "    .dataframe thead th {\n",
              "        text-align: right;\n",
              "    }\n",
              "</style>\n",
              "<table border=\"1\" class=\"dataframe\">\n",
              "  <thead>\n",
              "    <tr style=\"text-align: right;\">\n",
              "      <th></th>\n",
              "      <th>fr_orig</th>\n",
              "      <th>dms_origst</th>\n",
              "      <th>dms_destst</th>\n",
              "      <th>fr_dest</th>\n",
              "      <th>fr_inmode</th>\n",
              "      <th>dms_mode</th>\n",
              "      <th>fr_outmode</th>\n",
              "      <th>sctg2</th>\n",
              "      <th>trade_type</th>\n",
              "      <th>value_2012</th>\n",
              "      <th>curval_2012</th>\n",
              "      <th>tons_2012</th>\n",
              "      <th>tmiles_2012</th>\n",
              "    </tr>\n",
              "  </thead>\n",
              "  <tbody>\n",
              "    <tr>\n",
              "      <th>360883</th>\n",
              "      <td>801.0</td>\n",
              "      <td>22</td>\n",
              "      <td>1</td>\n",
              "      <td>NaN</td>\n",
              "      <td>4.0</td>\n",
              "      <td>4</td>\n",
              "      <td>NaN</td>\n",
              "      <td>33</td>\n",
              "      <td>2</td>\n",
              "      <td>0.1720</td>\n",
              "      <td>0.1905</td>\n",
              "      <td>0.0009</td>\n",
              "      <td>0.000308</td>\n",
              "    </tr>\n",
              "    <tr>\n",
              "      <th>14038</th>\n",
              "      <td>NaN</td>\n",
              "      <td>4</td>\n",
              "      <td>34</td>\n",
              "      <td>806.0</td>\n",
              "      <td>NaN</td>\n",
              "      <td>1</td>\n",
              "      <td>3.0</td>\n",
              "      <td>24</td>\n",
              "      <td>3</td>\n",
              "      <td>0.1120</td>\n",
              "      <td>0.1241</td>\n",
              "      <td>0.0257</td>\n",
              "      <td>0.062855</td>\n",
              "    </tr>\n",
              "    <tr>\n",
              "      <th>394561</th>\n",
              "      <td>801.0</td>\n",
              "      <td>50</td>\n",
              "      <td>40</td>\n",
              "      <td>NaN</td>\n",
              "      <td>2.0</td>\n",
              "      <td>2</td>\n",
              "      <td>NaN</td>\n",
              "      <td>4</td>\n",
              "      <td>2</td>\n",
              "      <td>0.0011</td>\n",
              "      <td>0.0011</td>\n",
              "      <td>0.0109</td>\n",
              "      <td>0.017792</td>\n",
              "    </tr>\n",
              "    <tr>\n",
              "      <th>89563</th>\n",
              "      <td>NaN</td>\n",
              "      <td>17</td>\n",
              "      <td>45</td>\n",
              "      <td>NaN</td>\n",
              "      <td>NaN</td>\n",
              "      <td>1</td>\n",
              "      <td>NaN</td>\n",
              "      <td>7</td>\n",
              "      <td>1</td>\n",
              "      <td>46.6200</td>\n",
              "      <td>46.5642</td>\n",
              "      <td>26.3678</td>\n",
              "      <td>20.716746</td>\n",
              "    </tr>\n",
              "    <tr>\n",
              "      <th>8037</th>\n",
              "      <td>NaN</td>\n",
              "      <td>2</td>\n",
              "      <td>9</td>\n",
              "      <td>NaN</td>\n",
              "      <td>NaN</td>\n",
              "      <td>1</td>\n",
              "      <td>NaN</td>\n",
              "      <td>30</td>\n",
              "      <td>1</td>\n",
              "      <td>0.0008</td>\n",
              "      <td>0.0008</td>\n",
              "      <td>0.0001</td>\n",
              "      <td>0.000388</td>\n",
              "    </tr>\n",
              "    <tr>\n",
              "      <th>333642</th>\n",
              "      <td>NaN</td>\n",
              "      <td>54</td>\n",
              "      <td>6</td>\n",
              "      <td>802.0</td>\n",
              "      <td>NaN</td>\n",
              "      <td>1</td>\n",
              "      <td>1.0</td>\n",
              "      <td>36</td>\n",
              "      <td>3</td>\n",
              "      <td>0.0692</td>\n",
              "      <td>0.0766</td>\n",
              "      <td>0.0151</td>\n",
              "      <td>0.038294</td>\n",
              "    </tr>\n",
              "    <tr>\n",
              "      <th>179643</th>\n",
              "      <td>NaN</td>\n",
              "      <td>29</td>\n",
              "      <td>55</td>\n",
              "      <td>NaN</td>\n",
              "      <td>NaN</td>\n",
              "      <td>1</td>\n",
              "      <td>NaN</td>\n",
              "      <td>19</td>\n",
              "      <td>1</td>\n",
              "      <td>28.9724</td>\n",
              "      <td>29.1828</td>\n",
              "      <td>19.9058</td>\n",
              "      <td>9.261896</td>\n",
              "    </tr>\n",
              "    <tr>\n",
              "      <th>124340</th>\n",
              "      <td>NaN</td>\n",
              "      <td>22</td>\n",
              "      <td>22</td>\n",
              "      <td>806.0</td>\n",
              "      <td>NaN</td>\n",
              "      <td>3</td>\n",
              "      <td>3.0</td>\n",
              "      <td>18</td>\n",
              "      <td>3</td>\n",
              "      <td>28.0619</td>\n",
              "      <td>31.0786</td>\n",
              "      <td>34.3651</td>\n",
              "      <td>3.497729</td>\n",
              "    </tr>\n",
              "    <tr>\n",
              "      <th>106789</th>\n",
              "      <td>NaN</td>\n",
              "      <td>19</td>\n",
              "      <td>53</td>\n",
              "      <td>806.0</td>\n",
              "      <td>NaN</td>\n",
              "      <td>5</td>\n",
              "      <td>3.0</td>\n",
              "      <td>39</td>\n",
              "      <td>3</td>\n",
              "      <td>0.0754</td>\n",
              "      <td>0.0835</td>\n",
              "      <td>0.0198</td>\n",
              "      <td>0.041566</td>\n",
              "    </tr>\n",
              "    <tr>\n",
              "      <th>195020</th>\n",
              "      <td>NaN</td>\n",
              "      <td>33</td>\n",
              "      <td>12</td>\n",
              "      <td>NaN</td>\n",
              "      <td>NaN</td>\n",
              "      <td>1</td>\n",
              "      <td>NaN</td>\n",
              "      <td>7</td>\n",
              "      <td>1</td>\n",
              "      <td>36.3914</td>\n",
              "      <td>36.3479</td>\n",
              "      <td>7.0448</td>\n",
              "      <td>10.011145</td>\n",
              "    </tr>\n",
              "    <tr>\n",
              "      <th>33388</th>\n",
              "      <td>NaN</td>\n",
              "      <td>6</td>\n",
              "      <td>49</td>\n",
              "      <td>NaN</td>\n",
              "      <td>NaN</td>\n",
              "      <td>4</td>\n",
              "      <td>NaN</td>\n",
              "      <td>40</td>\n",
              "      <td>1</td>\n",
              "      <td>8.8913</td>\n",
              "      <td>8.9203</td>\n",
              "      <td>0.6512</td>\n",
              "      <td>0.371000</td>\n",
              "    </tr>\n",
              "    <tr>\n",
              "      <th>111230</th>\n",
              "      <td>NaN</td>\n",
              "      <td>20</td>\n",
              "      <td>36</td>\n",
              "      <td>NaN</td>\n",
              "      <td>NaN</td>\n",
              "      <td>5</td>\n",
              "      <td>NaN</td>\n",
              "      <td>21</td>\n",
              "      <td>1</td>\n",
              "      <td>46.4044</td>\n",
              "      <td>46.4829</td>\n",
              "      <td>0.5998</td>\n",
              "      <td>0.771270</td>\n",
              "    </tr>\n",
              "    <tr>\n",
              "      <th>304878</th>\n",
              "      <td>NaN</td>\n",
              "      <td>48</td>\n",
              "      <td>49</td>\n",
              "      <td>NaN</td>\n",
              "      <td>NaN</td>\n",
              "      <td>1</td>\n",
              "      <td>NaN</td>\n",
              "      <td>24</td>\n",
              "      <td>1</td>\n",
              "      <td>176.8338</td>\n",
              "      <td>176.2135</td>\n",
              "      <td>36.9448</td>\n",
              "      <td>47.408591</td>\n",
              "    </tr>\n",
              "    <tr>\n",
              "      <th>339251</th>\n",
              "      <td>NaN</td>\n",
              "      <td>55</td>\n",
              "      <td>12</td>\n",
              "      <td>803.0</td>\n",
              "      <td>NaN</td>\n",
              "      <td>1</td>\n",
              "      <td>3.0</td>\n",
              "      <td>24</td>\n",
              "      <td>3</td>\n",
              "      <td>5.8726</td>\n",
              "      <td>6.5039</td>\n",
              "      <td>1.9694</td>\n",
              "      <td>2.600896</td>\n",
              "    </tr>\n",
              "    <tr>\n",
              "      <th>460204</th>\n",
              "      <td>804.0</td>\n",
              "      <td>32</td>\n",
              "      <td>32</td>\n",
              "      <td>NaN</td>\n",
              "      <td>4.0</td>\n",
              "      <td>1</td>\n",
              "      <td>NaN</td>\n",
              "      <td>32</td>\n",
              "      <td>2</td>\n",
              "      <td>0.3879</td>\n",
              "      <td>0.4296</td>\n",
              "      <td>0.0208</td>\n",
              "      <td>0.000357</td>\n",
              "    </tr>\n",
              "    <tr>\n",
              "      <th>56728</th>\n",
              "      <td>NaN</td>\n",
              "      <td>12</td>\n",
              "      <td>13</td>\n",
              "      <td>803.0</td>\n",
              "      <td>NaN</td>\n",
              "      <td>1</td>\n",
              "      <td>3.0</td>\n",
              "      <td>4</td>\n",
              "      <td>3</td>\n",
              "      <td>0.1069</td>\n",
              "      <td>0.1184</td>\n",
              "      <td>0.3158</td>\n",
              "      <td>0.147624</td>\n",
              "    </tr>\n",
              "    <tr>\n",
              "      <th>469211</th>\n",
              "      <td>804.0</td>\n",
              "      <td>45</td>\n",
              "      <td>18</td>\n",
              "      <td>NaN</td>\n",
              "      <td>3.0</td>\n",
              "      <td>1</td>\n",
              "      <td>NaN</td>\n",
              "      <td>32</td>\n",
              "      <td>2</td>\n",
              "      <td>1.3661</td>\n",
              "      <td>1.5129</td>\n",
              "      <td>1.8218</td>\n",
              "      <td>1.407412</td>\n",
              "    </tr>\n",
              "    <tr>\n",
              "      <th>303454</th>\n",
              "      <td>NaN</td>\n",
              "      <td>48</td>\n",
              "      <td>48</td>\n",
              "      <td>801.0</td>\n",
              "      <td>NaN</td>\n",
              "      <td>1</td>\n",
              "      <td>4.0</td>\n",
              "      <td>31</td>\n",
              "      <td>3</td>\n",
              "      <td>0.0695</td>\n",
              "      <td>0.0772</td>\n",
              "      <td>0.0054</td>\n",
              "      <td>0.000868</td>\n",
              "    </tr>\n",
              "    <tr>\n",
              "      <th>412011</th>\n",
              "      <td>802.0</td>\n",
              "      <td>30</td>\n",
              "      <td>18</td>\n",
              "      <td>NaN</td>\n",
              "      <td>4.0</td>\n",
              "      <td>4</td>\n",
              "      <td>NaN</td>\n",
              "      <td>29</td>\n",
              "      <td>2</td>\n",
              "      <td>0.0004</td>\n",
              "      <td>0.0004</td>\n",
              "      <td>0.0000</td>\n",
              "      <td>0.000000</td>\n",
              "    </tr>\n",
              "    <tr>\n",
              "      <th>186772</th>\n",
              "      <td>NaN</td>\n",
              "      <td>31</td>\n",
              "      <td>31</td>\n",
              "      <td>NaN</td>\n",
              "      <td>NaN</td>\n",
              "      <td>1</td>\n",
              "      <td>NaN</td>\n",
              "      <td>26</td>\n",
              "      <td>1</td>\n",
              "      <td>385.3554</td>\n",
              "      <td>386.3829</td>\n",
              "      <td>621.8266</td>\n",
              "      <td>43.803615</td>\n",
              "    </tr>\n",
              "  </tbody>\n",
              "</table>\n",
              "</div>"
            ],
            "text/plain": [
              "        fr_orig  dms_origst  dms_destst  ...  curval_2012  tons_2012  tmiles_2012\n",
              "360883    801.0          22           1  ...       0.1905     0.0009     0.000308\n",
              "14038       NaN           4          34  ...       0.1241     0.0257     0.062855\n",
              "394561    801.0          50          40  ...       0.0011     0.0109     0.017792\n",
              "89563       NaN          17          45  ...      46.5642    26.3678    20.716746\n",
              "8037        NaN           2           9  ...       0.0008     0.0001     0.000388\n",
              "333642      NaN          54           6  ...       0.0766     0.0151     0.038294\n",
              "179643      NaN          29          55  ...      29.1828    19.9058     9.261896\n",
              "124340      NaN          22          22  ...      31.0786    34.3651     3.497729\n",
              "106789      NaN          19          53  ...       0.0835     0.0198     0.041566\n",
              "195020      NaN          33          12  ...      36.3479     7.0448    10.011145\n",
              "33388       NaN           6          49  ...       8.9203     0.6512     0.371000\n",
              "111230      NaN          20          36  ...      46.4829     0.5998     0.771270\n",
              "304878      NaN          48          49  ...     176.2135    36.9448    47.408591\n",
              "339251      NaN          55          12  ...       6.5039     1.9694     2.600896\n",
              "460204    804.0          32          32  ...       0.4296     0.0208     0.000357\n",
              "56728       NaN          12          13  ...       0.1184     0.3158     0.147624\n",
              "469211    804.0          45          18  ...       1.5129     1.8218     1.407412\n",
              "303454      NaN          48          48  ...       0.0772     0.0054     0.000868\n",
              "412011    802.0          30          18  ...       0.0004     0.0000     0.000000\n",
              "186772      NaN          31          31  ...     386.3829   621.8266    43.803615\n",
              "\n",
              "[20 rows x 13 columns]"
            ]
          },
          "metadata": {
            "tags": []
          },
          "execution_count": 7
        }
      ]
    },
    {
      "cell_type": "code",
      "metadata": {
        "id": "MET79OPU_nX0",
        "colab_type": "code",
        "outputId": "bb298055-5838-4bc6-98ec-e77417f0769f",
        "colab": {
          "base_uri": "https://localhost:8080/",
          "height": 34
        }
      },
      "source": [
        "df1.shape"
      ],
      "execution_count": 0,
      "outputs": [
        {
          "output_type": "execute_result",
          "data": {
            "text/plain": [
              "(549132, 13)"
            ]
          },
          "metadata": {
            "tags": []
          },
          "execution_count": 8
        }
      ]
    },
    {
      "cell_type": "code",
      "metadata": {
        "id": "8d2nYDSyWfik",
        "colab_type": "code",
        "outputId": "926d7e7b-17ed-49a2-d85c-261dd62d773e",
        "colab": {
          "base_uri": "https://localhost:8080/",
          "height": 323
        }
      },
      "source": [
        "df1.info()"
      ],
      "execution_count": 0,
      "outputs": [
        {
          "output_type": "stream",
          "text": [
            "<class 'pandas.core.frame.DataFrame'>\n",
            "Int64Index: 549132 entries, 360883 to 392147\n",
            "Data columns (total 13 columns):\n",
            "fr_orig        199594 non-null float64\n",
            "dms_origst     549132 non-null int64\n",
            "dms_destst     549132 non-null int64\n",
            "fr_dest        178923 non-null float64\n",
            "fr_inmode      199594 non-null float64\n",
            "dms_mode       549132 non-null int64\n",
            "fr_outmode     178923 non-null float64\n",
            "sctg2          549132 non-null int64\n",
            "trade_type     549132 non-null int64\n",
            "value_2012     549132 non-null float64\n",
            "curval_2012    549132 non-null float64\n",
            "tons_2012      549132 non-null float64\n",
            "tmiles_2012    549132 non-null float64\n",
            "dtypes: float64(8), int64(5)\n",
            "memory usage: 58.7 MB\n"
          ],
          "name": "stdout"
        }
      ]
    },
    {
      "cell_type": "code",
      "metadata": {
        "id": "JUJr1vyanJfI",
        "colab_type": "code",
        "outputId": "f77b1835-88d1-4e2a-da33-c169bb9da99a",
        "colab": {
          "base_uri": "https://localhost:8080/",
          "height": 255
        }
      },
      "source": [
        "df1.isnull().sum()"
      ],
      "execution_count": 0,
      "outputs": [
        {
          "output_type": "execute_result",
          "data": {
            "text/plain": [
              "fr_orig        349538\n",
              "dms_origst          0\n",
              "dms_destst          0\n",
              "fr_dest        370209\n",
              "fr_inmode      349538\n",
              "dms_mode            0\n",
              "fr_outmode     370209\n",
              "sctg2               0\n",
              "trade_type          0\n",
              "value_2012          0\n",
              "curval_2012         0\n",
              "tons_2012           0\n",
              "tmiles_2012         0\n",
              "dtype: int64"
            ]
          },
          "metadata": {
            "tags": []
          },
          "execution_count": 10
        }
      ]
    },
    {
      "cell_type": "code",
      "metadata": {
        "id": "fEJcyhINDz7v",
        "colab_type": "code",
        "outputId": "89f72bf9-f537-4f6f-8b29-568e78316f1a",
        "colab": {
          "base_uri": "https://localhost:8080/",
          "height": 255
        }
      },
      "source": [
        "df1.isnull().sum()/len(df1)"
      ],
      "execution_count": 0,
      "outputs": [
        {
          "output_type": "execute_result",
          "data": {
            "text/plain": [
              "fr_orig        0.636528\n",
              "dms_origst     0.000000\n",
              "dms_destst     0.000000\n",
              "fr_dest        0.674171\n",
              "fr_inmode      0.636528\n",
              "dms_mode       0.000000\n",
              "fr_outmode     0.674171\n",
              "sctg2          0.000000\n",
              "trade_type     0.000000\n",
              "value_2012     0.000000\n",
              "curval_2012    0.000000\n",
              "tons_2012      0.000000\n",
              "tmiles_2012    0.000000\n",
              "dtype: float64"
            ]
          },
          "metadata": {
            "tags": []
          },
          "execution_count": 11
        }
      ]
    },
    {
      "cell_type": "code",
      "metadata": {
        "id": "0y5llzoL4Ix9",
        "colab_type": "code",
        "outputId": "0700bc4c-95b2-4bb9-a564-4d1dc23e99b3",
        "colab": {
          "base_uri": "https://localhost:8080/",
          "height": 85
        }
      },
      "source": [
        "df1['trade_type'].value_counts(dropna=False)"
      ],
      "execution_count": 0,
      "outputs": [
        {
          "output_type": "execute_result",
          "data": {
            "text/plain": [
              "2    199594\n",
              "3    178923\n",
              "1    170615\n",
              "Name: trade_type, dtype: int64"
            ]
          },
          "metadata": {
            "tags": []
          },
          "execution_count": 12
        }
      ]
    },
    {
      "cell_type": "code",
      "metadata": {
        "id": "7ZH2uW3QEZAh",
        "colab_type": "code",
        "outputId": "a7d35661-de07-472f-fe55-2be1877a88c9",
        "colab": {
          "base_uri": "https://localhost:8080/",
          "height": 85
        }
      },
      "source": [
        "df1.columns"
      ],
      "execution_count": 0,
      "outputs": [
        {
          "output_type": "execute_result",
          "data": {
            "text/plain": [
              "Index(['fr_orig', 'dms_origst', 'dms_destst', 'fr_dest', 'fr_inmode',\n",
              "       'dms_mode', 'fr_outmode', 'sctg2', 'trade_type', 'value_2012',\n",
              "       'curval_2012', 'tons_2012', 'tmiles_2012'],\n",
              "      dtype='object')"
            ]
          },
          "metadata": {
            "tags": []
          },
          "execution_count": 13
        }
      ]
    },
    {
      "cell_type": "code",
      "metadata": {
        "id": "2w972YZ5nAKz",
        "colab_type": "code",
        "outputId": "bbc65bfd-e9c2-4c22-edd0-c983a91e0b69",
        "colab": {
          "base_uri": "https://localhost:8080/",
          "height": 187
        }
      },
      "source": [
        "df1['fr_orig'].value_counts(dropna=False)"
      ],
      "execution_count": 0,
      "outputs": [
        {
          "output_type": "execute_result",
          "data": {
            "text/plain": [
              "NaN      349538\n",
              "801.0     50087\n",
              "804.0     33644\n",
              "807.0     31870\n",
              "802.0     25059\n",
              "803.0     20488\n",
              "806.0     16201\n",
              "808.0     15963\n",
              "805.0      6282\n",
              "Name: fr_orig, dtype: int64"
            ]
          },
          "metadata": {
            "tags": []
          },
          "execution_count": 14
        }
      ]
    },
    {
      "cell_type": "code",
      "metadata": {
        "id": "dOzCBrUrIf5G",
        "colab_type": "code",
        "colab": {}
      },
      "source": [
        "fr_orig = df1.replace({'fr_orig': {801: 'Canada',802: 'Mexico',803: 'Rest of Americas',804: 'Europe',805: 'Africa',\n",
        "                         806: 'SW & Central Asia',807: 'Eastern Asia',808: 'SE Asia & Oceania', }})"
      ],
      "execution_count": 0,
      "outputs": []
    },
    {
      "cell_type": "code",
      "metadata": {
        "id": "Dw1MmfAPYo1e",
        "colab_type": "code",
        "outputId": "25235f38-2da5-4e2a-dab6-223988e81bae",
        "colab": {
          "base_uri": "https://localhost:8080/",
          "height": 170
        }
      },
      "source": [
        " a= fr_orig['fr_orig'].value_counts()\n",
        " a"
      ],
      "execution_count": 0,
      "outputs": [
        {
          "output_type": "execute_result",
          "data": {
            "text/plain": [
              "Canada               50087\n",
              "Europe               33644\n",
              "Eastern Asia         31870\n",
              "Mexico               25059\n",
              "Rest of Americas     20488\n",
              "SW & Central Asia    16201\n",
              "SE Asia & Oceania    15963\n",
              "Africa                6282\n",
              "Name: fr_orig, dtype: int64"
            ]
          },
          "metadata": {
            "tags": []
          },
          "execution_count": 16
        }
      ]
    },
    {
      "cell_type": "code",
      "metadata": {
        "id": "_xs1UTIWFcob",
        "colab_type": "code",
        "outputId": "048e7411-57ce-45d0-bb10-e45ed9bacea1",
        "colab": {
          "base_uri": "https://localhost:8080/",
          "height": 483
        }
      },
      "source": [
        "plt.figure(figsize=(14,8))\n",
        "\n",
        "sns.barplot(a.index, a );"
      ],
      "execution_count": 0,
      "outputs": [
        {
          "output_type": "display_data",
          "data": {
            "image/png": "[encoded data removed]",
            "text/plain": [
              "<Figure size 1008x576 with 1 Axes>"
            ]
          },
          "metadata": {
            "tags": []
          }
        }
      ]
    },
    {
      "cell_type": "code",
      "metadata": {
        "id": "0KvJ38G5LDne",
        "colab_type": "code",
        "colab": {}
      },
      "source": [
        "# st = pd.read_excel('/content/State.xlsx')\n",
        "\n",
        "# st.head(10)"
      ],
      "execution_count": 0,
      "outputs": []
    },
    {
      "cell_type": "code",
      "metadata": {
        "id": "nSeEcKf7CckW",
        "colab_type": "code",
        "colab": {}
      },
      "source": [
        "#df1['dms_origst'].value_counts(dropna=False)\n"
      ],
      "execution_count": 0,
      "outputs": []
    },
    {
      "cell_type": "code",
      "metadata": {
        "id": "oWPZS379skd-",
        "colab_type": "code",
        "colab": {}
      },
      "source": [
        "#df1['dms_destst'].value_counts(dropna=False)"
      ],
      "execution_count": 0,
      "outputs": []
    },
    {
      "cell_type": "code",
      "metadata": {
        "id": "eU666QzRskcO",
        "colab_type": "code",
        "colab": {}
      },
      "source": [
        "#df1['fr_inmode'].value_counts(dropna=False)"
      ],
      "execution_count": 0,
      "outputs": []
    },
    {
      "cell_type": "code",
      "metadata": {
        "id": "jnmulB-VskXI",
        "colab_type": "code",
        "colab": {}
      },
      "source": [
        "#df1['fr_dest'].value_counts(dropna=False)"
      ],
      "execution_count": 0,
      "outputs": []
    },
    {
      "cell_type": "code",
      "metadata": {
        "id": "okfPwPm2shY8",
        "colab_type": "code",
        "colab": {}
      },
      "source": [
        "#df1['fr_outmode'].value_counts(dropna=False)"
      ],
      "execution_count": 0,
      "outputs": []
    },
    {
      "cell_type": "code",
      "metadata": {
        "id": "fz_nkDz5B0Ga",
        "colab_type": "code",
        "colab": {}
      },
      "source": [
        "#df1['dms_mode'].value_counts(dropna=False)"
      ],
      "execution_count": 0,
      "outputs": []
    },
    {
      "cell_type": "code",
      "metadata": {
        "id": "LbNZptRunAOg",
        "colab_type": "code",
        "colab": {}
      },
      "source": [
        "#df1['fr_orig'].value_counts(dropna=False)"
      ],
      "execution_count": 0,
      "outputs": []
    },
    {
      "cell_type": "code",
      "metadata": {
        "id": "LzXwA8QLnAU-",
        "colab_type": "code",
        "colab": {}
      },
      "source": [
        "# fr_dest\tfr_inmode\t\tfr_outmode"
      ],
      "execution_count": 0,
      "outputs": []
    },
    {
      "cell_type": "code",
      "metadata": {
        "id": "SYvF-LnOnAZq",
        "colab_type": "code",
        "colab": {}
      },
      "source": [
        "#df1['fr_dest'].value_counts(dropna=False)"
      ],
      "execution_count": 0,
      "outputs": []
    },
    {
      "cell_type": "code",
      "metadata": {
        "id": "ncA8Cy843aUF",
        "colab_type": "code",
        "colab": {}
      },
      "source": [
        "#df1['fr_inmode'].value_counts(dropna=False)"
      ],
      "execution_count": 0,
      "outputs": []
    },
    {
      "cell_type": "code",
      "metadata": {
        "id": "Dch2VFE83VMh",
        "colab_type": "code",
        "colab": {}
      },
      "source": [
        "#df1['fr_outmode'].value_counts(dropna=False)"
      ],
      "execution_count": 0,
      "outputs": []
    },
    {
      "cell_type": "code",
      "metadata": {
        "id": "uDMrhDDPnAzA",
        "colab_type": "code",
        "colab": {}
      },
      "source": [
        "#df1['sctg2'].value_counts(dropna=False)"
      ],
      "execution_count": 0,
      "outputs": []
    },
    {
      "cell_type": "code",
      "metadata": {
        "id": "ci09cY8bnAs6",
        "colab_type": "code",
        "colab": {}
      },
      "source": [
        "#df1['trade_type'].value_counts(dropna=False)"
      ],
      "execution_count": 0,
      "outputs": []
    },
    {
      "cell_type": "code",
      "metadata": {
        "id": "SsGffskSnAmw",
        "colab_type": "code",
        "outputId": "558a7ddf-9a22-4ccb-a332-fadcc6a5676f",
        "colab": {
          "base_uri": "https://localhost:8080/",
          "height": 255
        }
      },
      "source": [
        "df1.corr()['value_2012']"
      ],
      "execution_count": 0,
      "outputs": [
        {
          "output_type": "execute_result",
          "data": {
            "text/plain": [
              "fr_orig        0.013759\n",
              "dms_origst    -0.006022\n",
              "dms_destst    -0.005072\n",
              "fr_dest        0.014740\n",
              "fr_inmode     -0.000671\n",
              "dms_mode      -0.017136\n",
              "fr_outmode    -0.000342\n",
              "sctg2          0.008037\n",
              "trade_type    -0.056105\n",
              "value_2012     1.000000\n",
              "curval_2012    0.999617\n",
              "tons_2012      0.366103\n",
              "tmiles_2012    0.146294\n",
              "Name: value_2012, dtype: float64"
            ]
          },
          "metadata": {
            "tags": []
          },
          "execution_count": 31
        }
      ]
    },
    {
      "cell_type": "code",
      "metadata": {
        "id": "RHq8WrCjnATd",
        "colab_type": "code",
        "outputId": "a46550cb-b214-4f6f-ddcb-3316c282412a",
        "colab": {
          "base_uri": "https://localhost:8080/",
          "height": 317
        }
      },
      "source": [
        "df1.describe()"
      ],
      "execution_count": 0,
      "outputs": [
        {
          "output_type": "execute_result",
          "data": {
            "text/html": [
              "<div>\n",
              "<style scoped>\n",
              "    .dataframe tbody tr th:only-of-type {\n",
              "        vertical-align: middle;\n",
              "    }\n",
              "\n",
              "    .dataframe tbody tr th {\n",
              "        vertical-align: top;\n",
              "    }\n",
              "\n",
              "    .dataframe thead th {\n",
              "        text-align: right;\n",
              "    }\n",
              "</style>\n",
              "<table border=\"1\" class=\"dataframe\">\n",
              "  <thead>\n",
              "    <tr style=\"text-align: right;\">\n",
              "      <th></th>\n",
              "      <th>fr_orig</th>\n",
              "      <th>dms_origst</th>\n",
              "      <th>dms_destst</th>\n",
              "      <th>fr_dest</th>\n",
              "      <th>fr_inmode</th>\n",
              "      <th>dms_mode</th>\n",
              "      <th>fr_outmode</th>\n",
              "      <th>sctg2</th>\n",
              "      <th>trade_type</th>\n",
              "      <th>value_2012</th>\n",
              "      <th>curval_2012</th>\n",
              "      <th>tons_2012</th>\n",
              "      <th>tmiles_2012</th>\n",
              "    </tr>\n",
              "  </thead>\n",
              "  <tbody>\n",
              "    <tr>\n",
              "      <th>count</th>\n",
              "      <td>199594.000000</td>\n",
              "      <td>549132.000000</td>\n",
              "      <td>549132.000000</td>\n",
              "      <td>178923.000000</td>\n",
              "      <td>199594.000000</td>\n",
              "      <td>549132.000000</td>\n",
              "      <td>178923.000000</td>\n",
              "      <td>549132.000000</td>\n",
              "      <td>549132.000000</td>\n",
              "      <td>549132.000000</td>\n",
              "      <td>549132.000000</td>\n",
              "      <td>549132.000000</td>\n",
              "      <td>549132.000000</td>\n",
              "    </tr>\n",
              "    <tr>\n",
              "      <th>mean</th>\n",
              "      <td>803.886164</td>\n",
              "      <td>29.645226</td>\n",
              "      <td>29.268140</td>\n",
              "      <td>803.379538</td>\n",
              "      <td>3.110775</td>\n",
              "      <td>2.616772</td>\n",
              "      <td>3.044656</td>\n",
              "      <td>26.413367</td>\n",
              "      <td>2.015129</td>\n",
              "      <td>31.598195</td>\n",
              "      <td>32.335610</td>\n",
              "      <td>35.805886</td>\n",
              "      <td>11.335785</td>\n",
              "    </tr>\n",
              "    <tr>\n",
              "      <th>std</th>\n",
              "      <td>2.433778</td>\n",
              "      <td>15.456599</td>\n",
              "      <td>15.551545</td>\n",
              "      <td>2.346267</td>\n",
              "      <td>1.249460</td>\n",
              "      <td>1.992371</td>\n",
              "      <td>1.124028</td>\n",
              "      <td>14.496553</td>\n",
              "      <td>0.797684</td>\n",
              "      <td>520.741980</td>\n",
              "      <td>526.752313</td>\n",
              "      <td>972.768628</td>\n",
              "      <td>276.415345</td>\n",
              "    </tr>\n",
              "    <tr>\n",
              "      <th>min</th>\n",
              "      <td>801.000000</td>\n",
              "      <td>1.000000</td>\n",
              "      <td>1.000000</td>\n",
              "      <td>801.000000</td>\n",
              "      <td>1.000000</td>\n",
              "      <td>1.000000</td>\n",
              "      <td>1.000000</td>\n",
              "      <td>1.000000</td>\n",
              "      <td>1.000000</td>\n",
              "      <td>0.000000</td>\n",
              "      <td>0.000000</td>\n",
              "      <td>0.000000</td>\n",
              "      <td>0.000000</td>\n",
              "    </tr>\n",
              "    <tr>\n",
              "      <th>25%</th>\n",
              "      <td>801.000000</td>\n",
              "      <td>17.000000</td>\n",
              "      <td>17.000000</td>\n",
              "      <td>801.000000</td>\n",
              "      <td>3.000000</td>\n",
              "      <td>1.000000</td>\n",
              "      <td>3.000000</td>\n",
              "      <td>19.000000</td>\n",
              "      <td>1.000000</td>\n",
              "      <td>0.003100</td>\n",
              "      <td>0.003400</td>\n",
              "      <td>0.000900</td>\n",
              "      <td>0.000741</td>\n",
              "    </tr>\n",
              "    <tr>\n",
              "      <th>50%</th>\n",
              "      <td>804.000000</td>\n",
              "      <td>30.000000</td>\n",
              "      <td>29.000000</td>\n",
              "      <td>803.000000</td>\n",
              "      <td>3.000000</td>\n",
              "      <td>1.000000</td>\n",
              "      <td>3.000000</td>\n",
              "      <td>28.000000</td>\n",
              "      <td>2.000000</td>\n",
              "      <td>0.085800</td>\n",
              "      <td>0.093800</td>\n",
              "      <td>0.023700</td>\n",
              "      <td>0.020046</td>\n",
              "    </tr>\n",
              "    <tr>\n",
              "      <th>75%</th>\n",
              "      <td>806.000000</td>\n",
              "      <td>42.000000</td>\n",
              "      <td>42.000000</td>\n",
              "      <td>805.000000</td>\n",
              "      <td>4.000000</td>\n",
              "      <td>5.000000</td>\n",
              "      <td>4.000000</td>\n",
              "      <td>35.000000</td>\n",
              "      <td>3.000000</td>\n",
              "      <td>2.031500</td>\n",
              "      <td>2.153800</td>\n",
              "      <td>0.547100</td>\n",
              "      <td>0.454044</td>\n",
              "    </tr>\n",
              "    <tr>\n",
              "      <th>max</th>\n",
              "      <td>808.000000</td>\n",
              "      <td>56.000000</td>\n",
              "      <td>56.000000</td>\n",
              "      <td>808.000000</td>\n",
              "      <td>7.000000</td>\n",
              "      <td>8.000000</td>\n",
              "      <td>7.000000</td>\n",
              "      <td>99.000000</td>\n",
              "      <td>3.000000</td>\n",
              "      <td>116190.009200</td>\n",
              "      <td>116560.244100</td>\n",
              "      <td>195225.844600</td>\n",
              "      <td>107163.382155</td>\n",
              "    </tr>\n",
              "  </tbody>\n",
              "</table>\n",
              "</div>"
            ],
            "text/plain": [
              "             fr_orig     dms_origst  ...      tons_2012    tmiles_2012\n",
              "count  199594.000000  549132.000000  ...  549132.000000  549132.000000\n",
              "mean      803.886164      29.645226  ...      35.805886      11.335785\n",
              "std         2.433778      15.456599  ...     972.768628     276.415345\n",
              "min       801.000000       1.000000  ...       0.000000       0.000000\n",
              "25%       801.000000      17.000000  ...       0.000900       0.000741\n",
              "50%       804.000000      30.000000  ...       0.023700       0.020046\n",
              "75%       806.000000      42.000000  ...       0.547100       0.454044\n",
              "max       808.000000      56.000000  ...  195225.844600  107163.382155\n",
              "\n",
              "[8 rows x 13 columns]"
            ]
          },
          "metadata": {
            "tags": []
          },
          "execution_count": 32
        }
      ]
    },
    {
      "cell_type": "code",
      "metadata": {
        "id": "N29CGI3ynAHX",
        "colab_type": "code",
        "outputId": "ad13565c-0988-440b-da69-a3259abcc768",
        "colab": {
          "base_uri": "https://localhost:8080/",
          "height": 400
        }
      },
      "source": [
        "plt.figure(figsize=(10,6))\n",
        "\n",
        "sns.distplot( df1['value_2012'], kde=True, hist=False);"
      ],
      "execution_count": 0,
      "outputs": [
        {
          "output_type": "display_data",
          "data": {
            "image/png": "[encoded data removed]",
            "text/plain": [
              "<Figure size 720x432 with 1 Axes>"
            ]
          },
          "metadata": {
            "tags": []
          }
        }
      ]
    },
    {
      "cell_type": "code",
      "metadata": {
        "id": "ZIWTDf_MEY6q",
        "colab_type": "code",
        "outputId": "2bd61083-47c1-407f-aa08-c0e6b218b441",
        "colab": {
          "base_uri": "https://localhost:8080/",
          "height": 80
        }
      },
      "source": [
        "df1.mode()"
      ],
      "execution_count": 0,
      "outputs": [
        {
          "output_type": "execute_result",
          "data": {
            "text/html": [
              "<div>\n",
              "<style scoped>\n",
              "    .dataframe tbody tr th:only-of-type {\n",
              "        vertical-align: middle;\n",
              "    }\n",
              "\n",
              "    .dataframe tbody tr th {\n",
              "        vertical-align: top;\n",
              "    }\n",
              "\n",
              "    .dataframe thead th {\n",
              "        text-align: right;\n",
              "    }\n",
              "</style>\n",
              "<table border=\"1\" class=\"dataframe\">\n",
              "  <thead>\n",
              "    <tr style=\"text-align: right;\">\n",
              "      <th></th>\n",
              "      <th>fr_orig</th>\n",
              "      <th>dms_origst</th>\n",
              "      <th>dms_destst</th>\n",
              "      <th>fr_dest</th>\n",
              "      <th>fr_inmode</th>\n",
              "      <th>dms_mode</th>\n",
              "      <th>fr_outmode</th>\n",
              "      <th>sctg2</th>\n",
              "      <th>trade_type</th>\n",
              "      <th>value_2012</th>\n",
              "      <th>curval_2012</th>\n",
              "      <th>tons_2012</th>\n",
              "      <th>tmiles_2012</th>\n",
              "    </tr>\n",
              "  </thead>\n",
              "  <tbody>\n",
              "    <tr>\n",
              "      <th>0</th>\n",
              "      <td>801.0</td>\n",
              "      <td>6</td>\n",
              "      <td>6</td>\n",
              "      <td>801.0</td>\n",
              "      <td>3.0</td>\n",
              "      <td>1</td>\n",
              "      <td>3.0</td>\n",
              "      <td>34</td>\n",
              "      <td>2</td>\n",
              "      <td>0.0</td>\n",
              "      <td>0.0</td>\n",
              "      <td>0.0</td>\n",
              "      <td>0.0</td>\n",
              "    </tr>\n",
              "  </tbody>\n",
              "</table>\n",
              "</div>"
            ],
            "text/plain": [
              "   fr_orig  dms_origst  dms_destst  ...  curval_2012  tons_2012  tmiles_2012\n",
              "0    801.0           6           6  ...          0.0        0.0          0.0\n",
              "\n",
              "[1 rows x 13 columns]"
            ]
          },
          "metadata": {
            "tags": []
          },
          "execution_count": 34
        }
      ]
    },
    {
      "cell_type": "code",
      "metadata": {
        "id": "M5dpzLIybNsj",
        "colab_type": "code",
        "outputId": "39db864e-2a31-4f69-ab63-e1bab71ab7d3",
        "colab": {
          "base_uri": "https://localhost:8080/",
          "height": 204
        }
      },
      "source": [
        "df2 =df1[df1['value_2012']==0]\n",
        "df2.head()"
      ],
      "execution_count": 0,
      "outputs": [
        {
          "output_type": "execute_result",
          "data": {
            "text/html": [
              "<div>\n",
              "<style scoped>\n",
              "    .dataframe tbody tr th:only-of-type {\n",
              "        vertical-align: middle;\n",
              "    }\n",
              "\n",
              "    .dataframe tbody tr th {\n",
              "        vertical-align: top;\n",
              "    }\n",
              "\n",
              "    .dataframe thead th {\n",
              "        text-align: right;\n",
              "    }\n",
              "</style>\n",
              "<table border=\"1\" class=\"dataframe\">\n",
              "  <thead>\n",
              "    <tr style=\"text-align: right;\">\n",
              "      <th></th>\n",
              "      <th>fr_orig</th>\n",
              "      <th>dms_origst</th>\n",
              "      <th>dms_destst</th>\n",
              "      <th>fr_dest</th>\n",
              "      <th>fr_inmode</th>\n",
              "      <th>dms_mode</th>\n",
              "      <th>fr_outmode</th>\n",
              "      <th>sctg2</th>\n",
              "      <th>trade_type</th>\n",
              "      <th>value_2012</th>\n",
              "      <th>curval_2012</th>\n",
              "      <th>tons_2012</th>\n",
              "      <th>tmiles_2012</th>\n",
              "    </tr>\n",
              "  </thead>\n",
              "  <tbody>\n",
              "    <tr>\n",
              "      <th>410862</th>\n",
              "      <td>802.0</td>\n",
              "      <td>26</td>\n",
              "      <td>41</td>\n",
              "      <td>NaN</td>\n",
              "      <td>1.0</td>\n",
              "      <td>1</td>\n",
              "      <td>NaN</td>\n",
              "      <td>37</td>\n",
              "      <td>2</td>\n",
              "      <td>0.0</td>\n",
              "      <td>0.0</td>\n",
              "      <td>0.0000</td>\n",
              "      <td>0.000000</td>\n",
              "    </tr>\n",
              "    <tr>\n",
              "      <th>306246</th>\n",
              "      <td>NaN</td>\n",
              "      <td>49</td>\n",
              "      <td>2</td>\n",
              "      <td>NaN</td>\n",
              "      <td>NaN</td>\n",
              "      <td>1</td>\n",
              "      <td>NaN</td>\n",
              "      <td>5</td>\n",
              "      <td>1</td>\n",
              "      <td>0.0</td>\n",
              "      <td>0.0</td>\n",
              "      <td>0.0000</td>\n",
              "      <td>0.000000</td>\n",
              "    </tr>\n",
              "    <tr>\n",
              "      <th>319695</th>\n",
              "      <td>NaN</td>\n",
              "      <td>51</td>\n",
              "      <td>27</td>\n",
              "      <td>NaN</td>\n",
              "      <td>NaN</td>\n",
              "      <td>1</td>\n",
              "      <td>NaN</td>\n",
              "      <td>10</td>\n",
              "      <td>1</td>\n",
              "      <td>0.0</td>\n",
              "      <td>0.0</td>\n",
              "      <td>0.0001</td>\n",
              "      <td>0.000115</td>\n",
              "    </tr>\n",
              "    <tr>\n",
              "      <th>324251</th>\n",
              "      <td>NaN</td>\n",
              "      <td>51</td>\n",
              "      <td>53</td>\n",
              "      <td>NaN</td>\n",
              "      <td>NaN</td>\n",
              "      <td>1</td>\n",
              "      <td>NaN</td>\n",
              "      <td>18</td>\n",
              "      <td>1</td>\n",
              "      <td>0.0</td>\n",
              "      <td>0.0</td>\n",
              "      <td>0.0000</td>\n",
              "      <td>0.000000</td>\n",
              "    </tr>\n",
              "    <tr>\n",
              "      <th>117777</th>\n",
              "      <td>NaN</td>\n",
              "      <td>21</td>\n",
              "      <td>33</td>\n",
              "      <td>NaN</td>\n",
              "      <td>NaN</td>\n",
              "      <td>1</td>\n",
              "      <td>NaN</td>\n",
              "      <td>11</td>\n",
              "      <td>1</td>\n",
              "      <td>0.0</td>\n",
              "      <td>0.0</td>\n",
              "      <td>0.0002</td>\n",
              "      <td>0.000224</td>\n",
              "    </tr>\n",
              "  </tbody>\n",
              "</table>\n",
              "</div>"
            ],
            "text/plain": [
              "        fr_orig  dms_origst  dms_destst  ...  curval_2012  tons_2012  tmiles_2012\n",
              "410862    802.0          26          41  ...          0.0     0.0000     0.000000\n",
              "306246      NaN          49           2  ...          0.0     0.0000     0.000000\n",
              "319695      NaN          51          27  ...          0.0     0.0001     0.000115\n",
              "324251      NaN          51          53  ...          0.0     0.0000     0.000000\n",
              "117777      NaN          21          33  ...          0.0     0.0002     0.000224\n",
              "\n",
              "[5 rows x 13 columns]"
            ]
          },
          "metadata": {
            "tags": []
          },
          "execution_count": 35
        }
      ]
    },
    {
      "cell_type": "code",
      "metadata": {
        "id": "zzBhqadLb5-H",
        "colab_type": "code",
        "outputId": "cba94449-7fc9-47e4-9b27-503e07545330",
        "colab": {
          "base_uri": "https://localhost:8080/",
          "height": 34
        }
      },
      "source": [
        "df2.shape"
      ],
      "execution_count": 0,
      "outputs": [
        {
          "output_type": "execute_result",
          "data": {
            "text/plain": [
              "(47901, 13)"
            ]
          },
          "metadata": {
            "tags": []
          },
          "execution_count": 36
        }
      ]
    },
    {
      "cell_type": "code",
      "metadata": {
        "id": "aOq25rCBb6E4",
        "colab_type": "code",
        "outputId": "113223b8-91c9-4045-8f59-1179ed0a4c72",
        "colab": {
          "base_uri": "https://localhost:8080/",
          "height": 204
        }
      },
      "source": [
        "df3 =df1[df1['value_2012']!=0]\n",
        "df3.head()"
      ],
      "execution_count": 0,
      "outputs": [
        {
          "output_type": "execute_result",
          "data": {
            "text/html": [
              "<div>\n",
              "<style scoped>\n",
              "    .dataframe tbody tr th:only-of-type {\n",
              "        vertical-align: middle;\n",
              "    }\n",
              "\n",
              "    .dataframe tbody tr th {\n",
              "        vertical-align: top;\n",
              "    }\n",
              "\n",
              "    .dataframe thead th {\n",
              "        text-align: right;\n",
              "    }\n",
              "</style>\n",
              "<table border=\"1\" class=\"dataframe\">\n",
              "  <thead>\n",
              "    <tr style=\"text-align: right;\">\n",
              "      <th></th>\n",
              "      <th>fr_orig</th>\n",
              "      <th>dms_origst</th>\n",
              "      <th>dms_destst</th>\n",
              "      <th>fr_dest</th>\n",
              "      <th>fr_inmode</th>\n",
              "      <th>dms_mode</th>\n",
              "      <th>fr_outmode</th>\n",
              "      <th>sctg2</th>\n",
              "      <th>trade_type</th>\n",
              "      <th>value_2012</th>\n",
              "      <th>curval_2012</th>\n",
              "      <th>tons_2012</th>\n",
              "      <th>tmiles_2012</th>\n",
              "    </tr>\n",
              "  </thead>\n",
              "  <tbody>\n",
              "    <tr>\n",
              "      <th>360883</th>\n",
              "      <td>801.0</td>\n",
              "      <td>22</td>\n",
              "      <td>1</td>\n",
              "      <td>NaN</td>\n",
              "      <td>4.0</td>\n",
              "      <td>4</td>\n",
              "      <td>NaN</td>\n",
              "      <td>33</td>\n",
              "      <td>2</td>\n",
              "      <td>0.1720</td>\n",
              "      <td>0.1905</td>\n",
              "      <td>0.0009</td>\n",
              "      <td>0.000308</td>\n",
              "    </tr>\n",
              "    <tr>\n",
              "      <th>14038</th>\n",
              "      <td>NaN</td>\n",
              "      <td>4</td>\n",
              "      <td>34</td>\n",
              "      <td>806.0</td>\n",
              "      <td>NaN</td>\n",
              "      <td>1</td>\n",
              "      <td>3.0</td>\n",
              "      <td>24</td>\n",
              "      <td>3</td>\n",
              "      <td>0.1120</td>\n",
              "      <td>0.1241</td>\n",
              "      <td>0.0257</td>\n",
              "      <td>0.062855</td>\n",
              "    </tr>\n",
              "    <tr>\n",
              "      <th>394561</th>\n",
              "      <td>801.0</td>\n",
              "      <td>50</td>\n",
              "      <td>40</td>\n",
              "      <td>NaN</td>\n",
              "      <td>2.0</td>\n",
              "      <td>2</td>\n",
              "      <td>NaN</td>\n",
              "      <td>4</td>\n",
              "      <td>2</td>\n",
              "      <td>0.0011</td>\n",
              "      <td>0.0011</td>\n",
              "      <td>0.0109</td>\n",
              "      <td>0.017792</td>\n",
              "    </tr>\n",
              "    <tr>\n",
              "      <th>89563</th>\n",
              "      <td>NaN</td>\n",
              "      <td>17</td>\n",
              "      <td>45</td>\n",
              "      <td>NaN</td>\n",
              "      <td>NaN</td>\n",
              "      <td>1</td>\n",
              "      <td>NaN</td>\n",
              "      <td>7</td>\n",
              "      <td>1</td>\n",
              "      <td>46.6200</td>\n",
              "      <td>46.5642</td>\n",
              "      <td>26.3678</td>\n",
              "      <td>20.716746</td>\n",
              "    </tr>\n",
              "    <tr>\n",
              "      <th>8037</th>\n",
              "      <td>NaN</td>\n",
              "      <td>2</td>\n",
              "      <td>9</td>\n",
              "      <td>NaN</td>\n",
              "      <td>NaN</td>\n",
              "      <td>1</td>\n",
              "      <td>NaN</td>\n",
              "      <td>30</td>\n",
              "      <td>1</td>\n",
              "      <td>0.0008</td>\n",
              "      <td>0.0008</td>\n",
              "      <td>0.0001</td>\n",
              "      <td>0.000388</td>\n",
              "    </tr>\n",
              "  </tbody>\n",
              "</table>\n",
              "</div>"
            ],
            "text/plain": [
              "        fr_orig  dms_origst  dms_destst  ...  curval_2012  tons_2012  tmiles_2012\n",
              "360883    801.0          22           1  ...       0.1905     0.0009     0.000308\n",
              "14038       NaN           4          34  ...       0.1241     0.0257     0.062855\n",
              "394561    801.0          50          40  ...       0.0011     0.0109     0.017792\n",
              "89563       NaN          17          45  ...      46.5642    26.3678    20.716746\n",
              "8037        NaN           2           9  ...       0.0008     0.0001     0.000388\n",
              "\n",
              "[5 rows x 13 columns]"
            ]
          },
          "metadata": {
            "tags": []
          },
          "execution_count": 37
        }
      ]
    },
    {
      "cell_type": "code",
      "metadata": {
        "id": "rDCwKcC1cUBr",
        "colab_type": "code",
        "outputId": "546e9438-0285-4c3c-bbf9-6db97cb6ef72",
        "colab": {
          "base_uri": "https://localhost:8080/",
          "height": 34
        }
      },
      "source": [
        "df3.shape"
      ],
      "execution_count": 0,
      "outputs": [
        {
          "output_type": "execute_result",
          "data": {
            "text/plain": [
              "(501231, 13)"
            ]
          },
          "metadata": {
            "tags": []
          },
          "execution_count": 38
        }
      ]
    },
    {
      "cell_type": "code",
      "metadata": {
        "id": "ZO358rJhcZ3O",
        "colab_type": "code",
        "outputId": "34455444-a334-404a-aacf-d3a19d22e357",
        "colab": {
          "base_uri": "https://localhost:8080/",
          "height": 291
        }
      },
      "source": [
        "sns.distplot( df3['value_2012'], kde=True, hist=False);"
      ],
      "execution_count": 0,
      "outputs": [
        {
          "output_type": "display_data",
          "data": {
            "image/png": "[encoded data removed]",
            "text/plain": [
              "<Figure size 432x288 with 1 Axes>"
            ]
          },
          "metadata": {
            "tags": []
          }
        }
      ]
    },
    {
      "cell_type": "code",
      "metadata": {
        "id": "90dfpozmck3k",
        "colab_type": "code",
        "outputId": "f18ec316-b7f0-4a74-aff7-39f47c4e50e8",
        "colab": {
          "base_uri": "https://localhost:8080/",
          "height": 80
        }
      },
      "source": [
        "df3.mode()"
      ],
      "execution_count": 0,
      "outputs": [
        {
          "output_type": "execute_result",
          "data": {
            "text/html": [
              "<div>\n",
              "<style scoped>\n",
              "    .dataframe tbody tr th:only-of-type {\n",
              "        vertical-align: middle;\n",
              "    }\n",
              "\n",
              "    .dataframe tbody tr th {\n",
              "        vertical-align: top;\n",
              "    }\n",
              "\n",
              "    .dataframe thead th {\n",
              "        text-align: right;\n",
              "    }\n",
              "</style>\n",
              "<table border=\"1\" class=\"dataframe\">\n",
              "  <thead>\n",
              "    <tr style=\"text-align: right;\">\n",
              "      <th></th>\n",
              "      <th>fr_orig</th>\n",
              "      <th>dms_origst</th>\n",
              "      <th>dms_destst</th>\n",
              "      <th>fr_dest</th>\n",
              "      <th>fr_inmode</th>\n",
              "      <th>dms_mode</th>\n",
              "      <th>fr_outmode</th>\n",
              "      <th>sctg2</th>\n",
              "      <th>trade_type</th>\n",
              "      <th>value_2012</th>\n",
              "      <th>curval_2012</th>\n",
              "      <th>tons_2012</th>\n",
              "      <th>tmiles_2012</th>\n",
              "    </tr>\n",
              "  </thead>\n",
              "  <tbody>\n",
              "    <tr>\n",
              "      <th>0</th>\n",
              "      <td>801.0</td>\n",
              "      <td>6</td>\n",
              "      <td>6</td>\n",
              "      <td>801.0</td>\n",
              "      <td>3.0</td>\n",
              "      <td>1</td>\n",
              "      <td>3.0</td>\n",
              "      <td>34</td>\n",
              "      <td>2</td>\n",
              "      <td>0.0001</td>\n",
              "      <td>0.0001</td>\n",
              "      <td>0.0</td>\n",
              "      <td>0.0</td>\n",
              "    </tr>\n",
              "  </tbody>\n",
              "</table>\n",
              "</div>"
            ],
            "text/plain": [
              "   fr_orig  dms_origst  dms_destst  ...  curval_2012  tons_2012  tmiles_2012\n",
              "0    801.0           6           6  ...       0.0001        0.0          0.0\n",
              "\n",
              "[1 rows x 13 columns]"
            ]
          },
          "metadata": {
            "tags": []
          },
          "execution_count": 40
        }
      ]
    },
    {
      "cell_type": "code",
      "metadata": {
        "id": "7bwocSOYdJ0R",
        "colab_type": "code",
        "outputId": "5f7c1b0f-9c9e-4fd3-8ca2-511ab225f0c6",
        "colab": {
          "base_uri": "https://localhost:8080/",
          "height": 323
        }
      },
      "source": [
        "df3.info()"
      ],
      "execution_count": 0,
      "outputs": [
        {
          "output_type": "stream",
          "text": [
            "<class 'pandas.core.frame.DataFrame'>\n",
            "Int64Index: 501231 entries, 360883 to 392147\n",
            "Data columns (total 13 columns):\n",
            "fr_orig        183299 non-null float64\n",
            "dms_origst     501231 non-null int64\n",
            "dms_destst     501231 non-null int64\n",
            "fr_dest        168890 non-null float64\n",
            "fr_inmode      183299 non-null float64\n",
            "dms_mode       501231 non-null int64\n",
            "fr_outmode     168890 non-null float64\n",
            "sctg2          501231 non-null int64\n",
            "trade_type     501231 non-null int64\n",
            "value_2012     501231 non-null float64\n",
            "curval_2012    501231 non-null float64\n",
            "tons_2012      501231 non-null float64\n",
            "tmiles_2012    501231 non-null float64\n",
            "dtypes: float64(8), int64(5)\n",
            "memory usage: 53.5 MB\n"
          ],
          "name": "stdout"
        }
      ]
    },
    {
      "cell_type": "code",
      "metadata": {
        "id": "p10cjBlLck1E",
        "colab_type": "code",
        "outputId": "16669119-3164-4aae-b3ba-56a6541927b4",
        "colab": {
          "base_uri": "https://localhost:8080/",
          "height": 187
        }
      },
      "source": [
        "mask = df3.isnull().sum()\n",
        "mask[mask==0]"
      ],
      "execution_count": 0,
      "outputs": [
        {
          "output_type": "execute_result",
          "data": {
            "text/plain": [
              "dms_origst     0\n",
              "dms_destst     0\n",
              "dms_mode       0\n",
              "sctg2          0\n",
              "trade_type     0\n",
              "value_2012     0\n",
              "curval_2012    0\n",
              "tons_2012      0\n",
              "tmiles_2012    0\n",
              "dtype: int64"
            ]
          },
          "metadata": {
            "tags": []
          },
          "execution_count": 42
        }
      ]
    },
    {
      "cell_type": "code",
      "metadata": {
        "id": "fBDZ-t7kckwz",
        "colab_type": "code",
        "outputId": "b54a1002-788f-4f24-d55b-03f308583401",
        "colab": {
          "base_uri": "https://localhost:8080/",
          "height": 221
        }
      },
      "source": [
        "mask = df3['value_2012'].value_counts()\n",
        "mask[mask>4]"
      ],
      "execution_count": 0,
      "outputs": [
        {
          "output_type": "execute_result",
          "data": {
            "text/plain": [
              "0.0001    14024\n",
              "0.0002     9092\n",
              "0.0003     6891\n",
              "0.0004     5341\n",
              "0.0005     5028\n",
              "          ...  \n",
              "2.2954        5\n",
              "1.8581        5\n",
              "0.7784        5\n",
              "1.1735        5\n",
              "0.7114        5\n",
              "Name: value_2012, Length: 10806, dtype: int64"
            ]
          },
          "metadata": {
            "tags": []
          },
          "execution_count": 43
        }
      ]
    },
    {
      "cell_type": "code",
      "metadata": {
        "id": "Uk2-necgYHcq",
        "colab_type": "code",
        "colab": {}
      },
      "source": [
        ""
      ],
      "execution_count": 0,
      "outputs": []
    },
    {
      "cell_type": "code",
      "metadata": {
        "colab_type": "code",
        "outputId": "9266e4cd-d080-447d-fa05-ac464f1d89ec",
        "id": "F12qXjFsXuUJ",
        "colab": {
          "base_uri": "https://localhost:8080/",
          "height": 204
        }
      },
      "source": [
        "val = pd.DataFrame(df3['value_2012'].value_counts())\n",
        "val.tail()"
      ],
      "execution_count": 0,
      "outputs": [
        {
          "output_type": "execute_result",
          "data": {
            "text/html": [
              "<div>\n",
              "<style scoped>\n",
              "    .dataframe tbody tr th:only-of-type {\n",
              "        vertical-align: middle;\n",
              "    }\n",
              "\n",
              "    .dataframe tbody tr th {\n",
              "        vertical-align: top;\n",
              "    }\n",
              "\n",
              "    .dataframe thead th {\n",
              "        text-align: right;\n",
              "    }\n",
              "</style>\n",
              "<table border=\"1\" class=\"dataframe\">\n",
              "  <thead>\n",
              "    <tr style=\"text-align: right;\">\n",
              "      <th></th>\n",
              "      <th>value_2012</th>\n",
              "    </tr>\n",
              "  </thead>\n",
              "  <tbody>\n",
              "    <tr>\n",
              "      <th>1.5252</th>\n",
              "      <td>1</td>\n",
              "    </tr>\n",
              "    <tr>\n",
              "      <th>6.1401</th>\n",
              "      <td>1</td>\n",
              "    </tr>\n",
              "    <tr>\n",
              "      <th>1.5373</th>\n",
              "      <td>1</td>\n",
              "    </tr>\n",
              "    <tr>\n",
              "      <th>15.0021</th>\n",
              "      <td>1</td>\n",
              "    </tr>\n",
              "    <tr>\n",
              "      <th>7.5859</th>\n",
              "      <td>1</td>\n",
              "    </tr>\n",
              "  </tbody>\n",
              "</table>\n",
              "</div>"
            ],
            "text/plain": [
              "         value_2012\n",
              "1.5252            1\n",
              "6.1401            1\n",
              "1.5373            1\n",
              "15.0021           1\n",
              "7.5859            1"
            ]
          },
          "metadata": {
            "tags": []
          },
          "execution_count": 44
        }
      ]
    },
    {
      "cell_type": "code",
      "metadata": {
        "id": "R2tU30OPYgGD",
        "colab_type": "code",
        "outputId": "c096b55f-8b39-46b9-ff8d-68e77e980425",
        "colab": {
          "base_uri": "https://localhost:8080/",
          "height": 669
        }
      },
      "source": [
        "val2 =val.reset_index()\n",
        "val2.head(20)"
      ],
      "execution_count": 0,
      "outputs": [
        {
          "output_type": "execute_result",
          "data": {
            "text/html": [
              "<div>\n",
              "<style scoped>\n",
              "    .dataframe tbody tr th:only-of-type {\n",
              "        vertical-align: middle;\n",
              "    }\n",
              "\n",
              "    .dataframe tbody tr th {\n",
              "        vertical-align: top;\n",
              "    }\n",
              "\n",
              "    .dataframe thead th {\n",
              "        text-align: right;\n",
              "    }\n",
              "</style>\n",
              "<table border=\"1\" class=\"dataframe\">\n",
              "  <thead>\n",
              "    <tr style=\"text-align: right;\">\n",
              "      <th></th>\n",
              "      <th>index</th>\n",
              "      <th>value_2012</th>\n",
              "    </tr>\n",
              "  </thead>\n",
              "  <tbody>\n",
              "    <tr>\n",
              "      <th>0</th>\n",
              "      <td>0.0001</td>\n",
              "      <td>14024</td>\n",
              "    </tr>\n",
              "    <tr>\n",
              "      <th>1</th>\n",
              "      <td>0.0002</td>\n",
              "      <td>9092</td>\n",
              "    </tr>\n",
              "    <tr>\n",
              "      <th>2</th>\n",
              "      <td>0.0003</td>\n",
              "      <td>6891</td>\n",
              "    </tr>\n",
              "    <tr>\n",
              "      <th>3</th>\n",
              "      <td>0.0004</td>\n",
              "      <td>5341</td>\n",
              "    </tr>\n",
              "    <tr>\n",
              "      <th>4</th>\n",
              "      <td>0.0005</td>\n",
              "      <td>5028</td>\n",
              "    </tr>\n",
              "    <tr>\n",
              "      <th>5</th>\n",
              "      <td>0.0006</td>\n",
              "      <td>3794</td>\n",
              "    </tr>\n",
              "    <tr>\n",
              "      <th>6</th>\n",
              "      <td>0.0007</td>\n",
              "      <td>3746</td>\n",
              "    </tr>\n",
              "    <tr>\n",
              "      <th>7</th>\n",
              "      <td>0.0008</td>\n",
              "      <td>3197</td>\n",
              "    </tr>\n",
              "    <tr>\n",
              "      <th>8</th>\n",
              "      <td>0.0009</td>\n",
              "      <td>2984</td>\n",
              "    </tr>\n",
              "    <tr>\n",
              "      <th>9</th>\n",
              "      <td>0.0010</td>\n",
              "      <td>2673</td>\n",
              "    </tr>\n",
              "    <tr>\n",
              "      <th>10</th>\n",
              "      <td>0.0011</td>\n",
              "      <td>2366</td>\n",
              "    </tr>\n",
              "    <tr>\n",
              "      <th>11</th>\n",
              "      <td>0.0012</td>\n",
              "      <td>2316</td>\n",
              "    </tr>\n",
              "    <tr>\n",
              "      <th>12</th>\n",
              "      <td>0.0014</td>\n",
              "      <td>2129</td>\n",
              "    </tr>\n",
              "    <tr>\n",
              "      <th>13</th>\n",
              "      <td>0.0013</td>\n",
              "      <td>2078</td>\n",
              "    </tr>\n",
              "    <tr>\n",
              "      <th>14</th>\n",
              "      <td>0.0016</td>\n",
              "      <td>2073</td>\n",
              "    </tr>\n",
              "    <tr>\n",
              "      <th>15</th>\n",
              "      <td>0.0015</td>\n",
              "      <td>1803</td>\n",
              "    </tr>\n",
              "    <tr>\n",
              "      <th>16</th>\n",
              "      <td>0.0018</td>\n",
              "      <td>1719</td>\n",
              "    </tr>\n",
              "    <tr>\n",
              "      <th>17</th>\n",
              "      <td>0.0017</td>\n",
              "      <td>1675</td>\n",
              "    </tr>\n",
              "    <tr>\n",
              "      <th>18</th>\n",
              "      <td>0.0020</td>\n",
              "      <td>1645</td>\n",
              "    </tr>\n",
              "    <tr>\n",
              "      <th>19</th>\n",
              "      <td>0.0019</td>\n",
              "      <td>1548</td>\n",
              "    </tr>\n",
              "  </tbody>\n",
              "</table>\n",
              "</div>"
            ],
            "text/plain": [
              "     index  value_2012\n",
              "0   0.0001       14024\n",
              "1   0.0002        9092\n",
              "2   0.0003        6891\n",
              "3   0.0004        5341\n",
              "4   0.0005        5028\n",
              "5   0.0006        3794\n",
              "6   0.0007        3746\n",
              "7   0.0008        3197\n",
              "8   0.0009        2984\n",
              "9   0.0010        2673\n",
              "10  0.0011        2366\n",
              "11  0.0012        2316\n",
              "12  0.0014        2129\n",
              "13  0.0013        2078\n",
              "14  0.0016        2073\n",
              "15  0.0015        1803\n",
              "16  0.0018        1719\n",
              "17  0.0017        1675\n",
              "18  0.0020        1645\n",
              "19  0.0019        1548"
            ]
          },
          "metadata": {
            "tags": []
          },
          "execution_count": 45
        }
      ]
    },
    {
      "cell_type": "code",
      "metadata": {
        "id": "WYwR-PWcZM3I",
        "colab_type": "code",
        "outputId": "656dc881-4c96-4aa3-f2ec-005b9b3c74ff",
        "colab": {
          "base_uri": "https://localhost:8080/",
          "height": 51
        }
      },
      "source": [
        "val.count()"
      ],
      "execution_count": 0,
      "outputs": [
        {
          "output_type": "execute_result",
          "data": {
            "text/plain": [
              "value_2012    132639\n",
              "dtype: int64"
            ]
          },
          "metadata": {
            "tags": []
          },
          "execution_count": 46
        }
      ]
    },
    {
      "cell_type": "code",
      "metadata": {
        "id": "GZRrKGmHY1tC",
        "colab_type": "code",
        "outputId": "42821977-5fd4-49a9-e2d7-2e3cc41b4071",
        "colab": {
          "base_uri": "https://localhost:8080/",
          "height": 51
        }
      },
      "source": [
        "val1 =val[val['value_2012']>1]\n",
        "val1.count()"
      ],
      "execution_count": 0,
      "outputs": [
        {
          "output_type": "execute_result",
          "data": {
            "text/plain": [
              "value_2012    34964\n",
              "dtype: int64"
            ]
          },
          "metadata": {
            "tags": []
          },
          "execution_count": 47
        }
      ]
    },
    {
      "cell_type": "code",
      "metadata": {
        "id": "BvsIWMxEXf7O",
        "colab_type": "code",
        "outputId": "c09b49e3-43ab-4ed1-9d4c-2669b3ccad3d",
        "colab": {
          "base_uri": "https://localhost:8080/",
          "height": 51
        }
      },
      "source": [
        "val1 =val[val['value_2012']==1]\n",
        "val1.count()"
      ],
      "execution_count": 0,
      "outputs": [
        {
          "output_type": "execute_result",
          "data": {
            "text/plain": [
              "value_2012    97675\n",
              "dtype: int64"
            ]
          },
          "metadata": {
            "tags": []
          },
          "execution_count": 48
        }
      ]
    },
    {
      "cell_type": "code",
      "metadata": {
        "id": "AWhQrQ0mgxh_",
        "colab_type": "code",
        "outputId": "24bcd2e6-7bdb-4055-b3bc-8c339993ba1f",
        "colab": {
          "base_uri": "https://localhost:8080/",
          "height": 204
        }
      },
      "source": [
        "df3.head()"
      ],
      "execution_count": 0,
      "outputs": [
        {
          "output_type": "execute_result",
          "data": {
            "text/html": [
              "<div>\n",
              "<style scoped>\n",
              "    .dataframe tbody tr th:only-of-type {\n",
              "        vertical-align: middle;\n",
              "    }\n",
              "\n",
              "    .dataframe tbody tr th {\n",
              "        vertical-align: top;\n",
              "    }\n",
              "\n",
              "    .dataframe thead th {\n",
              "        text-align: right;\n",
              "    }\n",
              "</style>\n",
              "<table border=\"1\" class=\"dataframe\">\n",
              "  <thead>\n",
              "    <tr style=\"text-align: right;\">\n",
              "      <th></th>\n",
              "      <th>fr_orig</th>\n",
              "      <th>dms_origst</th>\n",
              "      <th>dms_destst</th>\n",
              "      <th>fr_dest</th>\n",
              "      <th>fr_inmode</th>\n",
              "      <th>dms_mode</th>\n",
              "      <th>fr_outmode</th>\n",
              "      <th>sctg2</th>\n",
              "      <th>trade_type</th>\n",
              "      <th>value_2012</th>\n",
              "      <th>curval_2012</th>\n",
              "      <th>tons_2012</th>\n",
              "      <th>tmiles_2012</th>\n",
              "    </tr>\n",
              "  </thead>\n",
              "  <tbody>\n",
              "    <tr>\n",
              "      <th>360883</th>\n",
              "      <td>801.0</td>\n",
              "      <td>22</td>\n",
              "      <td>1</td>\n",
              "      <td>NaN</td>\n",
              "      <td>4.0</td>\n",
              "      <td>4</td>\n",
              "      <td>NaN</td>\n",
              "      <td>33</td>\n",
              "      <td>2</td>\n",
              "      <td>0.1720</td>\n",
              "      <td>0.1905</td>\n",
              "      <td>0.0009</td>\n",
              "      <td>0.000308</td>\n",
              "    </tr>\n",
              "    <tr>\n",
              "      <th>14038</th>\n",
              "      <td>NaN</td>\n",
              "      <td>4</td>\n",
              "      <td>34</td>\n",
              "      <td>806.0</td>\n",
              "      <td>NaN</td>\n",
              "      <td>1</td>\n",
              "      <td>3.0</td>\n",
              "      <td>24</td>\n",
              "      <td>3</td>\n",
              "      <td>0.1120</td>\n",
              "      <td>0.1241</td>\n",
              "      <td>0.0257</td>\n",
              "      <td>0.062855</td>\n",
              "    </tr>\n",
              "    <tr>\n",
              "      <th>394561</th>\n",
              "      <td>801.0</td>\n",
              "      <td>50</td>\n",
              "      <td>40</td>\n",
              "      <td>NaN</td>\n",
              "      <td>2.0</td>\n",
              "      <td>2</td>\n",
              "      <td>NaN</td>\n",
              "      <td>4</td>\n",
              "      <td>2</td>\n",
              "      <td>0.0011</td>\n",
              "      <td>0.0011</td>\n",
              "      <td>0.0109</td>\n",
              "      <td>0.017792</td>\n",
              "    </tr>\n",
              "    <tr>\n",
              "      <th>89563</th>\n",
              "      <td>NaN</td>\n",
              "      <td>17</td>\n",
              "      <td>45</td>\n",
              "      <td>NaN</td>\n",
              "      <td>NaN</td>\n",
              "      <td>1</td>\n",
              "      <td>NaN</td>\n",
              "      <td>7</td>\n",
              "      <td>1</td>\n",
              "      <td>46.6200</td>\n",
              "      <td>46.5642</td>\n",
              "      <td>26.3678</td>\n",
              "      <td>20.716746</td>\n",
              "    </tr>\n",
              "    <tr>\n",
              "      <th>8037</th>\n",
              "      <td>NaN</td>\n",
              "      <td>2</td>\n",
              "      <td>9</td>\n",
              "      <td>NaN</td>\n",
              "      <td>NaN</td>\n",
              "      <td>1</td>\n",
              "      <td>NaN</td>\n",
              "      <td>30</td>\n",
              "      <td>1</td>\n",
              "      <td>0.0008</td>\n",
              "      <td>0.0008</td>\n",
              "      <td>0.0001</td>\n",
              "      <td>0.000388</td>\n",
              "    </tr>\n",
              "  </tbody>\n",
              "</table>\n",
              "</div>"
            ],
            "text/plain": [
              "        fr_orig  dms_origst  dms_destst  ...  curval_2012  tons_2012  tmiles_2012\n",
              "360883    801.0          22           1  ...       0.1905     0.0009     0.000308\n",
              "14038       NaN           4          34  ...       0.1241     0.0257     0.062855\n",
              "394561    801.0          50          40  ...       0.0011     0.0109     0.017792\n",
              "89563       NaN          17          45  ...      46.5642    26.3678    20.716746\n",
              "8037        NaN           2           9  ...       0.0008     0.0001     0.000388\n",
              "\n",
              "[5 rows x 13 columns]"
            ]
          },
          "metadata": {
            "tags": []
          },
          "execution_count": 49
        }
      ]
    },
    {
      "cell_type": "code",
      "metadata": {
        "id": "xOBeA6J6cktR",
        "colab_type": "code",
        "colab": {}
      },
      "source": [
        "df_na =df3.fillna(0)\n"
      ],
      "execution_count": 0,
      "outputs": []
    },
    {
      "cell_type": "code",
      "metadata": {
        "id": "kdIqgb0axfgf",
        "colab_type": "code",
        "outputId": "cf440edf-1a9e-4468-8f5b-32189bfaba3b",
        "colab": {
          "base_uri": "https://localhost:8080/",
          "height": 204
        }
      },
      "source": [
        "df_na.head()"
      ],
      "execution_count": 0,
      "outputs": [
        {
          "output_type": "execute_result",
          "data": {
            "text/html": [
              "<div>\n",
              "<style scoped>\n",
              "    .dataframe tbody tr th:only-of-type {\n",
              "        vertical-align: middle;\n",
              "    }\n",
              "\n",
              "    .dataframe tbody tr th {\n",
              "        vertical-align: top;\n",
              "    }\n",
              "\n",
              "    .dataframe thead th {\n",
              "        text-align: right;\n",
              "    }\n",
              "</style>\n",
              "<table border=\"1\" class=\"dataframe\">\n",
              "  <thead>\n",
              "    <tr style=\"text-align: right;\">\n",
              "      <th></th>\n",
              "      <th>fr_orig</th>\n",
              "      <th>dms_origst</th>\n",
              "      <th>dms_destst</th>\n",
              "      <th>fr_dest</th>\n",
              "      <th>fr_inmode</th>\n",
              "      <th>dms_mode</th>\n",
              "      <th>fr_outmode</th>\n",
              "      <th>sctg2</th>\n",
              "      <th>trade_type</th>\n",
              "      <th>value_2012</th>\n",
              "      <th>curval_2012</th>\n",
              "      <th>tons_2012</th>\n",
              "      <th>tmiles_2012</th>\n",
              "    </tr>\n",
              "  </thead>\n",
              "  <tbody>\n",
              "    <tr>\n",
              "      <th>360883</th>\n",
              "      <td>801.0</td>\n",
              "      <td>22</td>\n",
              "      <td>1</td>\n",
              "      <td>0.0</td>\n",
              "      <td>4.0</td>\n",
              "      <td>4</td>\n",
              "      <td>0.0</td>\n",
              "      <td>33</td>\n",
              "      <td>2</td>\n",
              "      <td>0.1720</td>\n",
              "      <td>0.1905</td>\n",
              "      <td>0.0009</td>\n",
              "      <td>0.000308</td>\n",
              "    </tr>\n",
              "    <tr>\n",
              "      <th>14038</th>\n",
              "      <td>0.0</td>\n",
              "      <td>4</td>\n",
              "      <td>34</td>\n",
              "      <td>806.0</td>\n",
              "      <td>0.0</td>\n",
              "      <td>1</td>\n",
              "      <td>3.0</td>\n",
              "      <td>24</td>\n",
              "      <td>3</td>\n",
              "      <td>0.1120</td>\n",
              "      <td>0.1241</td>\n",
              "      <td>0.0257</td>\n",
              "      <td>0.062855</td>\n",
              "    </tr>\n",
              "    <tr>\n",
              "      <th>394561</th>\n",
              "      <td>801.0</td>\n",
              "      <td>50</td>\n",
              "      <td>40</td>\n",
              "      <td>0.0</td>\n",
              "      <td>2.0</td>\n",
              "      <td>2</td>\n",
              "      <td>0.0</td>\n",
              "      <td>4</td>\n",
              "      <td>2</td>\n",
              "      <td>0.0011</td>\n",
              "      <td>0.0011</td>\n",
              "      <td>0.0109</td>\n",
              "      <td>0.017792</td>\n",
              "    </tr>\n",
              "    <tr>\n",
              "      <th>89563</th>\n",
              "      <td>0.0</td>\n",
              "      <td>17</td>\n",
              "      <td>45</td>\n",
              "      <td>0.0</td>\n",
              "      <td>0.0</td>\n",
              "      <td>1</td>\n",
              "      <td>0.0</td>\n",
              "      <td>7</td>\n",
              "      <td>1</td>\n",
              "      <td>46.6200</td>\n",
              "      <td>46.5642</td>\n",
              "      <td>26.3678</td>\n",
              "      <td>20.716746</td>\n",
              "    </tr>\n",
              "    <tr>\n",
              "      <th>8037</th>\n",
              "      <td>0.0</td>\n",
              "      <td>2</td>\n",
              "      <td>9</td>\n",
              "      <td>0.0</td>\n",
              "      <td>0.0</td>\n",
              "      <td>1</td>\n",
              "      <td>0.0</td>\n",
              "      <td>30</td>\n",
              "      <td>1</td>\n",
              "      <td>0.0008</td>\n",
              "      <td>0.0008</td>\n",
              "      <td>0.0001</td>\n",
              "      <td>0.000388</td>\n",
              "    </tr>\n",
              "  </tbody>\n",
              "</table>\n",
              "</div>"
            ],
            "text/plain": [
              "        fr_orig  dms_origst  dms_destst  ...  curval_2012  tons_2012  tmiles_2012\n",
              "360883    801.0          22           1  ...       0.1905     0.0009     0.000308\n",
              "14038       0.0           4          34  ...       0.1241     0.0257     0.062855\n",
              "394561    801.0          50          40  ...       0.0011     0.0109     0.017792\n",
              "89563       0.0          17          45  ...      46.5642    26.3678    20.716746\n",
              "8037        0.0           2           9  ...       0.0008     0.0001     0.000388\n",
              "\n",
              "[5 rows x 13 columns]"
            ]
          },
          "metadata": {
            "tags": []
          },
          "execution_count": 51
        }
      ]
    },
    {
      "cell_type": "code",
      "metadata": {
        "id": "Xs2mt8quckrI",
        "colab_type": "code",
        "outputId": "c016a971-05c3-4323-c831-112e732828e0",
        "colab": {
          "base_uri": "https://localhost:8080/",
          "height": 588
        }
      },
      "source": [
        "plt.figure(figsize=(16,9))\n",
        "\n",
        "sns.heatmap(df_na.corr(), annot=True);"
      ],
      "execution_count": 0,
      "outputs": [
        {
          "output_type": "display_data",
          "data": {
            "image/png": "[encoded data removed]",
            "text/plain": [
              "<Figure size 1152x648 with 2 Axes>"
            ]
          },
          "metadata": {
            "tags": []
          }
        }
      ]
    },
    {
      "cell_type": "code",
      "metadata": {
        "id": "ANvVm09JcknW",
        "colab_type": "code",
        "outputId": "e90f14ca-1299-44c1-eb77-8bac1fdfd759",
        "colab": {
          "base_uri": "https://localhost:8080/",
          "height": 452
        }
      },
      "source": [
        "df_na.corr()"
      ],
      "execution_count": 0,
      "outputs": [
        {
          "output_type": "execute_result",
          "data": {
            "text/html": [
              "<div>\n",
              "<style scoped>\n",
              "    .dataframe tbody tr th:only-of-type {\n",
              "        vertical-align: middle;\n",
              "    }\n",
              "\n",
              "    .dataframe tbody tr th {\n",
              "        vertical-align: top;\n",
              "    }\n",
              "\n",
              "    .dataframe thead th {\n",
              "        text-align: right;\n",
              "    }\n",
              "</style>\n",
              "<table border=\"1\" class=\"dataframe\">\n",
              "  <thead>\n",
              "    <tr style=\"text-align: right;\">\n",
              "      <th></th>\n",
              "      <th>fr_orig</th>\n",
              "      <th>dms_origst</th>\n",
              "      <th>dms_destst</th>\n",
              "      <th>fr_dest</th>\n",
              "      <th>fr_inmode</th>\n",
              "      <th>dms_mode</th>\n",
              "      <th>fr_outmode</th>\n",
              "      <th>sctg2</th>\n",
              "      <th>trade_type</th>\n",
              "      <th>value_2012</th>\n",
              "      <th>curval_2012</th>\n",
              "      <th>tons_2012</th>\n",
              "      <th>tmiles_2012</th>\n",
              "    </tr>\n",
              "  </thead>\n",
              "  <tbody>\n",
              "    <tr>\n",
              "      <th>fr_orig</th>\n",
              "      <td>1.000000</td>\n",
              "      <td>0.045653</td>\n",
              "      <td>-0.028555</td>\n",
              "      <td>-0.541274</td>\n",
              "      <td>0.897860</td>\n",
              "      <td>-0.100266</td>\n",
              "      <td>-0.493562</td>\n",
              "      <td>-0.041382</td>\n",
              "      <td>-0.037799</td>\n",
              "      <td>-0.032773</td>\n",
              "      <td>-0.031869</td>\n",
              "      <td>-0.024209</td>\n",
              "      <td>-0.025445</td>\n",
              "    </tr>\n",
              "    <tr>\n",
              "      <th>dms_origst</th>\n",
              "      <td>0.045653</td>\n",
              "      <td>1.000000</td>\n",
              "      <td>0.058557</td>\n",
              "      <td>-0.037982</td>\n",
              "      <td>0.048413</td>\n",
              "      <td>-0.036852</td>\n",
              "      <td>-0.035293</td>\n",
              "      <td>0.002272</td>\n",
              "      <td>-0.017473</td>\n",
              "      <td>-0.006417</td>\n",
              "      <td>-0.006607</td>\n",
              "      <td>-0.000010</td>\n",
              "      <td>0.004593</td>\n",
              "    </tr>\n",
              "    <tr>\n",
              "      <th>dms_destst</th>\n",
              "      <td>-0.028555</td>\n",
              "      <td>0.058557</td>\n",
              "      <td>1.000000</td>\n",
              "      <td>0.038849</td>\n",
              "      <td>-0.025135</td>\n",
              "      <td>-0.016429</td>\n",
              "      <td>0.039028</td>\n",
              "      <td>0.005878</td>\n",
              "      <td>0.029011</td>\n",
              "      <td>-0.005366</td>\n",
              "      <td>-0.005481</td>\n",
              "      <td>-0.001131</td>\n",
              "      <td>-0.001856</td>\n",
              "    </tr>\n",
              "    <tr>\n",
              "      <th>fr_dest</th>\n",
              "      <td>-0.541274</td>\n",
              "      <td>-0.037982</td>\n",
              "      <td>0.038849</td>\n",
              "      <td>1.000000</td>\n",
              "      <td>-0.485637</td>\n",
              "      <td>0.039371</td>\n",
              "      <td>0.912042</td>\n",
              "      <td>0.041225</td>\n",
              "      <td>0.860695</td>\n",
              "      <td>-0.034496</td>\n",
              "      <td>-0.034001</td>\n",
              "      <td>-0.023720</td>\n",
              "      <td>-0.021417</td>\n",
              "    </tr>\n",
              "    <tr>\n",
              "      <th>fr_inmode</th>\n",
              "      <td>0.897860</td>\n",
              "      <td>0.048413</td>\n",
              "      <td>-0.025135</td>\n",
              "      <td>-0.485637</td>\n",
              "      <td>1.000000</td>\n",
              "      <td>-0.068786</td>\n",
              "      <td>-0.442829</td>\n",
              "      <td>-0.012702</td>\n",
              "      <td>-0.033913</td>\n",
              "      <td>-0.029447</td>\n",
              "      <td>-0.028640</td>\n",
              "      <td>-0.021759</td>\n",
              "      <td>-0.023515</td>\n",
              "    </tr>\n",
              "    <tr>\n",
              "      <th>dms_mode</th>\n",
              "      <td>-0.100266</td>\n",
              "      <td>-0.036852</td>\n",
              "      <td>-0.016429</td>\n",
              "      <td>0.039371</td>\n",
              "      <td>-0.068786</td>\n",
              "      <td>1.000000</td>\n",
              "      <td>0.132529</td>\n",
              "      <td>0.049185</td>\n",
              "      <td>-0.014297</td>\n",
              "      <td>-0.020026</td>\n",
              "      <td>-0.019948</td>\n",
              "      <td>-0.014180</td>\n",
              "      <td>-0.001667</td>\n",
              "    </tr>\n",
              "    <tr>\n",
              "      <th>fr_outmode</th>\n",
              "      <td>-0.493562</td>\n",
              "      <td>-0.035293</td>\n",
              "      <td>0.039028</td>\n",
              "      <td>0.912042</td>\n",
              "      <td>-0.442829</td>\n",
              "      <td>0.132529</td>\n",
              "      <td>1.000000</td>\n",
              "      <td>0.059905</td>\n",
              "      <td>0.784827</td>\n",
              "      <td>-0.031440</td>\n",
              "      <td>-0.030987</td>\n",
              "      <td>-0.021933</td>\n",
              "      <td>-0.020428</td>\n",
              "    </tr>\n",
              "    <tr>\n",
              "      <th>sctg2</th>\n",
              "      <td>-0.041382</td>\n",
              "      <td>0.002272</td>\n",
              "      <td>0.005878</td>\n",
              "      <td>0.041225</td>\n",
              "      <td>-0.012702</td>\n",
              "      <td>0.049185</td>\n",
              "      <td>0.059905</td>\n",
              "      <td>1.000000</td>\n",
              "      <td>0.023765</td>\n",
              "      <td>0.006422</td>\n",
              "      <td>0.006662</td>\n",
              "      <td>-0.018488</td>\n",
              "      <td>-0.024306</td>\n",
              "    </tr>\n",
              "    <tr>\n",
              "      <th>trade_type</th>\n",
              "      <td>-0.037799</td>\n",
              "      <td>-0.017473</td>\n",
              "      <td>0.029011</td>\n",
              "      <td>0.860695</td>\n",
              "      <td>-0.033913</td>\n",
              "      <td>-0.014297</td>\n",
              "      <td>0.784827</td>\n",
              "      <td>0.023765</td>\n",
              "      <td>1.000000</td>\n",
              "      <td>-0.060855</td>\n",
              "      <td>-0.059720</td>\n",
              "      <td>-0.042850</td>\n",
              "      <td>-0.040869</td>\n",
              "    </tr>\n",
              "    <tr>\n",
              "      <th>value_2012</th>\n",
              "      <td>-0.032773</td>\n",
              "      <td>-0.006417</td>\n",
              "      <td>-0.005366</td>\n",
              "      <td>-0.034496</td>\n",
              "      <td>-0.029447</td>\n",
              "      <td>-0.020026</td>\n",
              "      <td>-0.031440</td>\n",
              "      <td>0.006422</td>\n",
              "      <td>-0.060855</td>\n",
              "      <td>1.000000</td>\n",
              "      <td>0.999617</td>\n",
              "      <td>0.365985</td>\n",
              "      <td>0.146097</td>\n",
              "    </tr>\n",
              "    <tr>\n",
              "      <th>curval_2012</th>\n",
              "      <td>-0.031869</td>\n",
              "      <td>-0.006607</td>\n",
              "      <td>-0.005481</td>\n",
              "      <td>-0.034001</td>\n",
              "      <td>-0.028640</td>\n",
              "      <td>-0.019948</td>\n",
              "      <td>-0.030987</td>\n",
              "      <td>0.006662</td>\n",
              "      <td>-0.059720</td>\n",
              "      <td>0.999617</td>\n",
              "      <td>1.000000</td>\n",
              "      <td>0.363716</td>\n",
              "      <td>0.145482</td>\n",
              "    </tr>\n",
              "    <tr>\n",
              "      <th>tons_2012</th>\n",
              "      <td>-0.024209</td>\n",
              "      <td>-0.000010</td>\n",
              "      <td>-0.001131</td>\n",
              "      <td>-0.023720</td>\n",
              "      <td>-0.021759</td>\n",
              "      <td>-0.014180</td>\n",
              "      <td>-0.021933</td>\n",
              "      <td>-0.018488</td>\n",
              "      <td>-0.042850</td>\n",
              "      <td>0.365985</td>\n",
              "      <td>0.363716</td>\n",
              "      <td>1.000000</td>\n",
              "      <td>0.491029</td>\n",
              "    </tr>\n",
              "    <tr>\n",
              "      <th>tmiles_2012</th>\n",
              "      <td>-0.025445</td>\n",
              "      <td>0.004593</td>\n",
              "      <td>-0.001856</td>\n",
              "      <td>-0.021417</td>\n",
              "      <td>-0.023515</td>\n",
              "      <td>-0.001667</td>\n",
              "      <td>-0.020428</td>\n",
              "      <td>-0.024306</td>\n",
              "      <td>-0.040869</td>\n",
              "      <td>0.146097</td>\n",
              "      <td>0.145482</td>\n",
              "      <td>0.491029</td>\n",
              "      <td>1.000000</td>\n",
              "    </tr>\n",
              "  </tbody>\n",
              "</table>\n",
              "</div>"
            ],
            "text/plain": [
              "              fr_orig  dms_origst  ...  tons_2012  tmiles_2012\n",
              "fr_orig      1.000000    0.045653  ...  -0.024209    -0.025445\n",
              "dms_origst   0.045653    1.000000  ...  -0.000010     0.004593\n",
              "dms_destst  -0.028555    0.058557  ...  -0.001131    -0.001856\n",
              "fr_dest     -0.541274   -0.037982  ...  -0.023720    -0.021417\n",
              "fr_inmode    0.897860    0.048413  ...  -0.021759    -0.023515\n",
              "dms_mode    -0.100266   -0.036852  ...  -0.014180    -0.001667\n",
              "fr_outmode  -0.493562   -0.035293  ...  -0.021933    -0.020428\n",
              "sctg2       -0.041382    0.002272  ...  -0.018488    -0.024306\n",
              "trade_type  -0.037799   -0.017473  ...  -0.042850    -0.040869\n",
              "value_2012  -0.032773   -0.006417  ...   0.365985     0.146097\n",
              "curval_2012 -0.031869   -0.006607  ...   0.363716     0.145482\n",
              "tons_2012   -0.024209   -0.000010  ...   1.000000     0.491029\n",
              "tmiles_2012 -0.025445    0.004593  ...   0.491029     1.000000\n",
              "\n",
              "[13 rows x 13 columns]"
            ]
          },
          "metadata": {
            "tags": []
          },
          "execution_count": 53
        }
      ]
    },
    {
      "cell_type": "code",
      "metadata": {
        "id": "dhyKRbojIbvv",
        "colab_type": "code",
        "outputId": "09ba33ef-1346-4a9a-c3d9-6ffc9bf50dfb",
        "colab": {
          "base_uri": "https://localhost:8080/",
          "height": 170
        }
      },
      "source": [
        "df_na.describe()['value_2012']"
      ],
      "execution_count": 0,
      "outputs": [
        {
          "output_type": "execute_result",
          "data": {
            "text/plain": [
              "count    501231.000000\n",
              "mean         34.617930\n",
              "std         544.961248\n",
              "min           0.000100\n",
              "25%           0.008300\n",
              "50%           0.146700\n",
              "75%           2.714250\n",
              "max      116190.009200\n",
              "Name: value_2012, dtype: float64"
            ]
          },
          "metadata": {
            "tags": []
          },
          "execution_count": 54
        }
      ]
    },
    {
      "cell_type": "code",
      "metadata": {
        "id": "Z15qe_lxUZTN",
        "colab_type": "code",
        "colab": {}
      },
      "source": [
        "Q1= df_na['value_2012'].quantile(0.25)\n",
        "Q3= df_na['value_2012'].quantile(0.75)\n",
        "IQR= Q3-Q1\n",
        "\n",
        "df=df_na[df_na['value_2012']<(Q3+1.5*IQR)]"
      ],
      "execution_count": 0,
      "outputs": []
    },
    {
      "cell_type": "code",
      "metadata": {
        "id": "FSIjGAKvW5Nj",
        "colab_type": "code",
        "outputId": "85b49457-e931-4978-8c59-b099a2036c79",
        "colab": {
          "base_uri": "https://localhost:8080/",
          "height": 204
        }
      },
      "source": [
        "df.head()"
      ],
      "execution_count": 0,
      "outputs": [
        {
          "output_type": "execute_result",
          "data": {
            "text/html": [
              "<div>\n",
              "<style scoped>\n",
              "    .dataframe tbody tr th:only-of-type {\n",
              "        vertical-align: middle;\n",
              "    }\n",
              "\n",
              "    .dataframe tbody tr th {\n",
              "        vertical-align: top;\n",
              "    }\n",
              "\n",
              "    .dataframe thead th {\n",
              "        text-align: right;\n",
              "    }\n",
              "</style>\n",
              "<table border=\"1\" class=\"dataframe\">\n",
              "  <thead>\n",
              "    <tr style=\"text-align: right;\">\n",
              "      <th></th>\n",
              "      <th>fr_orig</th>\n",
              "      <th>dms_origst</th>\n",
              "      <th>dms_destst</th>\n",
              "      <th>fr_dest</th>\n",
              "      <th>fr_inmode</th>\n",
              "      <th>dms_mode</th>\n",
              "      <th>fr_outmode</th>\n",
              "      <th>sctg2</th>\n",
              "      <th>trade_type</th>\n",
              "      <th>value_2012</th>\n",
              "      <th>curval_2012</th>\n",
              "      <th>tons_2012</th>\n",
              "      <th>tmiles_2012</th>\n",
              "    </tr>\n",
              "  </thead>\n",
              "  <tbody>\n",
              "    <tr>\n",
              "      <th>360883</th>\n",
              "      <td>801.0</td>\n",
              "      <td>22</td>\n",
              "      <td>1</td>\n",
              "      <td>0.0</td>\n",
              "      <td>4.0</td>\n",
              "      <td>4</td>\n",
              "      <td>0.0</td>\n",
              "      <td>33</td>\n",
              "      <td>2</td>\n",
              "      <td>0.1720</td>\n",
              "      <td>0.1905</td>\n",
              "      <td>0.0009</td>\n",
              "      <td>0.000308</td>\n",
              "    </tr>\n",
              "    <tr>\n",
              "      <th>14038</th>\n",
              "      <td>0.0</td>\n",
              "      <td>4</td>\n",
              "      <td>34</td>\n",
              "      <td>806.0</td>\n",
              "      <td>0.0</td>\n",
              "      <td>1</td>\n",
              "      <td>3.0</td>\n",
              "      <td>24</td>\n",
              "      <td>3</td>\n",
              "      <td>0.1120</td>\n",
              "      <td>0.1241</td>\n",
              "      <td>0.0257</td>\n",
              "      <td>0.062855</td>\n",
              "    </tr>\n",
              "    <tr>\n",
              "      <th>394561</th>\n",
              "      <td>801.0</td>\n",
              "      <td>50</td>\n",
              "      <td>40</td>\n",
              "      <td>0.0</td>\n",
              "      <td>2.0</td>\n",
              "      <td>2</td>\n",
              "      <td>0.0</td>\n",
              "      <td>4</td>\n",
              "      <td>2</td>\n",
              "      <td>0.0011</td>\n",
              "      <td>0.0011</td>\n",
              "      <td>0.0109</td>\n",
              "      <td>0.017792</td>\n",
              "    </tr>\n",
              "    <tr>\n",
              "      <th>8037</th>\n",
              "      <td>0.0</td>\n",
              "      <td>2</td>\n",
              "      <td>9</td>\n",
              "      <td>0.0</td>\n",
              "      <td>0.0</td>\n",
              "      <td>1</td>\n",
              "      <td>0.0</td>\n",
              "      <td>30</td>\n",
              "      <td>1</td>\n",
              "      <td>0.0008</td>\n",
              "      <td>0.0008</td>\n",
              "      <td>0.0001</td>\n",
              "      <td>0.000388</td>\n",
              "    </tr>\n",
              "    <tr>\n",
              "      <th>333642</th>\n",
              "      <td>0.0</td>\n",
              "      <td>54</td>\n",
              "      <td>6</td>\n",
              "      <td>802.0</td>\n",
              "      <td>0.0</td>\n",
              "      <td>1</td>\n",
              "      <td>1.0</td>\n",
              "      <td>36</td>\n",
              "      <td>3</td>\n",
              "      <td>0.0692</td>\n",
              "      <td>0.0766</td>\n",
              "      <td>0.0151</td>\n",
              "      <td>0.038294</td>\n",
              "    </tr>\n",
              "  </tbody>\n",
              "</table>\n",
              "</div>"
            ],
            "text/plain": [
              "        fr_orig  dms_origst  dms_destst  ...  curval_2012  tons_2012  tmiles_2012\n",
              "360883    801.0          22           1  ...       0.1905     0.0009     0.000308\n",
              "14038       0.0           4          34  ...       0.1241     0.0257     0.062855\n",
              "394561    801.0          50          40  ...       0.0011     0.0109     0.017792\n",
              "8037        0.0           2           9  ...       0.0008     0.0001     0.000388\n",
              "333642      0.0          54           6  ...       0.0766     0.0151     0.038294\n",
              "\n",
              "[5 rows x 13 columns]"
            ]
          },
          "metadata": {
            "tags": []
          },
          "execution_count": 56
        }
      ]
    },
    {
      "cell_type": "code",
      "metadata": {
        "id": "XZcyKygcW607",
        "colab_type": "code",
        "outputId": "5caa32b8-3ee1-44c5-ff32-6899db1d24c4",
        "colab": {
          "base_uri": "https://localhost:8080/",
          "height": 390
        }
      },
      "source": [
        "plt.figure(figsize=(10,6))\n",
        "\n",
        "sns.distplot( df['value_2012'], kde=True, hist=False);"
      ],
      "execution_count": 0,
      "outputs": [
        {
          "output_type": "display_data",
          "data": {
            "image/png": "[encoded data removed]",
            "text/plain": [
              "<Figure size 720x432 with 1 Axes>"
            ]
          },
          "metadata": {
            "tags": []
          }
        }
      ]
    },
    {
      "cell_type": "code",
      "metadata": {
        "id": "SQQfByydXFJ_",
        "colab_type": "code",
        "outputId": "78b5e8ff-5c48-4719-d42e-7b1303ce6d89",
        "colab": {
          "base_uri": "https://localhost:8080/",
          "height": 297
        }
      },
      "source": [
        "sns.distplot(df['value_2012'])"
      ],
      "execution_count": 0,
      "outputs": [
        {
          "output_type": "execute_result",
          "data": {
            "text/plain": [
              "<matplotlib.axes._subplots.AxesSubplot at 0x7f443563a4a8>"
            ]
          },
          "metadata": {
            "tags": []
          },
          "execution_count": 58
        },
        {
          "output_type": "display_data",
          "data": {
            "image/png": "[encoded data removed]",
            "text/plain": [
              "<Figure size 432x288 with 1 Axes>"
            ]
          },
          "metadata": {
            "tags": []
          }
        }
      ]
    },
    {
      "cell_type": "code",
      "metadata": {
        "id": "B2RhaqTHXjT3",
        "colab_type": "code",
        "outputId": "f79c75de-666d-47ff-b572-58880b10a506",
        "colab": {
          "base_uri": "https://localhost:8080/",
          "height": 265
        }
      },
      "source": [
        "df[\"value_2012\"].apply(np.log).hist()\n",
        "\n",
        "plt.show()"
      ],
      "execution_count": 0,
      "outputs": [
        {
          "output_type": "display_data",
          "data": {
            "image/png": "[encoded data removed]",
            "text/plain": [
              "<Figure size 432x288 with 1 Axes>"
            ]
          },
          "metadata": {
            "tags": []
          }
        }
      ]
    },
    {
      "cell_type": "code",
      "metadata": {
        "id": "duGRI_hUh_Ve",
        "colab_type": "code",
        "outputId": "18903dac-398a-4248-c70e-bf16b8852b9d",
        "colab": {
          "base_uri": "https://localhost:8080/",
          "height": 34
        }
      },
      "source": [
        "df.shape"
      ],
      "execution_count": 0,
      "outputs": [
        {
          "output_type": "execute_result",
          "data": {
            "text/plain": [
              "(410414, 13)"
            ]
          },
          "metadata": {
            "tags": []
          },
          "execution_count": 60
        }
      ]
    },
    {
      "cell_type": "code",
      "metadata": {
        "id": "hSRQYcNwX22j",
        "colab_type": "code",
        "outputId": "aa99a4e2-c121-476c-f53c-250b62c38db0",
        "colab": {
          "base_uri": "https://localhost:8080/",
          "height": 34
        }
      },
      "source": [
        "df['value_2012'].skew()"
      ],
      "execution_count": 0,
      "outputs": [
        {
          "output_type": "execute_result",
          "data": {
            "text/plain": [
              "2.6391607459678106"
            ]
          },
          "metadata": {
            "tags": []
          },
          "execution_count": 61
        }
      ]
    },
    {
      "cell_type": "code",
      "metadata": {
        "id": "u_ypoPqyYFDA",
        "colab_type": "code",
        "outputId": "b16938c1-9ebc-4bb6-fae5-431354249ead",
        "colab": {
          "base_uri": "https://localhost:8080/",
          "height": 323
        }
      },
      "source": [
        "df.info()"
      ],
      "execution_count": 0,
      "outputs": [
        {
          "output_type": "stream",
          "text": [
            "<class 'pandas.core.frame.DataFrame'>\n",
            "Int64Index: 410414 entries, 360883 to 392147\n",
            "Data columns (total 13 columns):\n",
            "fr_orig        410414 non-null float64\n",
            "dms_origst     410414 non-null int64\n",
            "dms_destst     410414 non-null int64\n",
            "fr_dest        410414 non-null float64\n",
            "fr_inmode      410414 non-null float64\n",
            "dms_mode       410414 non-null int64\n",
            "fr_outmode     410414 non-null float64\n",
            "sctg2          410414 non-null int64\n",
            "trade_type     410414 non-null int64\n",
            "value_2012     410414 non-null float64\n",
            "curval_2012    410414 non-null float64\n",
            "tons_2012      410414 non-null float64\n",
            "tmiles_2012    410414 non-null float64\n",
            "dtypes: float64(8), int64(5)\n",
            "memory usage: 43.8 MB\n"
          ],
          "name": "stdout"
        }
      ]
    },
    {
      "cell_type": "code",
      "metadata": {
        "id": "3jKTBlL-igJT",
        "colab_type": "code",
        "outputId": "8a145a7c-4902-4cb9-8daf-a7677b5d0612",
        "colab": {
          "base_uri": "https://localhost:8080/",
          "height": 323
        }
      },
      "source": [
        "df['value_log'] = np.log(df['value_2012'])\n",
        "df['value_log'] "
      ],
      "execution_count": 0,
      "outputs": [
        {
          "output_type": "stream",
          "text": [
            "/usr/local/lib/python3.6/dist-packages/ipykernel_launcher.py:1: SettingWithCopyWarning: \n",
            "A value is trying to be set on a copy of a slice from a DataFrame.\n",
            "Try using .loc[row_indexer,col_indexer] = value instead\n",
            "\n",
            "See the caveats in the documentation: http://pandas.pydata.org/pandas-docs/stable/user_guide/indexing.html#returning-a-view-versus-a-copy\n",
            "  \"\"\"Entry point for launching an IPython kernel.\n"
          ],
          "name": "stderr"
        },
        {
          "output_type": "execute_result",
          "data": {
            "text/plain": [
              "360883   -1.760261\n",
              "14038    -2.189256\n",
              "394561   -6.812445\n",
              "8037     -7.130899\n",
              "333642   -2.670754\n",
              "            ...   \n",
              "426042   -4.017384\n",
              "444798    0.625992\n",
              "539718   -5.952244\n",
              "118174   -5.654992\n",
              "392147   -4.546901\n",
              "Name: value_log, Length: 410414, dtype: float64"
            ]
          },
          "metadata": {
            "tags": []
          },
          "execution_count": 63
        }
      ]
    },
    {
      "cell_type": "code",
      "metadata": {
        "id": "liNUg8EgjMRs",
        "colab_type": "code",
        "outputId": "e85707e1-6934-44f0-905a-8a5a035a00ee",
        "colab": {
          "base_uri": "https://localhost:8080/",
          "height": 255
        }
      },
      "source": [
        "df['tons_2012'] = np.log(df['tons_2012'])\n",
        "df['tmiles_2012'] = np.log(df['tmiles_2012'])"
      ],
      "execution_count": 0,
      "outputs": [
        {
          "output_type": "stream",
          "text": [
            "/usr/local/lib/python3.6/dist-packages/pandas/core/series.py:856: RuntimeWarning: divide by zero encountered in log\n",
            "  result = getattr(ufunc, method)(*inputs, **kwargs)\n",
            "/usr/local/lib/python3.6/dist-packages/ipykernel_launcher.py:1: SettingWithCopyWarning: \n",
            "A value is trying to be set on a copy of a slice from a DataFrame.\n",
            "Try using .loc[row_indexer,col_indexer] = value instead\n",
            "\n",
            "See the caveats in the documentation: http://pandas.pydata.org/pandas-docs/stable/user_guide/indexing.html#returning-a-view-versus-a-copy\n",
            "  \"\"\"Entry point for launching an IPython kernel.\n",
            "/usr/local/lib/python3.6/dist-packages/ipykernel_launcher.py:2: SettingWithCopyWarning: \n",
            "A value is trying to be set on a copy of a slice from a DataFrame.\n",
            "Try using .loc[row_indexer,col_indexer] = value instead\n",
            "\n",
            "See the caveats in the documentation: http://pandas.pydata.org/pandas-docs/stable/user_guide/indexing.html#returning-a-view-versus-a-copy\n",
            "  \n"
          ],
          "name": "stderr"
        }
      ]
    },
    {
      "cell_type": "code",
      "metadata": {
        "id": "aE89_80kis77",
        "colab_type": "code",
        "outputId": "729957c8-1e6c-446f-85bc-b114f55478b0",
        "colab": {
          "base_uri": "https://localhost:8080/",
          "height": 224
        }
      },
      "source": [
        "df.head()"
      ],
      "execution_count": 0,
      "outputs": [
        {
          "output_type": "execute_result",
          "data": {
            "text/html": [
              "<div>\n",
              "<style scoped>\n",
              "    .dataframe tbody tr th:only-of-type {\n",
              "        vertical-align: middle;\n",
              "    }\n",
              "\n",
              "    .dataframe tbody tr th {\n",
              "        vertical-align: top;\n",
              "    }\n",
              "\n",
              "    .dataframe thead th {\n",
              "        text-align: right;\n",
              "    }\n",
              "</style>\n",
              "<table border=\"1\" class=\"dataframe\">\n",
              "  <thead>\n",
              "    <tr style=\"text-align: right;\">\n",
              "      <th></th>\n",
              "      <th>fr_orig</th>\n",
              "      <th>dms_origst</th>\n",
              "      <th>dms_destst</th>\n",
              "      <th>fr_dest</th>\n",
              "      <th>fr_inmode</th>\n",
              "      <th>dms_mode</th>\n",
              "      <th>fr_outmode</th>\n",
              "      <th>sctg2</th>\n",
              "      <th>trade_type</th>\n",
              "      <th>value_2012</th>\n",
              "      <th>curval_2012</th>\n",
              "      <th>tons_2012</th>\n",
              "      <th>tmiles_2012</th>\n",
              "      <th>value_log</th>\n",
              "    </tr>\n",
              "  </thead>\n",
              "  <tbody>\n",
              "    <tr>\n",
              "      <th>360883</th>\n",
              "      <td>801.0</td>\n",
              "      <td>22</td>\n",
              "      <td>1</td>\n",
              "      <td>0.0</td>\n",
              "      <td>4.0</td>\n",
              "      <td>4</td>\n",
              "      <td>0.0</td>\n",
              "      <td>33</td>\n",
              "      <td>2</td>\n",
              "      <td>0.1720</td>\n",
              "      <td>0.1905</td>\n",
              "      <td>-7.013116</td>\n",
              "      <td>-8.086548</td>\n",
              "      <td>-1.760261</td>\n",
              "    </tr>\n",
              "    <tr>\n",
              "      <th>14038</th>\n",
              "      <td>0.0</td>\n",
              "      <td>4</td>\n",
              "      <td>34</td>\n",
              "      <td>806.0</td>\n",
              "      <td>0.0</td>\n",
              "      <td>1</td>\n",
              "      <td>3.0</td>\n",
              "      <td>24</td>\n",
              "      <td>3</td>\n",
              "      <td>0.1120</td>\n",
              "      <td>0.1241</td>\n",
              "      <td>-3.661264</td>\n",
              "      <td>-2.766927</td>\n",
              "      <td>-2.189256</td>\n",
              "    </tr>\n",
              "    <tr>\n",
              "      <th>394561</th>\n",
              "      <td>801.0</td>\n",
              "      <td>50</td>\n",
              "      <td>40</td>\n",
              "      <td>0.0</td>\n",
              "      <td>2.0</td>\n",
              "      <td>2</td>\n",
              "      <td>0.0</td>\n",
              "      <td>4</td>\n",
              "      <td>2</td>\n",
              "      <td>0.0011</td>\n",
              "      <td>0.0011</td>\n",
              "      <td>-4.518992</td>\n",
              "      <td>-4.028987</td>\n",
              "      <td>-6.812445</td>\n",
              "    </tr>\n",
              "    <tr>\n",
              "      <th>8037</th>\n",
              "      <td>0.0</td>\n",
              "      <td>2</td>\n",
              "      <td>9</td>\n",
              "      <td>0.0</td>\n",
              "      <td>0.0</td>\n",
              "      <td>1</td>\n",
              "      <td>0.0</td>\n",
              "      <td>30</td>\n",
              "      <td>1</td>\n",
              "      <td>0.0008</td>\n",
              "      <td>0.0008</td>\n",
              "      <td>-9.210340</td>\n",
              "      <td>-7.853217</td>\n",
              "      <td>-7.130899</td>\n",
              "    </tr>\n",
              "    <tr>\n",
              "      <th>333642</th>\n",
              "      <td>0.0</td>\n",
              "      <td>54</td>\n",
              "      <td>6</td>\n",
              "      <td>802.0</td>\n",
              "      <td>0.0</td>\n",
              "      <td>1</td>\n",
              "      <td>1.0</td>\n",
              "      <td>36</td>\n",
              "      <td>3</td>\n",
              "      <td>0.0692</td>\n",
              "      <td>0.0766</td>\n",
              "      <td>-4.193061</td>\n",
              "      <td>-3.262460</td>\n",
              "      <td>-2.670754</td>\n",
              "    </tr>\n",
              "  </tbody>\n",
              "</table>\n",
              "</div>"
            ],
            "text/plain": [
              "        fr_orig  dms_origst  dms_destst  ...  tons_2012  tmiles_2012  value_log\n",
              "360883    801.0          22           1  ...  -7.013116    -8.086548  -1.760261\n",
              "14038       0.0           4          34  ...  -3.661264    -2.766927  -2.189256\n",
              "394561    801.0          50          40  ...  -4.518992    -4.028987  -6.812445\n",
              "8037        0.0           2           9  ...  -9.210340    -7.853217  -7.130899\n",
              "333642      0.0          54           6  ...  -4.193061    -3.262460  -2.670754\n",
              "\n",
              "[5 rows x 14 columns]"
            ]
          },
          "metadata": {
            "tags": []
          },
          "execution_count": 65
        }
      ]
    },
    {
      "cell_type": "code",
      "metadata": {
        "id": "PFWowTtZjAsm",
        "colab_type": "code",
        "outputId": "ba6f9352-3dd5-4486-90cf-15e3118dc1b1",
        "colab": {
          "base_uri": "https://localhost:8080/",
          "height": 300
        }
      },
      "source": [
        "sns.distplot(df['value_log'])"
      ],
      "execution_count": 0,
      "outputs": [
        {
          "output_type": "execute_result",
          "data": {
            "text/plain": [
              "<matplotlib.axes._subplots.AxesSubplot at 0x7f44355460b8>"
            ]
          },
          "metadata": {
            "tags": []
          },
          "execution_count": 66
        },
        {
          "output_type": "display_data",
          "data": {
            "image/png": "[encoded data removed]",
            "text/plain": [
              "<Figure size 432x288 with 1 Axes>"
            ]
          },
          "metadata": {
            "tags": []
          }
        }
      ]
    },
    {
      "cell_type": "code",
      "metadata": {
        "id": "BsLSA9OljTfj",
        "colab_type": "code",
        "outputId": "9a2321c0-6a8d-4b38-84fc-b6366c8167ea",
        "colab": {
          "base_uri": "https://localhost:8080/",
          "height": 34
        }
      },
      "source": [
        "df['value_log'].skew()"
      ],
      "execution_count": 0,
      "outputs": [
        {
          "output_type": "execute_result",
          "data": {
            "text/plain": [
              "-0.240715953662618"
            ]
          },
          "metadata": {
            "tags": []
          },
          "execution_count": 67
        }
      ]
    },
    {
      "cell_type": "code",
      "metadata": {
        "id": "AHtirnkkjFW7",
        "colab_type": "code",
        "outputId": "fcfd7221-6342-44e1-b518-22288d60fc3a",
        "colab": {
          "base_uri": "https://localhost:8080/",
          "height": 68
        }
      },
      "source": [
        "cols=df.select_dtypes(include='float64').columns\n",
        "cols"
      ],
      "execution_count": 0,
      "outputs": [
        {
          "output_type": "execute_result",
          "data": {
            "text/plain": [
              "Index(['fr_orig', 'fr_dest', 'fr_inmode', 'fr_outmode', 'value_2012',\n",
              "       'curval_2012', 'tons_2012', 'tmiles_2012', 'value_log'],\n",
              "      dtype='object')"
            ]
          },
          "metadata": {
            "tags": []
          },
          "execution_count": 68
        }
      ]
    },
    {
      "cell_type": "code",
      "metadata": {
        "id": "6znbxpHmkOu7",
        "colab_type": "code",
        "outputId": "302a3d01-9bb6-4f4f-f4d9-f0919a4be40c",
        "colab": {
          "base_uri": "https://localhost:8080/",
          "height": 272
        }
      },
      "source": [
        "df.dtypes"
      ],
      "execution_count": 0,
      "outputs": [
        {
          "output_type": "execute_result",
          "data": {
            "text/plain": [
              "fr_orig        float64\n",
              "dms_origst       int64\n",
              "dms_destst       int64\n",
              "fr_dest        float64\n",
              "fr_inmode      float64\n",
              "dms_mode         int64\n",
              "fr_outmode     float64\n",
              "sctg2            int64\n",
              "trade_type       int64\n",
              "value_2012     float64\n",
              "curval_2012    float64\n",
              "tons_2012      float64\n",
              "tmiles_2012    float64\n",
              "value_log      float64\n",
              "dtype: object"
            ]
          },
          "metadata": {
            "tags": []
          },
          "execution_count": 69
        }
      ]
    },
    {
      "cell_type": "code",
      "metadata": {
        "id": "CA8-HtCTkDSy",
        "colab_type": "code",
        "colab": {}
      },
      "source": [
        "col = ['fr_orig', 'fr_dest', 'fr_inmode', 'fr_outmode']"
      ],
      "execution_count": 0,
      "outputs": []
    },
    {
      "cell_type": "code",
      "metadata": {
        "id": "iDs04fPcjVNN",
        "colab_type": "code",
        "outputId": "3fb62231-d05f-4081-d6d5-2a13d6a68320",
        "colab": {
          "base_uri": "https://localhost:8080/",
          "height": 442
        }
      },
      "source": [
        "for i in col:\n",
        "    df[i]=df[i].astype(int)\n",
        "df.info()"
      ],
      "execution_count": 0,
      "outputs": [
        {
          "output_type": "stream",
          "text": [
            "<class 'pandas.core.frame.DataFrame'>\n",
            "Int64Index: 410414 entries, 360883 to 392147\n",
            "Data columns (total 14 columns):\n",
            "fr_orig        410414 non-null int64\n",
            "dms_origst     410414 non-null int64\n",
            "dms_destst     410414 non-null int64\n",
            "fr_dest        410414 non-null int64\n",
            "fr_inmode      410414 non-null int64\n",
            "dms_mode       410414 non-null int64\n",
            "fr_outmode     410414 non-null int64\n",
            "sctg2          410414 non-null int64\n",
            "trade_type     410414 non-null int64\n",
            "value_2012     410414 non-null float64\n",
            "curval_2012    410414 non-null float64\n",
            "tons_2012      410414 non-null float64\n",
            "tmiles_2012    410414 non-null float64\n",
            "value_log      410414 non-null float64\n",
            "dtypes: float64(5), int64(9)\n",
            "memory usage: 47.0 MB\n"
          ],
          "name": "stdout"
        },
        {
          "output_type": "stream",
          "text": [
            "/usr/local/lib/python3.6/dist-packages/ipykernel_launcher.py:2: SettingWithCopyWarning: \n",
            "A value is trying to be set on a copy of a slice from a DataFrame.\n",
            "Try using .loc[row_indexer,col_indexer] = value instead\n",
            "\n",
            "See the caveats in the documentation: http://pandas.pydata.org/pandas-docs/stable/user_guide/indexing.html#returning-a-view-versus-a-copy\n",
            "  \n"
          ],
          "name": "stderr"
        }
      ]
    },
    {
      "cell_type": "code",
      "metadata": {
        "id": "P1owrAiljVK6",
        "colab_type": "code",
        "outputId": "0e07ec1f-bd55-4cb5-bdf0-1ddb13cc5e0c",
        "colab": {
          "base_uri": "https://localhost:8080/",
          "height": 224
        }
      },
      "source": [
        "df.head()"
      ],
      "execution_count": 0,
      "outputs": [
        {
          "output_type": "execute_result",
          "data": {
            "text/html": [
              "<div>\n",
              "<style scoped>\n",
              "    .dataframe tbody tr th:only-of-type {\n",
              "        vertical-align: middle;\n",
              "    }\n",
              "\n",
              "    .dataframe tbody tr th {\n",
              "        vertical-align: top;\n",
              "    }\n",
              "\n",
              "    .dataframe thead th {\n",
              "        text-align: right;\n",
              "    }\n",
              "</style>\n",
              "<table border=\"1\" class=\"dataframe\">\n",
              "  <thead>\n",
              "    <tr style=\"text-align: right;\">\n",
              "      <th></th>\n",
              "      <th>fr_orig</th>\n",
              "      <th>dms_origst</th>\n",
              "      <th>dms_destst</th>\n",
              "      <th>fr_dest</th>\n",
              "      <th>fr_inmode</th>\n",
              "      <th>dms_mode</th>\n",
              "      <th>fr_outmode</th>\n",
              "      <th>sctg2</th>\n",
              "      <th>trade_type</th>\n",
              "      <th>value_2012</th>\n",
              "      <th>curval_2012</th>\n",
              "      <th>tons_2012</th>\n",
              "      <th>tmiles_2012</th>\n",
              "      <th>value_log</th>\n",
              "    </tr>\n",
              "  </thead>\n",
              "  <tbody>\n",
              "    <tr>\n",
              "      <th>360883</th>\n",
              "      <td>801</td>\n",
              "      <td>22</td>\n",
              "      <td>1</td>\n",
              "      <td>0</td>\n",
              "      <td>4</td>\n",
              "      <td>4</td>\n",
              "      <td>0</td>\n",
              "      <td>33</td>\n",
              "      <td>2</td>\n",
              "      <td>0.1720</td>\n",
              "      <td>0.1905</td>\n",
              "      <td>-7.013116</td>\n",
              "      <td>-8.086548</td>\n",
              "      <td>-1.760261</td>\n",
              "    </tr>\n",
              "    <tr>\n",
              "      <th>14038</th>\n",
              "      <td>0</td>\n",
              "      <td>4</td>\n",
              "      <td>34</td>\n",
              "      <td>806</td>\n",
              "      <td>0</td>\n",
              "      <td>1</td>\n",
              "      <td>3</td>\n",
              "      <td>24</td>\n",
              "      <td>3</td>\n",
              "      <td>0.1120</td>\n",
              "      <td>0.1241</td>\n",
              "      <td>-3.661264</td>\n",
              "      <td>-2.766927</td>\n",
              "      <td>-2.189256</td>\n",
              "    </tr>\n",
              "    <tr>\n",
              "      <th>394561</th>\n",
              "      <td>801</td>\n",
              "      <td>50</td>\n",
              "      <td>40</td>\n",
              "      <td>0</td>\n",
              "      <td>2</td>\n",
              "      <td>2</td>\n",
              "      <td>0</td>\n",
              "      <td>4</td>\n",
              "      <td>2</td>\n",
              "      <td>0.0011</td>\n",
              "      <td>0.0011</td>\n",
              "      <td>-4.518992</td>\n",
              "      <td>-4.028987</td>\n",
              "      <td>-6.812445</td>\n",
              "    </tr>\n",
              "    <tr>\n",
              "      <th>8037</th>\n",
              "      <td>0</td>\n",
              "      <td>2</td>\n",
              "      <td>9</td>\n",
              "      <td>0</td>\n",
              "      <td>0</td>\n",
              "      <td>1</td>\n",
              "      <td>0</td>\n",
              "      <td>30</td>\n",
              "      <td>1</td>\n",
              "      <td>0.0008</td>\n",
              "      <td>0.0008</td>\n",
              "      <td>-9.210340</td>\n",
              "      <td>-7.853217</td>\n",
              "      <td>-7.130899</td>\n",
              "    </tr>\n",
              "    <tr>\n",
              "      <th>333642</th>\n",
              "      <td>0</td>\n",
              "      <td>54</td>\n",
              "      <td>6</td>\n",
              "      <td>802</td>\n",
              "      <td>0</td>\n",
              "      <td>1</td>\n",
              "      <td>1</td>\n",
              "      <td>36</td>\n",
              "      <td>3</td>\n",
              "      <td>0.0692</td>\n",
              "      <td>0.0766</td>\n",
              "      <td>-4.193061</td>\n",
              "      <td>-3.262460</td>\n",
              "      <td>-2.670754</td>\n",
              "    </tr>\n",
              "  </tbody>\n",
              "</table>\n",
              "</div>"
            ],
            "text/plain": [
              "        fr_orig  dms_origst  dms_destst  ...  tons_2012  tmiles_2012  value_log\n",
              "360883      801          22           1  ...  -7.013116    -8.086548  -1.760261\n",
              "14038         0           4          34  ...  -3.661264    -2.766927  -2.189256\n",
              "394561      801          50          40  ...  -4.518992    -4.028987  -6.812445\n",
              "8037          0           2           9  ...  -9.210340    -7.853217  -7.130899\n",
              "333642        0          54           6  ...  -4.193061    -3.262460  -2.670754\n",
              "\n",
              "[5 rows x 14 columns]"
            ]
          },
          "metadata": {
            "tags": []
          },
          "execution_count": 72
        }
      ]
    },
    {
      "cell_type": "code",
      "metadata": {
        "id": "4wgX05sBjVH1",
        "colab_type": "code",
        "colab": {}
      },
      "source": [
        "df.reset_index(inplace=True)"
      ],
      "execution_count": 0,
      "outputs": []
    },
    {
      "cell_type": "code",
      "metadata": {
        "id": "jG5oXUvnk55a",
        "colab_type": "code",
        "outputId": "e1630c99-615e-413d-cf85-76a7aaa30658",
        "colab": {
          "base_uri": "https://localhost:8080/",
          "height": 224
        }
      },
      "source": [
        "df.head()"
      ],
      "execution_count": 0,
      "outputs": [
        {
          "output_type": "execute_result",
          "data": {
            "text/html": [
              "<div>\n",
              "<style scoped>\n",
              "    .dataframe tbody tr th:only-of-type {\n",
              "        vertical-align: middle;\n",
              "    }\n",
              "\n",
              "    .dataframe tbody tr th {\n",
              "        vertical-align: top;\n",
              "    }\n",
              "\n",
              "    .dataframe thead th {\n",
              "        text-align: right;\n",
              "    }\n",
              "</style>\n",
              "<table border=\"1\" class=\"dataframe\">\n",
              "  <thead>\n",
              "    <tr style=\"text-align: right;\">\n",
              "      <th></th>\n",
              "      <th>index</th>\n",
              "      <th>fr_orig</th>\n",
              "      <th>dms_origst</th>\n",
              "      <th>dms_destst</th>\n",
              "      <th>fr_dest</th>\n",
              "      <th>fr_inmode</th>\n",
              "      <th>dms_mode</th>\n",
              "      <th>fr_outmode</th>\n",
              "      <th>sctg2</th>\n",
              "      <th>trade_type</th>\n",
              "      <th>value_2012</th>\n",
              "      <th>curval_2012</th>\n",
              "      <th>tons_2012</th>\n",
              "      <th>tmiles_2012</th>\n",
              "      <th>value_log</th>\n",
              "    </tr>\n",
              "  </thead>\n",
              "  <tbody>\n",
              "    <tr>\n",
              "      <th>0</th>\n",
              "      <td>360883</td>\n",
              "      <td>801</td>\n",
              "      <td>22</td>\n",
              "      <td>1</td>\n",
              "      <td>0</td>\n",
              "      <td>4</td>\n",
              "      <td>4</td>\n",
              "      <td>0</td>\n",
              "      <td>33</td>\n",
              "      <td>2</td>\n",
              "      <td>0.1720</td>\n",
              "      <td>0.1905</td>\n",
              "      <td>-7.013116</td>\n",
              "      <td>-8.086548</td>\n",
              "      <td>-1.760261</td>\n",
              "    </tr>\n",
              "    <tr>\n",
              "      <th>1</th>\n",
              "      <td>14038</td>\n",
              "      <td>0</td>\n",
              "      <td>4</td>\n",
              "      <td>34</td>\n",
              "      <td>806</td>\n",
              "      <td>0</td>\n",
              "      <td>1</td>\n",
              "      <td>3</td>\n",
              "      <td>24</td>\n",
              "      <td>3</td>\n",
              "      <td>0.1120</td>\n",
              "      <td>0.1241</td>\n",
              "      <td>-3.661264</td>\n",
              "      <td>-2.766927</td>\n",
              "      <td>-2.189256</td>\n",
              "    </tr>\n",
              "    <tr>\n",
              "      <th>2</th>\n",
              "      <td>394561</td>\n",
              "      <td>801</td>\n",
              "      <td>50</td>\n",
              "      <td>40</td>\n",
              "      <td>0</td>\n",
              "      <td>2</td>\n",
              "      <td>2</td>\n",
              "      <td>0</td>\n",
              "      <td>4</td>\n",
              "      <td>2</td>\n",
              "      <td>0.0011</td>\n",
              "      <td>0.0011</td>\n",
              "      <td>-4.518992</td>\n",
              "      <td>-4.028987</td>\n",
              "      <td>-6.812445</td>\n",
              "    </tr>\n",
              "    <tr>\n",
              "      <th>3</th>\n",
              "      <td>8037</td>\n",
              "      <td>0</td>\n",
              "      <td>2</td>\n",
              "      <td>9</td>\n",
              "      <td>0</td>\n",
              "      <td>0</td>\n",
              "      <td>1</td>\n",
              "      <td>0</td>\n",
              "      <td>30</td>\n",
              "      <td>1</td>\n",
              "      <td>0.0008</td>\n",
              "      <td>0.0008</td>\n",
              "      <td>-9.210340</td>\n",
              "      <td>-7.853217</td>\n",
              "      <td>-7.130899</td>\n",
              "    </tr>\n",
              "    <tr>\n",
              "      <th>4</th>\n",
              "      <td>333642</td>\n",
              "      <td>0</td>\n",
              "      <td>54</td>\n",
              "      <td>6</td>\n",
              "      <td>802</td>\n",
              "      <td>0</td>\n",
              "      <td>1</td>\n",
              "      <td>1</td>\n",
              "      <td>36</td>\n",
              "      <td>3</td>\n",
              "      <td>0.0692</td>\n",
              "      <td>0.0766</td>\n",
              "      <td>-4.193061</td>\n",
              "      <td>-3.262460</td>\n",
              "      <td>-2.670754</td>\n",
              "    </tr>\n",
              "  </tbody>\n",
              "</table>\n",
              "</div>"
            ],
            "text/plain": [
              "    index  fr_orig  dms_origst  ...  tons_2012  tmiles_2012  value_log\n",
              "0  360883      801          22  ...  -7.013116    -8.086548  -1.760261\n",
              "1   14038        0           4  ...  -3.661264    -2.766927  -2.189256\n",
              "2  394561      801          50  ...  -4.518992    -4.028987  -6.812445\n",
              "3    8037        0           2  ...  -9.210340    -7.853217  -7.130899\n",
              "4  333642        0          54  ...  -4.193061    -3.262460  -2.670754\n",
              "\n",
              "[5 rows x 15 columns]"
            ]
          },
          "metadata": {
            "tags": []
          },
          "execution_count": 74
        }
      ]
    },
    {
      "cell_type": "code",
      "metadata": {
        "id": "v2KS4koYnt6U",
        "colab_type": "code",
        "outputId": "6891fddb-e174-4bd2-b571-25cd79195aea",
        "colab": {
          "base_uri": "https://localhost:8080/",
          "height": 224
        }
      },
      "source": [
        "df.tail()"
      ],
      "execution_count": 0,
      "outputs": [
        {
          "output_type": "execute_result",
          "data": {
            "text/html": [
              "<div>\n",
              "<style scoped>\n",
              "    .dataframe tbody tr th:only-of-type {\n",
              "        vertical-align: middle;\n",
              "    }\n",
              "\n",
              "    .dataframe tbody tr th {\n",
              "        vertical-align: top;\n",
              "    }\n",
              "\n",
              "    .dataframe thead th {\n",
              "        text-align: right;\n",
              "    }\n",
              "</style>\n",
              "<table border=\"1\" class=\"dataframe\">\n",
              "  <thead>\n",
              "    <tr style=\"text-align: right;\">\n",
              "      <th></th>\n",
              "      <th>index</th>\n",
              "      <th>fr_orig</th>\n",
              "      <th>dms_origst</th>\n",
              "      <th>dms_destst</th>\n",
              "      <th>fr_dest</th>\n",
              "      <th>fr_inmode</th>\n",
              "      <th>dms_mode</th>\n",
              "      <th>fr_outmode</th>\n",
              "      <th>sctg2</th>\n",
              "      <th>trade_type</th>\n",
              "      <th>value_2012</th>\n",
              "      <th>curval_2012</th>\n",
              "      <th>tons_2012</th>\n",
              "      <th>tmiles_2012</th>\n",
              "      <th>value_log</th>\n",
              "    </tr>\n",
              "  </thead>\n",
              "  <tbody>\n",
              "    <tr>\n",
              "      <th>410409</th>\n",
              "      <td>426042</td>\n",
              "      <td>803</td>\n",
              "      <td>6</td>\n",
              "      <td>34</td>\n",
              "      <td>0</td>\n",
              "      <td>3</td>\n",
              "      <td>5</td>\n",
              "      <td>0</td>\n",
              "      <td>31</td>\n",
              "      <td>2</td>\n",
              "      <td>0.0180</td>\n",
              "      <td>0.0199</td>\n",
              "      <td>-3.009831</td>\n",
              "      <td>-1.872547</td>\n",
              "      <td>-4.017384</td>\n",
              "    </tr>\n",
              "    <tr>\n",
              "      <th>410410</th>\n",
              "      <td>444798</td>\n",
              "      <td>803</td>\n",
              "      <td>53</td>\n",
              "      <td>24</td>\n",
              "      <td>0</td>\n",
              "      <td>3</td>\n",
              "      <td>1</td>\n",
              "      <td>0</td>\n",
              "      <td>27</td>\n",
              "      <td>2</td>\n",
              "      <td>1.8701</td>\n",
              "      <td>2.0711</td>\n",
              "      <td>2.548953</td>\n",
              "      <td>3.556002</td>\n",
              "      <td>0.625992</td>\n",
              "    </tr>\n",
              "    <tr>\n",
              "      <th>410411</th>\n",
              "      <td>539718</td>\n",
              "      <td>808</td>\n",
              "      <td>26</td>\n",
              "      <td>34</td>\n",
              "      <td>0</td>\n",
              "      <td>5</td>\n",
              "      <td>1</td>\n",
              "      <td>0</td>\n",
              "      <td>24</td>\n",
              "      <td>2</td>\n",
              "      <td>0.0026</td>\n",
              "      <td>0.0029</td>\n",
              "      <td>-6.812445</td>\n",
              "      <td>-7.264473</td>\n",
              "      <td>-5.952244</td>\n",
              "    </tr>\n",
              "    <tr>\n",
              "      <th>410412</th>\n",
              "      <td>118174</td>\n",
              "      <td>0</td>\n",
              "      <td>21</td>\n",
              "      <td>35</td>\n",
              "      <td>802</td>\n",
              "      <td>0</td>\n",
              "      <td>1</td>\n",
              "      <td>1</td>\n",
              "      <td>31</td>\n",
              "      <td>3</td>\n",
              "      <td>0.0035</td>\n",
              "      <td>0.0038</td>\n",
              "      <td>-6.032287</td>\n",
              "      <td>-5.697014</td>\n",
              "      <td>-5.654992</td>\n",
              "    </tr>\n",
              "    <tr>\n",
              "      <th>410413</th>\n",
              "      <td>392147</td>\n",
              "      <td>801</td>\n",
              "      <td>48</td>\n",
              "      <td>42</td>\n",
              "      <td>0</td>\n",
              "      <td>1</td>\n",
              "      <td>1</td>\n",
              "      <td>0</td>\n",
              "      <td>32</td>\n",
              "      <td>2</td>\n",
              "      <td>0.0106</td>\n",
              "      <td>0.0119</td>\n",
              "      <td>-4.456750</td>\n",
              "      <td>-4.007736</td>\n",
              "      <td>-4.546901</td>\n",
              "    </tr>\n",
              "  </tbody>\n",
              "</table>\n",
              "</div>"
            ],
            "text/plain": [
              "         index  fr_orig  dms_origst  ...  tons_2012  tmiles_2012  value_log\n",
              "410409  426042      803           6  ...  -3.009831    -1.872547  -4.017384\n",
              "410410  444798      803          53  ...   2.548953     3.556002   0.625992\n",
              "410411  539718      808          26  ...  -6.812445    -7.264473  -5.952244\n",
              "410412  118174        0          21  ...  -6.032287    -5.697014  -5.654992\n",
              "410413  392147      801          48  ...  -4.456750    -4.007736  -4.546901\n",
              "\n",
              "[5 rows x 15 columns]"
            ]
          },
          "metadata": {
            "tags": []
          },
          "execution_count": 75
        }
      ]
    },
    {
      "cell_type": "code",
      "metadata": {
        "id": "nYbw-kvnnYxV",
        "colab_type": "code",
        "colab": {}
      },
      "source": [
        "# df.to_csv('provisional.csv')"
      ],
      "execution_count": 0,
      "outputs": []
    },
    {
      "cell_type": "code",
      "metadata": {
        "id": "olSDLZE_r5We",
        "colab_type": "code",
        "colab": {}
      },
      "source": [
        "df= df.drop (['value_2012','curval_2012', 'index'], axis=1)"
      ],
      "execution_count": 0,
      "outputs": []
    },
    {
      "cell_type": "code",
      "metadata": {
        "id": "1Hg7U-Rqt_L6",
        "colab_type": "code",
        "outputId": "c1e2cf7d-dff5-40f8-a83c-d7ee38dba3bd",
        "colab": {
          "base_uri": "https://localhost:8080/",
          "height": 204
        }
      },
      "source": [
        "df.head()"
      ],
      "execution_count": 0,
      "outputs": [
        {
          "output_type": "execute_result",
          "data": {
            "text/html": [
              "<div>\n",
              "<style scoped>\n",
              "    .dataframe tbody tr th:only-of-type {\n",
              "        vertical-align: middle;\n",
              "    }\n",
              "\n",
              "    .dataframe tbody tr th {\n",
              "        vertical-align: top;\n",
              "    }\n",
              "\n",
              "    .dataframe thead th {\n",
              "        text-align: right;\n",
              "    }\n",
              "</style>\n",
              "<table border=\"1\" class=\"dataframe\">\n",
              "  <thead>\n",
              "    <tr style=\"text-align: right;\">\n",
              "      <th></th>\n",
              "      <th>fr_orig</th>\n",
              "      <th>dms_origst</th>\n",
              "      <th>dms_destst</th>\n",
              "      <th>fr_dest</th>\n",
              "      <th>fr_inmode</th>\n",
              "      <th>dms_mode</th>\n",
              "      <th>fr_outmode</th>\n",
              "      <th>sctg2</th>\n",
              "      <th>trade_type</th>\n",
              "      <th>tons_2012</th>\n",
              "      <th>tmiles_2012</th>\n",
              "      <th>value_log</th>\n",
              "    </tr>\n",
              "  </thead>\n",
              "  <tbody>\n",
              "    <tr>\n",
              "      <th>0</th>\n",
              "      <td>801</td>\n",
              "      <td>22</td>\n",
              "      <td>1</td>\n",
              "      <td>0</td>\n",
              "      <td>4</td>\n",
              "      <td>4</td>\n",
              "      <td>0</td>\n",
              "      <td>33</td>\n",
              "      <td>2</td>\n",
              "      <td>-7.013116</td>\n",
              "      <td>-8.086548</td>\n",
              "      <td>-1.760261</td>\n",
              "    </tr>\n",
              "    <tr>\n",
              "      <th>1</th>\n",
              "      <td>0</td>\n",
              "      <td>4</td>\n",
              "      <td>34</td>\n",
              "      <td>806</td>\n",
              "      <td>0</td>\n",
              "      <td>1</td>\n",
              "      <td>3</td>\n",
              "      <td>24</td>\n",
              "      <td>3</td>\n",
              "      <td>-3.661264</td>\n",
              "      <td>-2.766927</td>\n",
              "      <td>-2.189256</td>\n",
              "    </tr>\n",
              "    <tr>\n",
              "      <th>2</th>\n",
              "      <td>801</td>\n",
              "      <td>50</td>\n",
              "      <td>40</td>\n",
              "      <td>0</td>\n",
              "      <td>2</td>\n",
              "      <td>2</td>\n",
              "      <td>0</td>\n",
              "      <td>4</td>\n",
              "      <td>2</td>\n",
              "      <td>-4.518992</td>\n",
              "      <td>-4.028987</td>\n",
              "      <td>-6.812445</td>\n",
              "    </tr>\n",
              "    <tr>\n",
              "      <th>3</th>\n",
              "      <td>0</td>\n",
              "      <td>2</td>\n",
              "      <td>9</td>\n",
              "      <td>0</td>\n",
              "      <td>0</td>\n",
              "      <td>1</td>\n",
              "      <td>0</td>\n",
              "      <td>30</td>\n",
              "      <td>1</td>\n",
              "      <td>-9.210340</td>\n",
              "      <td>-7.853217</td>\n",
              "      <td>-7.130899</td>\n",
              "    </tr>\n",
              "    <tr>\n",
              "      <th>4</th>\n",
              "      <td>0</td>\n",
              "      <td>54</td>\n",
              "      <td>6</td>\n",
              "      <td>802</td>\n",
              "      <td>0</td>\n",
              "      <td>1</td>\n",
              "      <td>1</td>\n",
              "      <td>36</td>\n",
              "      <td>3</td>\n",
              "      <td>-4.193061</td>\n",
              "      <td>-3.262460</td>\n",
              "      <td>-2.670754</td>\n",
              "    </tr>\n",
              "  </tbody>\n",
              "</table>\n",
              "</div>"
            ],
            "text/plain": [
              "   fr_orig  dms_origst  dms_destst  ...  tons_2012  tmiles_2012  value_log\n",
              "0      801          22           1  ...  -7.013116    -8.086548  -1.760261\n",
              "1        0           4          34  ...  -3.661264    -2.766927  -2.189256\n",
              "2      801          50          40  ...  -4.518992    -4.028987  -6.812445\n",
              "3        0           2           9  ...  -9.210340    -7.853217  -7.130899\n",
              "4        0          54           6  ...  -4.193061    -3.262460  -2.670754\n",
              "\n",
              "[5 rows x 12 columns]"
            ]
          },
          "metadata": {
            "tags": []
          },
          "execution_count": 78
        }
      ]
    },
    {
      "cell_type": "code",
      "metadata": {
        "id": "zTSvT6BWt0li",
        "colab_type": "code",
        "colab": {}
      },
      "source": [
        "col1 = ['tons_2012', 'tmiles_2012', 'value_log']"
      ],
      "execution_count": 0,
      "outputs": []
    },
    {
      "cell_type": "code",
      "metadata": {
        "id": "Vi-OS2p0t0hh",
        "colab_type": "code",
        "outputId": "b14ec0ab-a5d2-4cfc-b539-040eca8efbfe",
        "colab": {
          "base_uri": "https://localhost:8080/",
          "height": 306
        }
      },
      "source": [
        "for i in col1:\n",
        "    df[i]=df[i].astype(str)\n",
        "df.info()"
      ],
      "execution_count": 0,
      "outputs": [
        {
          "output_type": "stream",
          "text": [
            "<class 'pandas.core.frame.DataFrame'>\n",
            "RangeIndex: 410414 entries, 0 to 410413\n",
            "Data columns (total 12 columns):\n",
            "fr_orig        410414 non-null int64\n",
            "dms_origst     410414 non-null int64\n",
            "dms_destst     410414 non-null int64\n",
            "fr_dest        410414 non-null int64\n",
            "fr_inmode      410414 non-null int64\n",
            "dms_mode       410414 non-null int64\n",
            "fr_outmode     410414 non-null int64\n",
            "sctg2          410414 non-null int64\n",
            "trade_type     410414 non-null int64\n",
            "tons_2012      410414 non-null object\n",
            "tmiles_2012    410414 non-null object\n",
            "value_log      410414 non-null object\n",
            "dtypes: int64(9), object(3)\n",
            "memory usage: 37.6+ MB\n"
          ],
          "name": "stdout"
        }
      ]
    },
    {
      "cell_type": "code",
      "metadata": {
        "id": "RauX3XWFp7nL",
        "colab_type": "code",
        "outputId": "b0422801-f0ed-41f8-a557-fc0ad6f0d76b",
        "colab": {
          "base_uri": "https://localhost:8080/",
          "height": 439
        }
      },
      "source": [
        "df_pro =df.loc[(df['tons_2012']!='-inf' )  & (df['tmiles_2012']!='-inf') & (df['value_log']!='-inf')]\n",
        "df_pro"
      ],
      "execution_count": 0,
      "outputs": [
        {
          "output_type": "execute_result",
          "data": {
            "text/html": [
              "<div>\n",
              "<style scoped>\n",
              "    .dataframe tbody tr th:only-of-type {\n",
              "        vertical-align: middle;\n",
              "    }\n",
              "\n",
              "    .dataframe tbody tr th {\n",
              "        vertical-align: top;\n",
              "    }\n",
              "\n",
              "    .dataframe thead th {\n",
              "        text-align: right;\n",
              "    }\n",
              "</style>\n",
              "<table border=\"1\" class=\"dataframe\">\n",
              "  <thead>\n",
              "    <tr style=\"text-align: right;\">\n",
              "      <th></th>\n",
              "      <th>fr_orig</th>\n",
              "      <th>dms_origst</th>\n",
              "      <th>dms_destst</th>\n",
              "      <th>fr_dest</th>\n",
              "      <th>fr_inmode</th>\n",
              "      <th>dms_mode</th>\n",
              "      <th>fr_outmode</th>\n",
              "      <th>sctg2</th>\n",
              "      <th>trade_type</th>\n",
              "      <th>tons_2012</th>\n",
              "      <th>tmiles_2012</th>\n",
              "      <th>value_log</th>\n",
              "    </tr>\n",
              "  </thead>\n",
              "  <tbody>\n",
              "    <tr>\n",
              "      <th>0</th>\n",
              "      <td>801</td>\n",
              "      <td>22</td>\n",
              "      <td>1</td>\n",
              "      <td>0</td>\n",
              "      <td>4</td>\n",
              "      <td>4</td>\n",
              "      <td>0</td>\n",
              "      <td>33</td>\n",
              "      <td>2</td>\n",
              "      <td>-7.013115794639964</td>\n",
              "      <td>-8.086547784777775</td>\n",
              "      <td>-1.760260802168684</td>\n",
              "    </tr>\n",
              "    <tr>\n",
              "      <th>1</th>\n",
              "      <td>0</td>\n",
              "      <td>4</td>\n",
              "      <td>34</td>\n",
              "      <td>806</td>\n",
              "      <td>0</td>\n",
              "      <td>1</td>\n",
              "      <td>3</td>\n",
              "      <td>24</td>\n",
              "      <td>3</td>\n",
              "      <td>-3.661264287080963</td>\n",
              "      <td>-2.766926542676535</td>\n",
              "      <td>-2.1892564076870427</td>\n",
              "    </tr>\n",
              "    <tr>\n",
              "      <th>2</th>\n",
              "      <td>801</td>\n",
              "      <td>50</td>\n",
              "      <td>40</td>\n",
              "      <td>0</td>\n",
              "      <td>2</td>\n",
              "      <td>2</td>\n",
              "      <td>0</td>\n",
              "      <td>4</td>\n",
              "      <td>2</td>\n",
              "      <td>-4.518992489747039</td>\n",
              "      <td>-4.028986689344862</td>\n",
              "      <td>-6.812445099177812</td>\n",
              "    </tr>\n",
              "    <tr>\n",
              "      <th>3</th>\n",
              "      <td>0</td>\n",
              "      <td>2</td>\n",
              "      <td>9</td>\n",
              "      <td>0</td>\n",
              "      <td>0</td>\n",
              "      <td>1</td>\n",
              "      <td>0</td>\n",
              "      <td>30</td>\n",
              "      <td>1</td>\n",
              "      <td>-9.210340371976182</td>\n",
              "      <td>-7.853217388156572</td>\n",
              "      <td>-7.1308988302963465</td>\n",
              "    </tr>\n",
              "    <tr>\n",
              "      <th>4</th>\n",
              "      <td>0</td>\n",
              "      <td>54</td>\n",
              "      <td>6</td>\n",
              "      <td>802</td>\n",
              "      <td>0</td>\n",
              "      <td>1</td>\n",
              "      <td>1</td>\n",
              "      <td>36</td>\n",
              "      <td>3</td>\n",
              "      <td>-4.193060535161258</td>\n",
              "      <td>-3.2624602250701895</td>\n",
              "      <td>-2.670754416358513</td>\n",
              "    </tr>\n",
              "    <tr>\n",
              "      <th>...</th>\n",
              "      <td>...</td>\n",
              "      <td>...</td>\n",
              "      <td>...</td>\n",
              "      <td>...</td>\n",
              "      <td>...</td>\n",
              "      <td>...</td>\n",
              "      <td>...</td>\n",
              "      <td>...</td>\n",
              "      <td>...</td>\n",
              "      <td>...</td>\n",
              "      <td>...</td>\n",
              "      <td>...</td>\n",
              "    </tr>\n",
              "    <tr>\n",
              "      <th>410409</th>\n",
              "      <td>803</td>\n",
              "      <td>6</td>\n",
              "      <td>34</td>\n",
              "      <td>0</td>\n",
              "      <td>3</td>\n",
              "      <td>5</td>\n",
              "      <td>0</td>\n",
              "      <td>31</td>\n",
              "      <td>2</td>\n",
              "      <td>-3.009831197933493</td>\n",
              "      <td>-1.8725467940601512</td>\n",
              "      <td>-4.017383521085972</td>\n",
              "    </tr>\n",
              "    <tr>\n",
              "      <th>410410</th>\n",
              "      <td>803</td>\n",
              "      <td>53</td>\n",
              "      <td>24</td>\n",
              "      <td>0</td>\n",
              "      <td>3</td>\n",
              "      <td>1</td>\n",
              "      <td>0</td>\n",
              "      <td>27</td>\n",
              "      <td>2</td>\n",
              "      <td>2.548952862261545</td>\n",
              "      <td>3.5560022645947473</td>\n",
              "      <td>0.6259919053725373</td>\n",
              "    </tr>\n",
              "    <tr>\n",
              "      <th>410411</th>\n",
              "      <td>808</td>\n",
              "      <td>26</td>\n",
              "      <td>34</td>\n",
              "      <td>0</td>\n",
              "      <td>5</td>\n",
              "      <td>1</td>\n",
              "      <td>0</td>\n",
              "      <td>24</td>\n",
              "      <td>2</td>\n",
              "      <td>-6.812445099177812</td>\n",
              "      <td>-7.26447308098212</td>\n",
              "      <td>-5.952243833954701</td>\n",
              "    </tr>\n",
              "    <tr>\n",
              "      <th>410412</th>\n",
              "      <td>0</td>\n",
              "      <td>21</td>\n",
              "      <td>35</td>\n",
              "      <td>802</td>\n",
              "      <td>0</td>\n",
              "      <td>1</td>\n",
              "      <td>1</td>\n",
              "      <td>31</td>\n",
              "      <td>3</td>\n",
              "      <td>-6.032286541628237</td>\n",
              "      <td>-5.697014429630482</td>\n",
              "      <td>-5.654992310486769</td>\n",
              "    </tr>\n",
              "    <tr>\n",
              "      <th>410413</th>\n",
              "      <td>801</td>\n",
              "      <td>48</td>\n",
              "      <td>42</td>\n",
              "      <td>0</td>\n",
              "      <td>1</td>\n",
              "      <td>1</td>\n",
              "      <td>0</td>\n",
              "      <td>32</td>\n",
              "      <td>2</td>\n",
              "      <td>-4.456750180869818</td>\n",
              "      <td>-4.007735766257339</td>\n",
              "      <td>-4.546901277864116</td>\n",
              "    </tr>\n",
              "  </tbody>\n",
              "</table>\n",
              "<p>373990 rows × 12 columns</p>\n",
              "</div>"
            ],
            "text/plain": [
              "        fr_orig  dms_origst  ...          tmiles_2012            value_log\n",
              "0           801          22  ...   -8.086547784777775   -1.760260802168684\n",
              "1             0           4  ...   -2.766926542676535  -2.1892564076870427\n",
              "2           801          50  ...   -4.028986689344862   -6.812445099177812\n",
              "3             0           2  ...   -7.853217388156572  -7.1308988302963465\n",
              "4             0          54  ...  -3.2624602250701895   -2.670754416358513\n",
              "...         ...         ...  ...                  ...                  ...\n",
              "410409      803           6  ...  -1.8725467940601512   -4.017383521085972\n",
              "410410      803          53  ...   3.5560022645947473   0.6259919053725373\n",
              "410411      808          26  ...    -7.26447308098212   -5.952243833954701\n",
              "410412        0          21  ...   -5.697014429630482   -5.654992310486769\n",
              "410413      801          48  ...   -4.007735766257339   -4.546901277864116\n",
              "\n",
              "[373990 rows x 12 columns]"
            ]
          },
          "metadata": {
            "tags": []
          },
          "execution_count": 81
        }
      ]
    },
    {
      "cell_type": "code",
      "metadata": {
        "id": "1AtepQ_2sgKh",
        "colab_type": "code",
        "outputId": "b2dea75c-9105-4590-a5cc-2aea42cebc1a",
        "colab": {
          "base_uri": "https://localhost:8080/",
          "height": 306
        }
      },
      "source": [
        "df.info()"
      ],
      "execution_count": 0,
      "outputs": [
        {
          "output_type": "stream",
          "text": [
            "<class 'pandas.core.frame.DataFrame'>\n",
            "RangeIndex: 410414 entries, 0 to 410413\n",
            "Data columns (total 12 columns):\n",
            "fr_orig        410414 non-null int64\n",
            "dms_origst     410414 non-null int64\n",
            "dms_destst     410414 non-null int64\n",
            "fr_dest        410414 non-null int64\n",
            "fr_inmode      410414 non-null int64\n",
            "dms_mode       410414 non-null int64\n",
            "fr_outmode     410414 non-null int64\n",
            "sctg2          410414 non-null int64\n",
            "trade_type     410414 non-null int64\n",
            "tons_2012      410414 non-null object\n",
            "tmiles_2012    410414 non-null object\n",
            "value_log      410414 non-null object\n",
            "dtypes: int64(9), object(3)\n",
            "memory usage: 37.6+ MB\n"
          ],
          "name": "stdout"
        }
      ]
    },
    {
      "cell_type": "code",
      "metadata": {
        "id": "B8AMm4TNyYMi",
        "colab_type": "code",
        "outputId": "fb078ae4-48f5-4259-f277-f8f98bb889fc",
        "colab": {
          "base_uri": "https://localhost:8080/",
          "height": 306
        }
      },
      "source": [
        "df_pro.info()"
      ],
      "execution_count": 0,
      "outputs": [
        {
          "output_type": "stream",
          "text": [
            "<class 'pandas.core.frame.DataFrame'>\n",
            "Int64Index: 373990 entries, 0 to 410413\n",
            "Data columns (total 12 columns):\n",
            "fr_orig        373990 non-null int64\n",
            "dms_origst     373990 non-null int64\n",
            "dms_destst     373990 non-null int64\n",
            "fr_dest        373990 non-null int64\n",
            "fr_inmode      373990 non-null int64\n",
            "dms_mode       373990 non-null int64\n",
            "fr_outmode     373990 non-null int64\n",
            "sctg2          373990 non-null int64\n",
            "trade_type     373990 non-null int64\n",
            "tons_2012      373990 non-null object\n",
            "tmiles_2012    373990 non-null object\n",
            "value_log      373990 non-null object\n",
            "dtypes: int64(9), object(3)\n",
            "memory usage: 37.1+ MB\n"
          ],
          "name": "stdout"
        }
      ]
    },
    {
      "cell_type": "code",
      "metadata": {
        "id": "QVP7K6iip7iF",
        "colab_type": "code",
        "colab": {}
      },
      "source": [
        "col1 = ['tons_2012', 'tmiles_2012', 'value_log']"
      ],
      "execution_count": 0,
      "outputs": []
    },
    {
      "cell_type": "code",
      "metadata": {
        "id": "4AH8HSrHxzaM",
        "colab_type": "code",
        "outputId": "0138e0ab-67f8-4e0c-80e5-90e62ff5d9bc",
        "colab": {
          "base_uri": "https://localhost:8080/",
          "height": 408
        }
      },
      "source": [
        "for i in col1:\n",
        "    df_pro[i]=df_pro[i].astype(float)\n",
        "df_pro.info()"
      ],
      "execution_count": 0,
      "outputs": [
        {
          "output_type": "stream",
          "text": [
            "/usr/local/lib/python3.6/dist-packages/ipykernel_launcher.py:2: SettingWithCopyWarning: \n",
            "A value is trying to be set on a copy of a slice from a DataFrame.\n",
            "Try using .loc[row_indexer,col_indexer] = value instead\n",
            "\n",
            "See the caveats in the documentation: http://pandas.pydata.org/pandas-docs/stable/user_guide/indexing.html#returning-a-view-versus-a-copy\n",
            "  \n"
          ],
          "name": "stderr"
        },
        {
          "output_type": "stream",
          "text": [
            "<class 'pandas.core.frame.DataFrame'>\n",
            "Int64Index: 373990 entries, 0 to 410413\n",
            "Data columns (total 12 columns):\n",
            "fr_orig        373990 non-null int64\n",
            "dms_origst     373990 non-null int64\n",
            "dms_destst     373990 non-null int64\n",
            "fr_dest        373990 non-null int64\n",
            "fr_inmode      373990 non-null int64\n",
            "dms_mode       373990 non-null int64\n",
            "fr_outmode     373990 non-null int64\n",
            "sctg2          373990 non-null int64\n",
            "trade_type     373990 non-null int64\n",
            "tons_2012      373990 non-null float64\n",
            "tmiles_2012    373990 non-null float64\n",
            "value_log      373990 non-null float64\n",
            "dtypes: float64(3), int64(9)\n",
            "memory usage: 37.1 MB\n"
          ],
          "name": "stdout"
        }
      ]
    },
    {
      "cell_type": "code",
      "metadata": {
        "id": "eUv_KOpjxztU",
        "colab_type": "code",
        "outputId": "1281d260-056d-48cf-d3b0-036cf087199a",
        "colab": {
          "base_uri": "https://localhost:8080/",
          "height": 204
        }
      },
      "source": [
        "df_pro.head()"
      ],
      "execution_count": 0,
      "outputs": [
        {
          "output_type": "execute_result",
          "data": {
            "text/html": [
              "<div>\n",
              "<style scoped>\n",
              "    .dataframe tbody tr th:only-of-type {\n",
              "        vertical-align: middle;\n",
              "    }\n",
              "\n",
              "    .dataframe tbody tr th {\n",
              "        vertical-align: top;\n",
              "    }\n",
              "\n",
              "    .dataframe thead th {\n",
              "        text-align: right;\n",
              "    }\n",
              "</style>\n",
              "<table border=\"1\" class=\"dataframe\">\n",
              "  <thead>\n",
              "    <tr style=\"text-align: right;\">\n",
              "      <th></th>\n",
              "      <th>fr_orig</th>\n",
              "      <th>dms_origst</th>\n",
              "      <th>dms_destst</th>\n",
              "      <th>fr_dest</th>\n",
              "      <th>fr_inmode</th>\n",
              "      <th>dms_mode</th>\n",
              "      <th>fr_outmode</th>\n",
              "      <th>sctg2</th>\n",
              "      <th>trade_type</th>\n",
              "      <th>tons_2012</th>\n",
              "      <th>tmiles_2012</th>\n",
              "      <th>value_log</th>\n",
              "    </tr>\n",
              "  </thead>\n",
              "  <tbody>\n",
              "    <tr>\n",
              "      <th>0</th>\n",
              "      <td>801</td>\n",
              "      <td>22</td>\n",
              "      <td>1</td>\n",
              "      <td>0</td>\n",
              "      <td>4</td>\n",
              "      <td>4</td>\n",
              "      <td>0</td>\n",
              "      <td>33</td>\n",
              "      <td>2</td>\n",
              "      <td>-7.013116</td>\n",
              "      <td>-8.086548</td>\n",
              "      <td>-1.760261</td>\n",
              "    </tr>\n",
              "    <tr>\n",
              "      <th>1</th>\n",
              "      <td>0</td>\n",
              "      <td>4</td>\n",
              "      <td>34</td>\n",
              "      <td>806</td>\n",
              "      <td>0</td>\n",
              "      <td>1</td>\n",
              "      <td>3</td>\n",
              "      <td>24</td>\n",
              "      <td>3</td>\n",
              "      <td>-3.661264</td>\n",
              "      <td>-2.766927</td>\n",
              "      <td>-2.189256</td>\n",
              "    </tr>\n",
              "    <tr>\n",
              "      <th>2</th>\n",
              "      <td>801</td>\n",
              "      <td>50</td>\n",
              "      <td>40</td>\n",
              "      <td>0</td>\n",
              "      <td>2</td>\n",
              "      <td>2</td>\n",
              "      <td>0</td>\n",
              "      <td>4</td>\n",
              "      <td>2</td>\n",
              "      <td>-4.518992</td>\n",
              "      <td>-4.028987</td>\n",
              "      <td>-6.812445</td>\n",
              "    </tr>\n",
              "    <tr>\n",
              "      <th>3</th>\n",
              "      <td>0</td>\n",
              "      <td>2</td>\n",
              "      <td>9</td>\n",
              "      <td>0</td>\n",
              "      <td>0</td>\n",
              "      <td>1</td>\n",
              "      <td>0</td>\n",
              "      <td>30</td>\n",
              "      <td>1</td>\n",
              "      <td>-9.210340</td>\n",
              "      <td>-7.853217</td>\n",
              "      <td>-7.130899</td>\n",
              "    </tr>\n",
              "    <tr>\n",
              "      <th>4</th>\n",
              "      <td>0</td>\n",
              "      <td>54</td>\n",
              "      <td>6</td>\n",
              "      <td>802</td>\n",
              "      <td>0</td>\n",
              "      <td>1</td>\n",
              "      <td>1</td>\n",
              "      <td>36</td>\n",
              "      <td>3</td>\n",
              "      <td>-4.193061</td>\n",
              "      <td>-3.262460</td>\n",
              "      <td>-2.670754</td>\n",
              "    </tr>\n",
              "  </tbody>\n",
              "</table>\n",
              "</div>"
            ],
            "text/plain": [
              "   fr_orig  dms_origst  dms_destst  ...  tons_2012  tmiles_2012  value_log\n",
              "0      801          22           1  ...  -7.013116    -8.086548  -1.760261\n",
              "1        0           4          34  ...  -3.661264    -2.766927  -2.189256\n",
              "2      801          50          40  ...  -4.518992    -4.028987  -6.812445\n",
              "3        0           2           9  ...  -9.210340    -7.853217  -7.130899\n",
              "4        0          54           6  ...  -4.193061    -3.262460  -2.670754\n",
              "\n",
              "[5 rows x 12 columns]"
            ]
          },
          "metadata": {
            "tags": []
          },
          "execution_count": 86
        }
      ]
    },
    {
      "cell_type": "code",
      "metadata": {
        "id": "Il39LYF40l7l",
        "colab_type": "code",
        "colab": {}
      },
      "source": [
        "df=df_pro"
      ],
      "execution_count": 0,
      "outputs": []
    },
    {
      "cell_type": "code",
      "metadata": {
        "id": "kQtLOmQ71IQf",
        "colab_type": "code",
        "outputId": "75f19174-688d-4eee-c7fa-5ee82c90ad6f",
        "colab": {
          "base_uri": "https://localhost:8080/",
          "height": 306
        }
      },
      "source": [
        "df.info()"
      ],
      "execution_count": 0,
      "outputs": [
        {
          "output_type": "stream",
          "text": [
            "<class 'pandas.core.frame.DataFrame'>\n",
            "Int64Index: 373990 entries, 0 to 410413\n",
            "Data columns (total 12 columns):\n",
            "fr_orig        373990 non-null int64\n",
            "dms_origst     373990 non-null int64\n",
            "dms_destst     373990 non-null int64\n",
            "fr_dest        373990 non-null int64\n",
            "fr_inmode      373990 non-null int64\n",
            "dms_mode       373990 non-null int64\n",
            "fr_outmode     373990 non-null int64\n",
            "sctg2          373990 non-null int64\n",
            "trade_type     373990 non-null int64\n",
            "tons_2012      373990 non-null float64\n",
            "tmiles_2012    373990 non-null float64\n",
            "value_log      373990 non-null float64\n",
            "dtypes: float64(3), int64(9)\n",
            "memory usage: 37.1 MB\n"
          ],
          "name": "stdout"
        }
      ]
    },
    {
      "cell_type": "code",
      "metadata": {
        "id": "UTY3QqoLQss-",
        "colab_type": "code",
        "colab": {}
      },
      "source": [
        "# df.to_csv('faf35_provi_2012_final.csv')"
      ],
      "execution_count": 0,
      "outputs": []
    },
    {
      "cell_type": "markdown",
      "metadata": {
        "id": "vNEsldt6RM3Q",
        "colab_type": "text"
      },
      "source": [
        "X and Y Variables"
      ]
    },
    {
      "cell_type": "code",
      "metadata": {
        "id": "Lu052qvhQ20U",
        "colab_type": "code",
        "colab": {}
      },
      "source": [
        ""
      ],
      "execution_count": 0,
      "outputs": []
    },
    {
      "cell_type": "code",
      "metadata": {
        "id": "ggYOhBm1tN4S",
        "colab_type": "code",
        "colab": {}
      },
      "source": [
        "X= df.drop('value_log', axis=1)\n",
        "y= df['value_log']"
      ],
      "execution_count": 0,
      "outputs": []
    },
    {
      "cell_type": "code",
      "metadata": {
        "id": "kSMbcvtDmf37",
        "colab_type": "code",
        "colab": {}
      },
      "source": [
        ""
      ],
      "execution_count": 0,
      "outputs": []
    },
    {
      "cell_type": "code",
      "metadata": {
        "id": "8FYdohpot9xy",
        "colab_type": "code",
        "colab": {}
      },
      "source": [
        "from sklearn.model_selection import train_test_split, cross_val_score, GridSearchCV, KFold"
      ],
      "execution_count": 0,
      "outputs": []
    },
    {
      "cell_type": "code",
      "metadata": {
        "id": "Y6_e_pGuuBEM",
        "colab_type": "code",
        "colab": {}
      },
      "source": [
        "X_train,X_test,y_train,y_test= train_test_split(X, y, test_size=0.3, random_state=42)"
      ],
      "execution_count": 0,
      "outputs": []
    },
    {
      "cell_type": "code",
      "metadata": {
        "id": "2WRUVYgXtN1I",
        "colab_type": "code",
        "outputId": "55b34a4a-fa0d-40e8-fae4-5f4f015b3456",
        "colab": {
          "base_uri": "https://localhost:8080/",
          "height": 683
        }
      },
      "source": [
        "import statsmodels.api as sm\n",
        "\n",
        "Xc=sm.add_constant(X)\n",
        "lin_reg=sm.OLS(y_train,X_train)\n",
        "result=lin_reg.fit()\n",
        "print(result.summary())"
      ],
      "execution_count": 0,
      "outputs": [
        {
          "output_type": "stream",
          "text": [
            "/usr/local/lib/python3.6/dist-packages/numpy/core/fromnumeric.py:2495: FutureWarning: Method .ptp is deprecated and will be removed in a future version. Use numpy.ptp instead.\n",
            "  return ptp(axis=axis, out=out, **kwargs)\n"
          ],
          "name": "stderr"
        },
        {
          "output_type": "stream",
          "text": [
            "                                 OLS Regression Results                                \n",
            "=======================================================================================\n",
            "Dep. Variable:              value_log   R-squared (uncentered):                   0.776\n",
            "Model:                            OLS   Adj. R-squared (uncentered):              0.776\n",
            "Method:                 Least Squares   F-statistic:                          8.238e+04\n",
            "Date:                Sat, 11 Jan 2020   Prob (F-statistic):                        0.00\n",
            "Time:                        06:25:18   Log-Likelihood:                     -5.3117e+05\n",
            "No. Observations:              261793   AIC:                                  1.062e+06\n",
            "Df Residuals:                  261782   BIC:                                  1.062e+06\n",
            "Df Model:                          11                                                  \n",
            "Covariance Type:            nonrobust                                                  \n",
            "===============================================================================\n",
            "                  coef    std err          t      P>|t|      [0.025      0.975]\n",
            "-------------------------------------------------------------------------------\n",
            "fr_orig        -0.0010    3.3e-05    -30.765      0.000      -0.001      -0.001\n",
            "dms_origst     -0.0004      0.000     -1.724      0.085      -0.001    5.52e-05\n",
            "dms_destst     -0.0008      0.000     -3.471      0.001      -0.001      -0.000\n",
            "fr_dest        -0.0003   5.12e-05     -5.927      0.000      -0.000      -0.000\n",
            "fr_inmode       0.2314      0.005     47.556      0.000       0.222       0.241\n",
            "dms_mode        0.1107      0.002     60.683      0.000       0.107       0.114\n",
            "fr_outmode      0.1944      0.006     34.114      0.000       0.183       0.206\n",
            "sctg2           0.0273      0.000    115.779      0.000       0.027       0.028\n",
            "trade_type     -0.5572      0.015    -36.466      0.000      -0.587      -0.527\n",
            "tons_2012       0.7750      0.004    218.286      0.000       0.768       0.782\n",
            "tmiles_2012    -0.0809      0.003    -23.416      0.000      -0.088      -0.074\n",
            "==============================================================================\n",
            "Omnibus:                     4370.209   Durbin-Watson:                   2.000\n",
            "Prob(Omnibus):                  0.000   Jarque-Bera (JB):             6007.517\n",
            "Skew:                          -0.215   Prob(JB):                         0.00\n",
            "Kurtosis:                       3.605   Cond. No.                     2.17e+03\n",
            "==============================================================================\n",
            "\n",
            "Warnings:\n",
            "[1] Standard Errors assume that the covariance matrix of the errors is correctly specified.\n",
            "[2] The condition number is large, 2.17e+03. This might indicate that there are\n",
            "strong multicollinearity or other numerical problems.\n"
          ],
          "name": "stdout"
        }
      ]
    },
    {
      "cell_type": "code",
      "metadata": {
        "id": "rHwbfrWFtNyT",
        "colab_type": "code",
        "colab": {}
      },
      "source": [
        ""
      ],
      "execution_count": 0,
      "outputs": []
    },
    {
      "cell_type": "code",
      "metadata": {
        "id": "li6zTBZStNwc",
        "colab_type": "code",
        "outputId": "d7de7d89-63bf-4b87-d6fe-8da201ba11da",
        "colab": {
          "base_uri": "https://localhost:8080/",
          "height": 390
        }
      },
      "source": [
        "from statsmodels.stats.outliers_influence import variance_inflation_factor\n",
        "\n",
        "vif = [variance_inflation_factor(X_train.values, i) for i in range(X_train.shape[1])]\n",
        "VIF_Housing=pd.DataFrame({'vif': vif}, index=X_train.columns)\n",
        "VIF_Housing.sort_values(by='vif')"
      ],
      "execution_count": 0,
      "outputs": [
        {
          "output_type": "execute_result",
          "data": {
            "text/html": [
              "<div>\n",
              "<style scoped>\n",
              "    .dataframe tbody tr th:only-of-type {\n",
              "        vertical-align: middle;\n",
              "    }\n",
              "\n",
              "    .dataframe tbody tr th {\n",
              "        vertical-align: top;\n",
              "    }\n",
              "\n",
              "    .dataframe thead th {\n",
              "        text-align: right;\n",
              "    }\n",
              "</style>\n",
              "<table border=\"1\" class=\"dataframe\">\n",
              "  <thead>\n",
              "    <tr style=\"text-align: right;\">\n",
              "      <th></th>\n",
              "      <th>vif</th>\n",
              "    </tr>\n",
              "  </thead>\n",
              "  <tbody>\n",
              "    <tr>\n",
              "      <th>dms_mode</th>\n",
              "      <td>2.972327</td>\n",
              "    </tr>\n",
              "    <tr>\n",
              "      <th>sctg2</th>\n",
              "      <td>4.043235</td>\n",
              "    </tr>\n",
              "    <tr>\n",
              "      <th>dms_destst</th>\n",
              "      <td>4.590273</td>\n",
              "    </tr>\n",
              "    <tr>\n",
              "      <th>dms_origst</th>\n",
              "      <td>4.775533</td>\n",
              "    </tr>\n",
              "    <tr>\n",
              "      <th>fr_inmode</th>\n",
              "      <td>7.796544</td>\n",
              "    </tr>\n",
              "    <tr>\n",
              "      <th>fr_outmode</th>\n",
              "      <td>9.511565</td>\n",
              "    </tr>\n",
              "    <tr>\n",
              "      <th>fr_orig</th>\n",
              "      <td>21.720889</td>\n",
              "    </tr>\n",
              "    <tr>\n",
              "      <th>tons_2012</th>\n",
              "      <td>21.993992</td>\n",
              "    </tr>\n",
              "    <tr>\n",
              "      <th>tmiles_2012</th>\n",
              "      <td>22.507941</td>\n",
              "    </tr>\n",
              "    <tr>\n",
              "      <th>fr_dest</th>\n",
              "      <td>49.496051</td>\n",
              "    </tr>\n",
              "    <tr>\n",
              "      <th>trade_type</th>\n",
              "      <td>94.141836</td>\n",
              "    </tr>\n",
              "  </tbody>\n",
              "</table>\n",
              "</div>"
            ],
            "text/plain": [
              "                   vif\n",
              "dms_mode      2.972327\n",
              "sctg2         4.043235\n",
              "dms_destst    4.590273\n",
              "dms_origst    4.775533\n",
              "fr_inmode     7.796544\n",
              "fr_outmode    9.511565\n",
              "fr_orig      21.720889\n",
              "tons_2012    21.993992\n",
              "tmiles_2012  22.507941\n",
              "fr_dest      49.496051\n",
              "trade_type   94.141836"
            ]
          },
          "metadata": {
            "tags": []
          },
          "execution_count": 94
        }
      ]
    },
    {
      "cell_type": "code",
      "metadata": {
        "id": "myFg_0mwtNuA",
        "colab_type": "code",
        "colab": {}
      },
      "source": [
        "X_vif=X_train.drop('trade_type', axis=1)"
      ],
      "execution_count": 0,
      "outputs": []
    },
    {
      "cell_type": "code",
      "metadata": {
        "id": "64Qh0QHOu_Zn",
        "colab_type": "code",
        "colab": {}
      },
      "source": [
        ""
      ],
      "execution_count": 0,
      "outputs": []
    },
    {
      "cell_type": "code",
      "metadata": {
        "id": "7zno1evMtNri",
        "colab_type": "code",
        "outputId": "4955d82d-22fe-4227-c210-0462357b5dcb",
        "colab": {
          "base_uri": "https://localhost:8080/",
          "height": 359
        }
      },
      "source": [
        "vif = [variance_inflation_factor(X_vif.values, i) for i in range(X_vif.shape[1])]\n",
        "VIF_Housing=pd.DataFrame({'vif': vif}, index=X_vif.columns)\n",
        "VIF_Housing.sort_values(by='vif')"
      ],
      "execution_count": 0,
      "outputs": [
        {
          "output_type": "execute_result",
          "data": {
            "text/html": [
              "<div>\n",
              "<style scoped>\n",
              "    .dataframe tbody tr th:only-of-type {\n",
              "        vertical-align: middle;\n",
              "    }\n",
              "\n",
              "    .dataframe tbody tr th {\n",
              "        vertical-align: top;\n",
              "    }\n",
              "\n",
              "    .dataframe thead th {\n",
              "        text-align: right;\n",
              "    }\n",
              "</style>\n",
              "<table border=\"1\" class=\"dataframe\">\n",
              "  <thead>\n",
              "    <tr style=\"text-align: right;\">\n",
              "      <th></th>\n",
              "      <th>vif</th>\n",
              "    </tr>\n",
              "  </thead>\n",
              "  <tbody>\n",
              "    <tr>\n",
              "      <th>dms_mode</th>\n",
              "      <td>2.532377</td>\n",
              "    </tr>\n",
              "    <tr>\n",
              "      <th>sctg2</th>\n",
              "      <td>3.488224</td>\n",
              "    </tr>\n",
              "    <tr>\n",
              "      <th>dms_destst</th>\n",
              "      <td>3.751995</td>\n",
              "    </tr>\n",
              "    <tr>\n",
              "      <th>dms_origst</th>\n",
              "      <td>3.838285</td>\n",
              "    </tr>\n",
              "    <tr>\n",
              "      <th>fr_inmode</th>\n",
              "      <td>7.746094</td>\n",
              "    </tr>\n",
              "    <tr>\n",
              "      <th>fr_orig</th>\n",
              "      <td>8.723407</td>\n",
              "    </tr>\n",
              "    <tr>\n",
              "      <th>fr_outmode</th>\n",
              "      <td>9.305292</td>\n",
              "    </tr>\n",
              "    <tr>\n",
              "      <th>fr_dest</th>\n",
              "      <td>9.974952</td>\n",
              "    </tr>\n",
              "    <tr>\n",
              "      <th>tons_2012</th>\n",
              "      <td>21.922312</td>\n",
              "    </tr>\n",
              "    <tr>\n",
              "      <th>tmiles_2012</th>\n",
              "      <td>22.485952</td>\n",
              "    </tr>\n",
              "  </tbody>\n",
              "</table>\n",
              "</div>"
            ],
            "text/plain": [
              "                   vif\n",
              "dms_mode      2.532377\n",
              "sctg2         3.488224\n",
              "dms_destst    3.751995\n",
              "dms_origst    3.838285\n",
              "fr_inmode     7.746094\n",
              "fr_orig       8.723407\n",
              "fr_outmode    9.305292\n",
              "fr_dest       9.974952\n",
              "tons_2012    21.922312\n",
              "tmiles_2012  22.485952"
            ]
          },
          "metadata": {
            "tags": []
          },
          "execution_count": 96
        }
      ]
    },
    {
      "cell_type": "code",
      "metadata": {
        "id": "bzqSO9a1tNob",
        "colab_type": "code",
        "colab": {}
      },
      "source": [
        "X_vif1=X_vif.drop(['tmiles_2012', 'tons_2012'], axis=1)"
      ],
      "execution_count": 0,
      "outputs": []
    },
    {
      "cell_type": "code",
      "metadata": {
        "id": "pTe4FDCFtNj9",
        "colab_type": "code",
        "outputId": "8da1002a-332e-47ae-e66e-1303ff89f1ed",
        "colab": {
          "base_uri": "https://localhost:8080/",
          "height": 297
        }
      },
      "source": [
        "vif = [variance_inflation_factor(X_vif1.values, i) for i in range(X_vif1.shape[1])]\n",
        "VIF_Housing=pd.DataFrame({'vif': vif}, index=X_vif1.columns)\n",
        "VIF_Housing.sort_values(by='vif')"
      ],
      "execution_count": 0,
      "outputs": [
        {
          "output_type": "execute_result",
          "data": {
            "text/html": [
              "<div>\n",
              "<style scoped>\n",
              "    .dataframe tbody tr th:only-of-type {\n",
              "        vertical-align: middle;\n",
              "    }\n",
              "\n",
              "    .dataframe tbody tr th {\n",
              "        vertical-align: top;\n",
              "    }\n",
              "\n",
              "    .dataframe thead th {\n",
              "        text-align: right;\n",
              "    }\n",
              "</style>\n",
              "<table border=\"1\" class=\"dataframe\">\n",
              "  <thead>\n",
              "    <tr style=\"text-align: right;\">\n",
              "      <th></th>\n",
              "      <th>vif</th>\n",
              "    </tr>\n",
              "  </thead>\n",
              "  <tbody>\n",
              "    <tr>\n",
              "      <th>dms_mode</th>\n",
              "      <td>2.506669</td>\n",
              "    </tr>\n",
              "    <tr>\n",
              "      <th>sctg2</th>\n",
              "      <td>3.325327</td>\n",
              "    </tr>\n",
              "    <tr>\n",
              "      <th>dms_destst</th>\n",
              "      <td>3.697821</td>\n",
              "    </tr>\n",
              "    <tr>\n",
              "      <th>dms_origst</th>\n",
              "      <td>3.774906</td>\n",
              "    </tr>\n",
              "    <tr>\n",
              "      <th>fr_inmode</th>\n",
              "      <td>7.633266</td>\n",
              "    </tr>\n",
              "    <tr>\n",
              "      <th>fr_orig</th>\n",
              "      <td>8.716065</td>\n",
              "    </tr>\n",
              "    <tr>\n",
              "      <th>fr_outmode</th>\n",
              "      <td>9.126059</td>\n",
              "    </tr>\n",
              "    <tr>\n",
              "      <th>fr_dest</th>\n",
              "      <td>9.926010</td>\n",
              "    </tr>\n",
              "  </tbody>\n",
              "</table>\n",
              "</div>"
            ],
            "text/plain": [
              "                 vif\n",
              "dms_mode    2.506669\n",
              "sctg2       3.325327\n",
              "dms_destst  3.697821\n",
              "dms_origst  3.774906\n",
              "fr_inmode   7.633266\n",
              "fr_orig     8.716065\n",
              "fr_outmode  9.126059\n",
              "fr_dest     9.926010"
            ]
          },
          "metadata": {
            "tags": []
          },
          "execution_count": 98
        }
      ]
    },
    {
      "cell_type": "code",
      "metadata": {
        "id": "3DNLUPCbvMt3",
        "colab_type": "code",
        "outputId": "acc450df-139d-4f71-d1cf-de4426c0d9e3",
        "colab": {
          "base_uri": "https://localhost:8080/",
          "height": 68
        }
      },
      "source": [
        "VIF_Housing.index"
      ],
      "execution_count": 0,
      "outputs": [
        {
          "output_type": "execute_result",
          "data": {
            "text/plain": [
              "Index(['fr_orig', 'dms_origst', 'dms_destst', 'fr_dest', 'fr_inmode',\n",
              "       'dms_mode', 'fr_outmode', 'sctg2'],\n",
              "      dtype='object')"
            ]
          },
          "metadata": {
            "tags": []
          },
          "execution_count": 99
        }
      ]
    },
    {
      "cell_type": "code",
      "metadata": {
        "id": "gppFiFagvdgN",
        "colab_type": "code",
        "colab": {}
      },
      "source": [
        "X1 = df[['fr_orig', 'dms_origst', 'dms_destst', 'fr_dest', 'fr_inmode',\n",
        "       'dms_mode', 'fr_outmode', 'sctg2']]\n"
      ],
      "execution_count": 0,
      "outputs": []
    },
    {
      "cell_type": "code",
      "metadata": {
        "id": "cxKrM9XQC9Z4",
        "colab_type": "code",
        "colab": {}
      },
      "source": [
        ""
      ],
      "execution_count": 0,
      "outputs": []
    },
    {
      "cell_type": "markdown",
      "metadata": {
        "id": "X-9pfH9aC98U",
        "colab_type": "text"
      },
      "source": [
        "ML _ Algorithm"
      ]
    },
    {
      "cell_type": "code",
      "metadata": {
        "id": "FqfVDKgP7MZN",
        "colab_type": "code",
        "colab": {}
      },
      "source": [
        "X= df.drop(['value_log', 'dms_origst'], axis=1)\n",
        "y= df['value_log']"
      ],
      "execution_count": 0,
      "outputs": []
    },
    {
      "cell_type": "code",
      "metadata": {
        "id": "NxCtYctWxbXf",
        "colab_type": "code",
        "colab": {}
      },
      "source": [
        "X_train,X_test,y_train,y_test= train_test_split(X, y, test_size=0.3, random_state=42)"
      ],
      "execution_count": 0,
      "outputs": []
    },
    {
      "cell_type": "code",
      "metadata": {
        "id": "scSb1fpFwJXK",
        "colab_type": "code",
        "colab": {}
      },
      "source": [
        "from sklearn.linear_model import LinearRegression\n",
        "\n",
        "# create instance\n",
        "model = LinearRegression() \n"
      ],
      "execution_count": 0,
      "outputs": []
    },
    {
      "cell_type": "code",
      "metadata": {
        "id": "BsWgtAMubZsK",
        "colab_type": "code",
        "outputId": "09711a6a-4ec4-4493-f39b-eaaddf7b2f77",
        "colab": {
          "base_uri": "https://localhost:8080/",
          "height": 51
        }
      },
      "source": [
        "from sklearn.metrics import r2_score,mean_squared_error\n",
        "from sklearn.linear_model import LinearRegression\n",
        "\n",
        "lr = LinearRegression(fit_intercept=True)\n",
        "\n",
        "lr.fit(X_train,y_train)\n",
        "y_pred_train=lr.predict(X_train)\n",
        "\n",
        "\n",
        "print(\"R2 of Train\",r2_score(y_train,y_pred_train))\n",
        "print(\"RMSE of Train\",np.sqrt(mean_squared_error(y_train,y_pred_train)))"
      ],
      "execution_count": 0,
      "outputs": [
        {
          "output_type": "stream",
          "text": [
            "R2 of Train 0.5663130776163052\n",
            "RMSE of Train 1.835834085749311\n"
          ],
          "name": "stdout"
        }
      ]
    },
    {
      "cell_type": "code",
      "metadata": {
        "id": "h07Lcg7zwBBx",
        "colab_type": "code",
        "outputId": "bdeaf667-5eba-4e2c-8199-fb102fb794bb",
        "colab": {
          "base_uri": "https://localhost:8080/",
          "height": 134
        }
      },
      "source": [
        "model = []\n",
        "model.append(('LR', LinearRegression()))\n",
        "\n",
        "names = []\n",
        "scores = []\n",
        "\n",
        "for name, model in model:\n",
        "    \n",
        "    kfold = KFold(n_splits=10, random_state=42) \n",
        "    score = cross_val_score(model, X, y, cv=kfold).mean()\n",
        "    \n",
        "    names.append(name)\n",
        "    scores.append(score)\n",
        "kf_cross_val = pd.DataFrame({'Name': names, 'Score': scores})\n",
        "pd.DataFrame(kf_cross_val)"
      ],
      "execution_count": 0,
      "outputs": [
        {
          "output_type": "stream",
          "text": [
            "/usr/local/lib/python3.6/dist-packages/sklearn/model_selection/_split.py:296: FutureWarning: Setting a random_state has no effect since shuffle is False. This will raise an error in 0.24. You should leave random_state to its default (None), or set shuffle=True.\n",
            "  FutureWarning\n"
          ],
          "name": "stderr"
        },
        {
          "output_type": "execute_result",
          "data": {
            "text/html": [
              "<div>\n",
              "<style scoped>\n",
              "    .dataframe tbody tr th:only-of-type {\n",
              "        vertical-align: middle;\n",
              "    }\n",
              "\n",
              "    .dataframe tbody tr th {\n",
              "        vertical-align: top;\n",
              "    }\n",
              "\n",
              "    .dataframe thead th {\n",
              "        text-align: right;\n",
              "    }\n",
              "</style>\n",
              "<table border=\"1\" class=\"dataframe\">\n",
              "  <thead>\n",
              "    <tr style=\"text-align: right;\">\n",
              "      <th></th>\n",
              "      <th>Name</th>\n",
              "      <th>Score</th>\n",
              "    </tr>\n",
              "  </thead>\n",
              "  <tbody>\n",
              "    <tr>\n",
              "      <th>0</th>\n",
              "      <td>LR</td>\n",
              "      <td>0.566324</td>\n",
              "    </tr>\n",
              "  </tbody>\n",
              "</table>\n",
              "</div>"
            ],
            "text/plain": [
              "  Name     Score\n",
              "0   LR  0.566324"
            ]
          },
          "metadata": {
            "tags": []
          },
          "execution_count": 129
        }
      ]
    },
    {
      "cell_type": "code",
      "metadata": {
        "id": "ujcu_O8--6GJ",
        "colab_type": "code",
        "outputId": "b0e5bfe3-542e-450d-a14f-95efda4e6702",
        "colab": {
          "base_uri": "https://localhost:8080/",
          "height": 306
        }
      },
      "source": [
        "df.info()"
      ],
      "execution_count": 0,
      "outputs": [
        {
          "output_type": "stream",
          "text": [
            "<class 'pandas.core.frame.DataFrame'>\n",
            "Int64Index: 373990 entries, 0 to 410413\n",
            "Data columns (total 12 columns):\n",
            "fr_orig        373990 non-null int64\n",
            "dms_origst     373990 non-null int64\n",
            "dms_destst     373990 non-null int64\n",
            "fr_dest        373990 non-null int64\n",
            "fr_inmode      373990 non-null int64\n",
            "dms_mode       373990 non-null int64\n",
            "fr_outmode     373990 non-null int64\n",
            "sctg2          373990 non-null int64\n",
            "trade_type     373990 non-null int64\n",
            "tons_2012      373990 non-null float64\n",
            "tmiles_2012    373990 non-null float64\n",
            "value_log      373990 non-null float64\n",
            "dtypes: float64(3), int64(9)\n",
            "memory usage: 37.1 MB\n"
          ],
          "name": "stdout"
        }
      ]
    },
    {
      "cell_type": "code",
      "metadata": {
        "id": "kawt1-xL-6BN",
        "colab_type": "code",
        "colab": {}
      },
      "source": [
        ""
      ],
      "execution_count": 0,
      "outputs": []
    },
    {
      "cell_type": "code",
      "metadata": {
        "id": "fSArej1awA_Z",
        "colab_type": "code",
        "colab": {}
      },
      "source": [
        "\n",
        "from sklearn.tree import DecisionTreeRegressor\n",
        "from sklearn.ensemble import RandomForestRegressor\n",
        "from sklearn.linear_model import BayesianRidge\n",
        "from sklearn.neighbors import KNeighborsRegressor\n",
        "from sklearn.linear_model import SGDRegressor\n",
        "from sklearn.linear_model import Lasso\n",
        "from sklearn.linear_model import Ridge"
      ],
      "execution_count": 0,
      "outputs": []
    },
    {
      "cell_type": "code",
      "metadata": {
        "id": "2do3kMw8wA9R",
        "colab_type": "code",
        "colab": {}
      },
      "source": [
        "models = []\n",
        "models.append(('KNN', KNeighborsRegressor()))\n",
        "models.append(('DT', DecisionTreeRegressor()))\n",
        "models.append(('BayRidge', BayesianRidge()))\n",
        "models.append(('RF', RandomForestRegressor()))\n",
        "models.append(('Lasso', Lasso()))\n",
        "models.append(('Ridge', Ridge()))"
      ],
      "execution_count": 0,
      "outputs": []
    },
    {
      "cell_type": "code",
      "metadata": {
        "id": "CbAUc4t6xlQg",
        "colab_type": "code",
        "colab": {}
      },
      "source": [
        "from sklearn.metrics import accuracy_score, f1_score, confusion_matrix, recall_score\n",
        "from sklearn.metrics import precision_score, classification_report, cohen_kappa_score"
      ],
      "execution_count": 0,
      "outputs": []
    },
    {
      "cell_type": "code",
      "metadata": {
        "id": "u0s_1TnE5FRs",
        "colab_type": "code",
        "colab": {}
      },
      "source": [
        "from sklearn.metrics import r2_score\n",
        "from sklearn.linear_model import LassoCV\n",
        "from sklearn.linear_model import RidgeCV"
      ],
      "execution_count": 0,
      "outputs": []
    },
    {
      "cell_type": "markdown",
      "metadata": {
        "id": "47CAtM_kW5El",
        "colab_type": "text"
      },
      "source": [
        "Regressor _ Algorithm"
      ]
    },
    {
      "cell_type": "code",
      "metadata": {
        "id": "ZupwU5VqW0Dg",
        "colab_type": "code",
        "colab": {}
      },
      "source": [
        ""
      ],
      "execution_count": 0,
      "outputs": []
    },
    {
      "cell_type": "code",
      "metadata": {
        "id": "0EFcBoAKwA5o",
        "colab_type": "code",
        "outputId": "b5b7b2a0-684e-4c1c-a8b2-8a9b580173d5",
        "colab": {
          "base_uri": "https://localhost:8080/",
          "height": 235
        }
      },
      "source": [
        "names = []\n",
        "scores = []\n",
        "\n",
        "scores1 = []\n",
        "scores2 = []\n",
        "\n",
        "for name, model in models:\n",
        "    model.fit(X_train, y_train)\n",
        "    y_pred = model.predict(X_test)\n",
        "    scores.append(r2_score(y_test, y_pred))\n",
        "    \n",
        "    scores1.append(model.score(X_train,y_train))\n",
        "    scores2.append(model.score(X_test,y_test))\n",
        "    \n",
        "    names.append(name)\n",
        "tr_split = pd.DataFrame({'Name': names, 'Accuray Score': scores, 'Train score':scores1, 'Test score':scores2})\n",
        "pd.DataFrame(tr_split)"
      ],
      "execution_count": 0,
      "outputs": [
        {
          "output_type": "execute_result",
          "data": {
            "text/html": [
              "<div>\n",
              "<style scoped>\n",
              "    .dataframe tbody tr th:only-of-type {\n",
              "        vertical-align: middle;\n",
              "    }\n",
              "\n",
              "    .dataframe tbody tr th {\n",
              "        vertical-align: top;\n",
              "    }\n",
              "\n",
              "    .dataframe thead th {\n",
              "        text-align: right;\n",
              "    }\n",
              "</style>\n",
              "<table border=\"1\" class=\"dataframe\">\n",
              "  <thead>\n",
              "    <tr style=\"text-align: right;\">\n",
              "      <th></th>\n",
              "      <th>Name</th>\n",
              "      <th>Accuray Score</th>\n",
              "      <th>Train score</th>\n",
              "      <th>Test score</th>\n",
              "    </tr>\n",
              "  </thead>\n",
              "  <tbody>\n",
              "    <tr>\n",
              "      <th>0</th>\n",
              "      <td>KNN</td>\n",
              "      <td>0.827639</td>\n",
              "      <td>0.888982</td>\n",
              "      <td>0.827639</td>\n",
              "    </tr>\n",
              "    <tr>\n",
              "      <th>1</th>\n",
              "      <td>DT</td>\n",
              "      <td>0.792084</td>\n",
              "      <td>1.000000</td>\n",
              "      <td>0.792084</td>\n",
              "    </tr>\n",
              "    <tr>\n",
              "      <th>2</th>\n",
              "      <td>BayRidge</td>\n",
              "      <td>0.566489</td>\n",
              "      <td>0.566286</td>\n",
              "      <td>0.566489</td>\n",
              "    </tr>\n",
              "    <tr>\n",
              "      <th>3</th>\n",
              "      <td>RF</td>\n",
              "      <td>0.887570</td>\n",
              "      <td>0.984171</td>\n",
              "      <td>0.887570</td>\n",
              "    </tr>\n",
              "    <tr>\n",
              "      <th>4</th>\n",
              "      <td>Lasso</td>\n",
              "      <td>0.530880</td>\n",
              "      <td>0.532055</td>\n",
              "      <td>0.530880</td>\n",
              "    </tr>\n",
              "    <tr>\n",
              "      <th>5</th>\n",
              "      <td>Ridge</td>\n",
              "      <td>0.566386</td>\n",
              "      <td>0.566198</td>\n",
              "      <td>0.566386</td>\n",
              "    </tr>\n",
              "  </tbody>\n",
              "</table>\n",
              "</div>"
            ],
            "text/plain": [
              "       Name  Accuray Score  Train score  Test score\n",
              "0       KNN       0.827639     0.888982    0.827639\n",
              "1        DT       0.792084     1.000000    0.792084\n",
              "2  BayRidge       0.566489     0.566286    0.566489\n",
              "3        RF       0.887570     0.984171    0.887570\n",
              "4     Lasso       0.530880     0.532055    0.530880\n",
              "5     Ridge       0.566386     0.566198    0.566386"
            ]
          },
          "metadata": {
            "tags": []
          },
          "execution_count": 111
        }
      ]
    },
    {
      "cell_type": "code",
      "metadata": {
        "id": "i93nJYrywA1g",
        "colab_type": "code",
        "outputId": "ac5e9bdf-9238-45e9-c5a9-dec098e360fc",
        "colab": {
          "base_uri": "https://localhost:8080/",
          "height": 279
        }
      },
      "source": [
        "plt.figure(figsize=(8,4))\n",
        "axis = sns.barplot(x = 'Name', y = 'Accuray Score', data = tr_split)\n",
        "axis.set(xlabel='Regressor', ylabel='Accuracy')\n",
        " \n",
        "for p in axis.patches:\n",
        "    height = p.get_height()\n",
        "    axis.text(p.get_x() + p.get_width()/2, height + 0.005, '{:1.4f}'.format(height), ha=\"center\") \n",
        "    \n",
        "plt.show()\n"
      ],
      "execution_count": 0,
      "outputs": [
        {
          "output_type": "display_data",
          "data": {
            "image/png": "[encoded data removed]",
            "text/plain": [
              "<Figure size 576x288 with 1 Axes>"
            ]
          },
          "metadata": {
            "tags": []
          }
        }
      ]
    },
    {
      "cell_type": "code",
      "metadata": {
        "id": "VUyMwA-KWkLc",
        "colab_type": "code",
        "colab": {}
      },
      "source": [
        ""
      ],
      "execution_count": 0,
      "outputs": []
    },
    {
      "cell_type": "markdown",
      "metadata": {
        "id": "sLdkKXduWoXM",
        "colab_type": "text"
      },
      "source": [
        "Cross_validation"
      ]
    },
    {
      "cell_type": "code",
      "metadata": {
        "id": "cHjKUq7g_cH6",
        "colab_type": "code",
        "outputId": "25cf1b72-2eb0-4a15-ec12-baeb77647794",
        "colab": {
          "base_uri": "https://localhost:8080/",
          "height": 235
        }
      },
      "source": [
        "names = []\n",
        "scores = []\n",
        "\n",
        "for name, model in models:\n",
        "    \n",
        "    kfold = KFold(n_splits=10, random_state=42, shuffle=True  ) \n",
        "    score = cross_val_score(model, X, y, cv=kfold).mean()\n",
        "    \n",
        "    names.append(name)\n",
        "    scores.append(score)\n",
        "kf_cross_val = pd.DataFrame({'Name': names, 'Score': scores, 'Train score':scores1, 'Test score':scores2})\n",
        "pd.DataFrame(kf_cross_val)"
      ],
      "execution_count": 0,
      "outputs": [
        {
          "output_type": "execute_result",
          "data": {
            "text/html": [
              "<div>\n",
              "<style scoped>\n",
              "    .dataframe tbody tr th:only-of-type {\n",
              "        vertical-align: middle;\n",
              "    }\n",
              "\n",
              "    .dataframe tbody tr th {\n",
              "        vertical-align: top;\n",
              "    }\n",
              "\n",
              "    .dataframe thead th {\n",
              "        text-align: right;\n",
              "    }\n",
              "</style>\n",
              "<table border=\"1\" class=\"dataframe\">\n",
              "  <thead>\n",
              "    <tr style=\"text-align: right;\">\n",
              "      <th></th>\n",
              "      <th>Name</th>\n",
              "      <th>Score</th>\n",
              "      <th>Train score</th>\n",
              "      <th>Test score</th>\n",
              "    </tr>\n",
              "  </thead>\n",
              "  <tbody>\n",
              "    <tr>\n",
              "      <th>0</th>\n",
              "      <td>KNN</td>\n",
              "      <td>0.837481</td>\n",
              "      <td>0.888982</td>\n",
              "      <td>0.827639</td>\n",
              "    </tr>\n",
              "    <tr>\n",
              "      <th>1</th>\n",
              "      <td>DT</td>\n",
              "      <td>0.794638</td>\n",
              "      <td>1.000000</td>\n",
              "      <td>0.792084</td>\n",
              "    </tr>\n",
              "    <tr>\n",
              "      <th>2</th>\n",
              "      <td>BayRidge</td>\n",
              "      <td>0.566317</td>\n",
              "      <td>0.566286</td>\n",
              "      <td>0.566489</td>\n",
              "    </tr>\n",
              "    <tr>\n",
              "      <th>3</th>\n",
              "      <td>RF</td>\n",
              "      <td>0.889758</td>\n",
              "      <td>0.984171</td>\n",
              "      <td>0.887570</td>\n",
              "    </tr>\n",
              "    <tr>\n",
              "      <th>4</th>\n",
              "      <td>Lasso</td>\n",
              "      <td>0.531999</td>\n",
              "      <td>0.532055</td>\n",
              "      <td>0.530880</td>\n",
              "    </tr>\n",
              "    <tr>\n",
              "      <th>5</th>\n",
              "      <td>Ridge</td>\n",
              "      <td>0.566259</td>\n",
              "      <td>0.566198</td>\n",
              "      <td>0.566386</td>\n",
              "    </tr>\n",
              "  </tbody>\n",
              "</table>\n",
              "</div>"
            ],
            "text/plain": [
              "       Name     Score  Train score  Test score\n",
              "0       KNN  0.837481     0.888982    0.827639\n",
              "1        DT  0.794638     1.000000    0.792084\n",
              "2  BayRidge  0.566317     0.566286    0.566489\n",
              "3        RF  0.889758     0.984171    0.887570\n",
              "4     Lasso  0.531999     0.532055    0.530880\n",
              "5     Ridge  0.566259     0.566198    0.566386"
            ]
          },
          "metadata": {
            "tags": []
          },
          "execution_count": 113
        }
      ]
    },
    {
      "cell_type": "markdown",
      "metadata": {
        "id": "69wYD2ULamKG",
        "colab_type": "text"
      },
      "source": [
        "Grid_search"
      ]
    },
    {
      "cell_type": "code",
      "metadata": {
        "id": "WKajRHTuiIFM",
        "colab_type": "code",
        "colab": {}
      },
      "source": [
        ""
      ],
      "execution_count": 0,
      "outputs": []
    },
    {
      "cell_type": "code",
      "metadata": {
        "id": "5JL_wVo_arBt",
        "colab_type": "code",
        "colab": {}
      },
      "source": [
        "# params = { 'n_neighbors':  [5,10,15]   , 'weights': ['uniform','distance'], \n",
        "#           'metric': ['minkowski','euclidean','manhattan'], 'scoring' : ['r2_score']}\n",
        "# knn= KNeighborsRegressor()"
      ],
      "execution_count": 0,
      "outputs": []
    },
    {
      "cell_type": "code",
      "metadata": {
        "id": "sXlfwAK7aq_U",
        "colab_type": "code",
        "colab": {}
      },
      "source": [
        "# grid= GridSearchCV(knn,\n",
        "#     params,\n",
        "#     n_jobs=None,\n",
        "#     iid='warn',\n",
        "#     refit=True,\n",
        "#     cv=10,\n",
        "#     verbose=0,\n",
        "#     pre_dispatch='2*n_jobs',\n",
        "#     error_score='raise-deprecating',\n",
        "#     return_train_score=True,  )\n",
        "\n",
        "# grid.fit(X,y)"
      ],
      "execution_count": 0,
      "outputs": []
    },
    {
      "cell_type": "code",
      "metadata": {
        "id": "-L46RxkGhBip",
        "colab_type": "code",
        "colab": {}
      },
      "source": [
        ""
      ],
      "execution_count": 0,
      "outputs": []
    },
    {
      "cell_type": "code",
      "metadata": {
        "id": "CI9EkvZOaq8x",
        "colab_type": "code",
        "colab": {}
      },
      "source": [
        "# print('best_score:',grid.best_score_)\n",
        "# print('best_param:',grid.best_params_)\n",
        "# print('best_estimator:',grid.best_estimator_)"
      ],
      "execution_count": 0,
      "outputs": []
    },
    {
      "cell_type": "code",
      "metadata": {
        "id": "ST0Y-oM_aq6B",
        "colab_type": "code",
        "colab": {}
      },
      "source": [
        ""
      ],
      "execution_count": 0,
      "outputs": []
    },
    {
      "cell_type": "code",
      "metadata": {
        "id": "hlBSNDOLaq2j",
        "colab_type": "code",
        "colab": {}
      },
      "source": [
        ""
      ],
      "execution_count": 0,
      "outputs": []
    },
    {
      "cell_type": "markdown",
      "metadata": {
        "id": "W1yP3CjIaI-6",
        "colab_type": "text"
      },
      "source": [
        "Bagging"
      ]
    },
    {
      "cell_type": "code",
      "metadata": {
        "id": "QwBTT1b4BUrC",
        "colab_type": "code",
        "colab": {}
      },
      "source": [
        "from sklearn.ensemble import BaggingRegressor"
      ],
      "execution_count": 0,
      "outputs": []
    },
    {
      "cell_type": "code",
      "metadata": {
        "id": "HMJUdo1hVMHy",
        "colab_type": "code",
        "outputId": "3ac70fd6-65e0-4c97-fe13-9d05468347a1",
        "colab": {
          "base_uri": "https://localhost:8080/",
          "height": 51
        }
      },
      "source": [
        "kfold = KFold(n_splits=10,  random_state=42, shuffle=True )\n",
        "knn = KNeighborsRegressor()\n",
        "model = BaggingRegressor(base_estimator=knn, n_estimators=5, random_state=42)\n",
        "results = cross_val_score(model, X, y, cv=kfold)\n",
        "print(results.mean())"
      ],
      "execution_count": 0,
      "outputs": [
        {
          "output_type": "stream",
          "text": [
            "0.8373185049814127\n",
            "0.8373185049814127\n"
          ],
          "name": "stdout"
        }
      ]
    },
    {
      "cell_type": "code",
      "metadata": {
        "id": "_R_turo5VMGK",
        "colab_type": "code",
        "outputId": "9ec11af7-ccbb-4b9a-8896-43e0b54f716b",
        "colab": {
          "base_uri": "https://localhost:8080/",
          "height": 102
        }
      },
      "source": [
        "model = BaggingRegressor()\n",
        "model.fit(X_train, y_train)\n",
        "print(); print(model)"
      ],
      "execution_count": 0,
      "outputs": [
        {
          "output_type": "stream",
          "text": [
            "\n",
            "BaggingRegressor(base_estimator=None, bootstrap=True, bootstrap_features=False,\n",
            "                 max_features=1.0, max_samples=1.0, n_estimators=10,\n",
            "                 n_jobs=None, oob_score=False, random_state=None, verbose=0,\n",
            "                 warm_start=False)\n"
          ],
          "name": "stdout"
        }
      ]
    },
    {
      "cell_type": "code",
      "metadata": {
        "id": "k4mmuee1VMEO",
        "colab_type": "code",
        "colab": {}
      },
      "source": [
        "# make predictions\n",
        "expected_y  = y_test\n",
        "predicted_y = model.predict(X_test)"
      ],
      "execution_count": 0,
      "outputs": []
    },
    {
      "cell_type": "code",
      "metadata": {
        "id": "GPhn0ezHVMCg",
        "colab_type": "code",
        "outputId": "615b265b-5e52-49fa-cb7f-29ad58ac2beb",
        "colab": {
          "base_uri": "https://localhost:8080/",
          "height": 119
        }
      },
      "source": [
        "\n",
        "print(); print('ensemble.BaggingRegressor(): ')\n",
        "print(); print(\"Accuracy:\",r2_score(expected_y, predicted_y))\n",
        "print(); print(\"RMSE:\",np.sqrt(mean_squared_error(expected_y, predicted_y)))\n"
      ],
      "execution_count": 0,
      "outputs": [
        {
          "output_type": "stream",
          "text": [
            "\n",
            "ensemble.BaggingRegressor(): \n",
            "\n",
            "Accuracy: 0.8780027314186518\n",
            "\n",
            "RMSE: 0.9777514692927783\n"
          ],
          "name": "stdout"
        }
      ]
    },
    {
      "cell_type": "code",
      "metadata": {
        "id": "Rjt_tdAOVMAR",
        "colab_type": "code",
        "colab": {}
      },
      "source": [
        ""
      ],
      "execution_count": 0,
      "outputs": []
    },
    {
      "cell_type": "code",
      "metadata": {
        "id": "U9s1yGAYVL5e",
        "colab_type": "code",
        "colab": {}
      },
      "source": [
        ""
      ],
      "execution_count": 0,
      "outputs": []
    }
  ]
}